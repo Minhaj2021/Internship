{
 "cells": [
  {
   "cell_type": "markdown",
   "id": "6f7a1586",
   "metadata": {},
   "source": [
    "# Web Scraping Assignment-3"
   ]
  },
  {
   "cell_type": "markdown",
   "id": "1b317349",
   "metadata": {},
   "source": [
    " 1.Product input from user"
   ]
  },
  {
   "cell_type": "code",
   "execution_count": 1,
   "id": "258dfd6a",
   "metadata": {},
   "outputs": [],
   "source": [
    "# Importing Libraries\n",
    "import selenium\n",
    "import pandas as pd\n",
    "import time\n",
    "from bs4 import BeautifulSoup as bs\n",
    "\n",
    "# Importing selenium webdriver \n",
    "from selenium import webdriver\n",
    "\n",
    "#importing modulefor mouse hovering\n",
    "from selenium.webdriver import ActionChains\n",
    "\n",
    "# Importing required Exceptions which needs to handled\n",
    "from selenium.common.exceptions import StaleElementReferenceException, NoSuchElementException\n",
    "\n",
    "#Importing requests\n",
    "import requests\n",
    "\n",
    "import warnings   #importing warning modules for ignoring the warnings\n",
    "warnings.filterwarnings('ignore')\n",
    "\n",
    "import re  #regex"
   ]
  },
  {
   "cell_type": "code",
   "execution_count": 3,
   "id": "fee1b27f",
   "metadata": {},
   "outputs": [],
   "source": [
    "#connecting to webdriver\n",
    "driver=webdriver.Chrome(r'C:\\Program Files (x86)\\chromedriver.exe')\n",
    "#opening the url\n",
    "driver.get('https://www.amazon.in/')\n",
    "time.sleep(5)\n",
    "driver.maximize_window()"
   ]
  },
  {
   "cell_type": "code",
   "execution_count": 4,
   "id": "259b9b81",
   "metadata": {},
   "outputs": [
    {
     "name": "stdout",
     "output_type": "stream",
     "text": [
      "mobiles\n"
     ]
    }
   ],
   "source": [
    "#taking input from user\n",
    "pro=(input())\n",
    "#search bar\n",
    "search=driver.find_element_by_id(\"twotabsearchtextbox\")\n",
    "#sending value given by user\n",
    "search.send_keys(pro)\n",
    "#clicking on search bar\n",
    "search_btn=driver.find_element_by_id(\"nav-search-submit-button\")\n",
    "search_btn.click()"
   ]
  },
  {
   "cell_type": "markdown",
   "id": "654f8168",
   "metadata": {},
   "source": [
    "# 2."
   ]
  },
  {
   "cell_type": "code",
   "execution_count": 6,
   "id": "91dbaa0a",
   "metadata": {},
   "outputs": [],
   "source": [
    "mob_url=[]\n",
    "#product url\n",
    "for u in driver.find_elements_by_xpath(\"//a[@class='a-link-normal a-text-normal']\"):\n",
    "    mob_url.append(u.get_attribute(\"href\"))"
   ]
  },
  {
   "cell_type": "code",
   "execution_count": 7,
   "id": "9f7c1f28",
   "metadata": {},
   "outputs": [
    {
     "data": {
      "text/plain": [
       "22"
      ]
     },
     "execution_count": 7,
     "metadata": {},
     "output_type": "execute_result"
    }
   ],
   "source": [
    "len(mob_url)"
   ]
  },
  {
   "cell_type": "code",
   "execution_count": 8,
   "id": "53f2ea92",
   "metadata": {},
   "outputs": [],
   "source": [
    "#creating empty lists\n",
    "brand_mob=[]\n",
    "mob_name=[]\n",
    "rating_mob=[]\n",
    "no_ratings=[]\n",
    "price_mob=[]\n",
    "return_mob=[]\n",
    "availability=[]\n",
    "others=[]"
   ]
  },
  {
   "cell_type": "code",
   "execution_count": 9,
   "id": "87512359",
   "metadata": {},
   "outputs": [],
   "source": [
    "for page in range(1,4):\n",
    "    #page link\n",
    "    page_url=\"https://www.amazon.in/s?k=mobiles&page=2&qid=1639552718&ref=sr_pg_\"+str(page)\n",
    "    #connecting to each page\n",
    "    driver.get(page_url)\n",
    "    \n",
    "    for mb in mob_url:\n",
    "        driver.get(mb)\n",
    "        time.sleep(3)\n",
    "        #brand\n",
    "        try:\n",
    "            br=driver.find_element_by_xpath(\"/html/body/div[2]/div[2]/div[5]/div[3]/div[4]/div[41]/div/table/tbody/tr[3]/td[2]/span\")\n",
    "            brand_mob.append(br.text)\n",
    "        except:\n",
    "            brand_mob.append('-')\n",
    "            \n",
    "        #name\n",
    "        try:\n",
    "            smart_name=driver.find_element_by_xpath(\"/html/body/div[2]/div[2]/div[5]/div[3]/div[4]/div[41]/div/table/tbody/tr[1]/td[2]/span\")\n",
    "            mob_name.append(smart_name.text)\n",
    "        except:\n",
    "            mob_name.append('-')\n",
    "        #ratings\n",
    "        try:\n",
    "            rate_mob=driver.find_element_by_xpath(\"/html/body/div[2]/div[2]/div[5]/div[38]/div/div/div[1]/div[2]/div[1]/div/div[2]/div/span/span\")\n",
    "            rating_mob.append(rate_mob.text)\n",
    "        except NoSuchElementException as ne:\n",
    "            rating_mob.append('-')\n",
    "        #number of ratings    \n",
    "        try:\n",
    "            rate_num=driver.find_element_by_xpath(\"/html/body/div[2]/div[2]/div[5]/div[38]/div/div/div[1]/div[2]/div[2]/span\")\n",
    "            no_ratings.append(rate_num.text)\n",
    "        except NoSuchElementException as n:\n",
    "            no_ratings.append('-')\n",
    "        #price    \n",
    "        try:\n",
    "            mrp=driver.find_element_by_xpath(\"/html/body/div[2]/div[2]/div[5]/div[3]/div[4]/div[9]/div[1]/div/table/tbody/tr[2]/td[2]/span[1]\")\n",
    "            price_mob.append(mrp.text)\n",
    "        except:\n",
    "            price_mob.append('-')\n",
    "        #return or exchange\n",
    "        try:\n",
    "            exchange=driver.find_element_by_xpath(\"//div[@class='a-column a-span3 a-text-center icon-container icon-grid-width celwidget']\")\n",
    "            return_mob.append(exchange.text)\n",
    "        except:\n",
    "            return_mob.append('-')\n",
    "        #availability    \n",
    "        try:\n",
    "            available=driver.find_element_by_xpath(\"//span[@class='a-size-medium a-color-success']\")\n",
    "            availability.append(available.text)\n",
    "        except:\n",
    "            availability.append('-')\n",
    "        #other details    \n",
    "        try:\n",
    "            other=driver.find_element_by_xpath(\"/html/body/div[2]/div[2]/div[5]/div[29]/div/div/div/div/div/div[1]/div[1]/div/div[2]/div/div/table/tbody/tr[9]/td\")\n",
    "            others.append(other.text)\n",
    "        except:\n",
    "            others.append('-')   "
   ]
  },
  {
   "cell_type": "code",
   "execution_count": 10,
   "id": "14e08e48",
   "metadata": {},
   "outputs": [
    {
     "name": "stdout",
     "output_type": "stream",
     "text": [
      "66 66 66 66 66 66 66 66 66\n"
     ]
    }
   ],
   "source": [
    "print(len(others),len(brand_mob),len(mob_name),len(rating_mob),len(no_ratings),len(price_mob),len(return_mob),\n",
    "      len(availability),len(others))"
   ]
  },
  {
   "cell_type": "code",
   "execution_count": 11,
   "id": "f23902fb",
   "metadata": {},
   "outputs": [
    {
     "data": {
      "text/html": [
       "<div>\n",
       "<style scoped>\n",
       "    .dataframe tbody tr th:only-of-type {\n",
       "        vertical-align: middle;\n",
       "    }\n",
       "\n",
       "    .dataframe tbody tr th {\n",
       "        vertical-align: top;\n",
       "    }\n",
       "\n",
       "    .dataframe thead th {\n",
       "        text-align: right;\n",
       "    }\n",
       "</style>\n",
       "<table border=\"1\" class=\"dataframe\">\n",
       "  <thead>\n",
       "    <tr style=\"text-align: right;\">\n",
       "      <th></th>\n",
       "      <th>Brand</th>\n",
       "      <th>Name</th>\n",
       "      <th>Ratings</th>\n",
       "      <th>Price</th>\n",
       "      <th>Return</th>\n",
       "      <th>Availability</th>\n",
       "      <th>Other Details</th>\n",
       "    </tr>\n",
       "  </thead>\n",
       "  <tbody>\n",
       "    <tr>\n",
       "      <th>0</th>\n",
       "      <td>Samsung</td>\n",
       "      <td>Samsung Galaxy M52 5G</td>\n",
       "      <td>4.2 out of 5</td>\n",
       "      <td>₹31,999.00</td>\n",
       "      <td>7 Days Replacement</td>\n",
       "      <td>In stock.</td>\n",
       "      <td>Wireless</td>\n",
       "    </tr>\n",
       "    <tr>\n",
       "      <th>1</th>\n",
       "      <td>Samsung</td>\n",
       "      <td>Samsung Galaxy Z Flip3 5G</td>\n",
       "      <td>4.2 out of 5</td>\n",
       "      <td>₹84,999.00</td>\n",
       "      <td>7 Days Replacement</td>\n",
       "      <td>In stock.</td>\n",
       "      <td>Wireless</td>\n",
       "    </tr>\n",
       "    <tr>\n",
       "      <th>2</th>\n",
       "      <td>Smartphone</td>\n",
       "      <td>Redmi 9A (2GB+32GB)</td>\n",
       "      <td>4.2 out of 5</td>\n",
       "      <td>₹7,299.00</td>\n",
       "      <td>7 Days Replacement</td>\n",
       "      <td>In stock.</td>\n",
       "      <td>HD+</td>\n",
       "    </tr>\n",
       "    <tr>\n",
       "      <th>3</th>\n",
       "      <td>Oppo</td>\n",
       "      <td>CPH2015</td>\n",
       "      <td>4.2 out of 5</td>\n",
       "      <td>₹12,990.00</td>\n",
       "      <td>7 Days Replacement</td>\n",
       "      <td>In stock.</td>\n",
       "      <td>269 ppi pixel density</td>\n",
       "    </tr>\n",
       "    <tr>\n",
       "      <th>4</th>\n",
       "      <td>Samsung</td>\n",
       "      <td>Galaxy M12</td>\n",
       "      <td>4.1 out of 5</td>\n",
       "      <td>₹11,499.00</td>\n",
       "      <td>7 Days Replacement</td>\n",
       "      <td>In stock.</td>\n",
       "      <td>LCD</td>\n",
       "    </tr>\n",
       "  </tbody>\n",
       "</table>\n",
       "</div>"
      ],
      "text/plain": [
       "        Brand                       Name       Ratings       Price  \\\n",
       "0     Samsung      Samsung Galaxy M52 5G  4.2 out of 5  ₹31,999.00   \n",
       "1     Samsung  Samsung Galaxy Z Flip3 5G  4.2 out of 5  ₹84,999.00   \n",
       "2  Smartphone        Redmi 9A (2GB+32GB)  4.2 out of 5   ₹7,299.00   \n",
       "3        Oppo                    CPH2015  4.2 out of 5  ₹12,990.00   \n",
       "4     Samsung                 Galaxy M12  4.1 out of 5  ₹11,499.00   \n",
       "\n",
       "               Return Availability          Other Details  \n",
       "0  7 Days Replacement    In stock.               Wireless  \n",
       "1  7 Days Replacement    In stock.               Wireless  \n",
       "2  7 Days Replacement    In stock.                    HD+  \n",
       "3  7 Days Replacement    In stock.  269 ppi pixel density  \n",
       "4  7 Days Replacement    In stock.                    LCD  "
      ]
     },
     "execution_count": 11,
     "metadata": {},
     "output_type": "execute_result"
    }
   ],
   "source": [
    "#dataframe\n",
    "dataframe=pd.DataFrame({'Brand':brand_mob,'Name':mob_name,'Ratings':rating_mob,'Price':price_mob,'Return':return_mob,\n",
    "                       'Availability':availability,'Other Details':others})\n",
    "dataframe.head()"
   ]
  },
  {
   "cell_type": "code",
   "execution_count": 12,
   "id": "cb4dca9d",
   "metadata": {},
   "outputs": [],
   "source": [
    "#csv\n",
    "dataframe.to_csv('Product_details.csv')"
   ]
  },
  {
   "cell_type": "markdown",
   "id": "a420e0ba",
   "metadata": {},
   "source": [
    "# 3."
   ]
  },
  {
   "cell_type": "code",
   "execution_count": 17,
   "id": "31051153",
   "metadata": {},
   "outputs": [],
   "source": [
    "#connecting to webdriver\n",
    "driver_fruit=webdriver.Chrome(r'C:\\Program Files (x86)\\chromedriver.exe')\n",
    "#opening the url\n",
    "driver_fruit.get('https://images.google.com/?gws_rd=ssl')\n",
    "time.sleep(3)\n",
    "driver_fruit.maximize_window()"
   ]
  },
  {
   "cell_type": "code",
   "execution_count": 18,
   "id": "10b332b3",
   "metadata": {},
   "outputs": [],
   "source": [
    "#search bar\n",
    "search_fruit=driver_fruit.find_element_by_xpath(\"//input[@class='gLFyf gsfi']\")\n",
    "#setting sleep time \n",
    "time.sleep(4)\n",
    "#searching for fruits\n",
    "search_fruit.send_keys(\"fruits\")\n",
    "#clicking on search bar\n",
    "search_btn=driver_fruit.find_element_by_xpath(\"//span[@class='z1asCe MZy1Rb']\")\n",
    "search_btn.click()\n",
    "#refreshing\n",
    "driver_fruit.refresh()\n",
    "#scrolling\n",
    "driver_fruit.execute_script(\"window.scrollTo(1,document.body.scrollHeight)\")\n",
    "time.sleep(9)"
   ]
  },
  {
   "cell_type": "code",
   "execution_count": 20,
   "id": "b8482b9a",
   "metadata": {},
   "outputs": [],
   "source": [
    "#creating emptylist\n",
    "img_fruit=[]\n",
    "img=driver_fruit.find_elements_by_xpath(\"//img[@class='rg_i Q4LuWd']\")\n",
    "for im in img:\n",
    "    img_fruit.append(im.get_attribute('src'))#scrapped 100 images"
   ]
  },
  {
   "cell_type": "code",
   "execution_count": 21,
   "id": "6f1d46fe",
   "metadata": {},
   "outputs": [],
   "source": [
    "driver_fruit.close()"
   ]
  },
  {
   "cell_type": "code",
   "execution_count": 22,
   "id": "81125c82",
   "metadata": {},
   "outputs": [],
   "source": [
    "#car\n",
    "#connecting to webdriver\n",
    "driver_car=webdriver.Chrome(r'C:\\Program Files (x86)\\chromedriver.exe')\n",
    "#opening the url\n",
    "driver_car.get('https://images.google.com/?gws_rd=ssl')\n",
    "time.sleep(3)\n",
    "driver_car.maximize_window()"
   ]
  },
  {
   "cell_type": "code",
   "execution_count": 23,
   "id": "f69cc371",
   "metadata": {},
   "outputs": [],
   "source": [
    "#search bar\n",
    "search_car=driver_car.find_element_by_xpath(\"//input[@class='gLFyf gsfi']\")\n",
    "\n",
    "time.sleep(3)\n",
    "#searching for cars\n",
    "search_car.send_keys(\"cars\")\n",
    "#clicking on search bar\n",
    "search_btn1=driver_car.find_element_by_xpath(\"//span[@class='z1asCe MZy1Rb']\")\n",
    "search_btn1.click()\n",
    "#refreshing\n",
    "driver_car.refresh()\n",
    "#scrolling down\n",
    "driver_car.execute_script(\"window.scrollTo(1,document.body.scrollHeight)\")\n",
    "time.sleep(9)"
   ]
  },
  {
   "cell_type": "code",
   "execution_count": 24,
   "id": "0966c317",
   "metadata": {},
   "outputs": [
    {
     "data": {
      "text/plain": [
       "100"
      ]
     },
     "execution_count": 24,
     "metadata": {},
     "output_type": "execute_result"
    }
   ],
   "source": [
    "img_car=[]#craeting empty list\n",
    "img_c=driver_car.find_elements_by_xpath(\"//img[@class='rg_i Q4LuWd']\")\n",
    "for imc in img_c:\n",
    "    img_car.append(imc.get_attribute('src'))\n",
    "len(img_car)"
   ]
  },
  {
   "cell_type": "code",
   "execution_count": 25,
   "id": "8414c40a",
   "metadata": {},
   "outputs": [],
   "source": [
    "#closing driver\n",
    "driver_car.close()"
   ]
  },
  {
   "cell_type": "code",
   "execution_count": 26,
   "id": "65921811",
   "metadata": {},
   "outputs": [],
   "source": [
    "#machine learning\n",
    "#connecting to webdriver\n",
    "driver_ml=webdriver.Chrome(r'C:\\Program Files (x86)\\chromedriver.exe')\n",
    "#opening the url\n",
    "driver_ml.get('https://images.google.com/?gws_rd=ssl')\n",
    "time.sleep(3)\n",
    "driver_ml.maximize_window()"
   ]
  },
  {
   "cell_type": "code",
   "execution_count": 27,
   "id": "322dc764",
   "metadata": {},
   "outputs": [],
   "source": [
    "#search bar\n",
    "search_ml=driver_ml.find_element_by_xpath(\"//input[@class='gLFyf gsfi']\")\n",
    "time.sleep(5)\n",
    "#searching machine learning\n",
    "search_ml.send_keys(\"Machine Learning\")\n",
    "#clicking on search bar\n",
    "search_btn2=driver_ml.find_element_by_xpath(\"//span[@class='z1asCe MZy1Rb']\")\n",
    "search_btn2.click()\n",
    "#refreshing\n",
    "driver_ml.refresh()\n",
    "#scrolling down\n",
    "driver_ml.execute_script(\"window.scrollTo(1,document.body.scrollHeight)\")\n",
    "time.sleep(9)"
   ]
  },
  {
   "cell_type": "code",
   "execution_count": 28,
   "id": "f274b5c5",
   "metadata": {},
   "outputs": [
    {
     "data": {
      "text/plain": [
       "100"
      ]
     },
     "execution_count": 28,
     "metadata": {},
     "output_type": "execute_result"
    }
   ],
   "source": [
    "img_ml=[]#creating empty list\n",
    "img_m=driver_ml.find_elements_by_xpath(\"//img[@class='rg_i Q4LuWd']\")\n",
    "for iml in img_m:\n",
    "    img_ml.append(iml.get_attribute('src'))\n",
    "len(img_ml)#scrapped 100 images"
   ]
  },
  {
   "cell_type": "code",
   "execution_count": 29,
   "id": "c5f89fcb",
   "metadata": {},
   "outputs": [],
   "source": [
    "#closing driver\n",
    "driver_ml.close()"
   ]
  },
  {
   "cell_type": "markdown",
   "id": "52d4b616",
   "metadata": {},
   "source": [
    "# 4."
   ]
  },
  {
   "cell_type": "code",
   "execution_count": 31,
   "id": "d4a29c10",
   "metadata": {},
   "outputs": [],
   "source": [
    "#connecting to webdriver\n",
    "driver4=webdriver.Chrome(r'C:\\Program Files (x86)\\chromedriver.exe')\n",
    "#opening the url\n",
    "driver4.get('https://www.flipkart.com/')\n",
    "time.sleep(3)\n",
    "#closing the login page\n",
    "button=driver4.find_element_by_xpath(\"//button[@class='_2KpZ6l _2doB4z']\")\n",
    "button.click()"
   ]
  },
  {
   "cell_type": "code",
   "execution_count": 32,
   "id": "7fcdb124",
   "metadata": {},
   "outputs": [],
   "source": [
    "#searching the product name in search bar\n",
    "search_pro=driver4.find_element_by_xpath(\"//div[@class='_3OO5Xc']/input\")\n",
    "time.sleep(4)\n",
    "#enter manually smartphone on search bar\n",
    "search_pro.send_keys(\"smartphones\")\n",
    "#clicking search button in the search button\n",
    "search_btn=driver4.find_element_by_xpath(\"//button[@class='L0Z3Pu']\")\n",
    "search_btn.click()"
   ]
  },
  {
   "cell_type": "code",
   "execution_count": 33,
   "id": "de867425",
   "metadata": {},
   "outputs": [],
   "source": [
    "#product url\n",
    "pro_url=[]\n",
    "for u in driver4.find_elements_by_xpath(\"//a[@class='_1fQZEK']\"):\n",
    "    pro_url.append(u.get_attribute(\"href\"))"
   ]
  },
  {
   "cell_type": "code",
   "execution_count": 34,
   "id": "0a726bbd",
   "metadata": {},
   "outputs": [],
   "source": [
    "#creating empty lists\n",
    "smart_name=[]\n",
    "color=[]\n",
    "ram=[]\n",
    "storage=[]\n",
    "primary_cam=[]\n",
    "secondary_cam=[]\n",
    "display_size=[]\n",
    "resolution=[]\n",
    "processor=[]\n",
    "process_cores=[]\n",
    "battery=[]\n",
    "price_smart=[]"
   ]
  },
  {
   "cell_type": "code",
   "execution_count": 35,
   "id": "fe57f8b8",
   "metadata": {},
   "outputs": [],
   "source": [
    " for p in pro_url:\n",
    "        driver4.get(p)\n",
    "        time.sleep(3)\n",
    "        #name\n",
    "        try:\n",
    "            smart=driver4.find_element_by_xpath(\"//span[@class='B_NuCI']\")\n",
    "            smart_name.append(smart.text)\n",
    "        except:\n",
    "            smart_name.append('-')\n",
    "            \n",
    "        #clicking read more\n",
    "        read_more=driver4.find_element_by_xpath(\"//button[@class='_2KpZ6l _1FH0tX']\")\n",
    "        time.sleep(2)\n",
    "        read_more.click()\n",
    "        #color    \n",
    "        try:\n",
    "            colour=driver4.find_element_by_xpath(\"/html/body/div[1]/div/div[3]/div[1]/div[2]/div[9]/div[5]/div/div[2]/div[1]/div[1]/table/tbody/tr[4]/td[2]/ul/li\")\n",
    "            color.append(colour.text)\n",
    "        except:\n",
    "            color.append('-')\n",
    "        #ram    \n",
    "        try:\n",
    "            temp=driver4.find_element_by_xpath(\"/html/body/div[1]/div/div[3]/div[1]/div[2]/div[9]/div[5]/div/div[2]/div[1]/div[4]/table/tbody/tr[2]/td[2]/ul/li\")\n",
    "            ram.append(temp.text)\n",
    "        except:\n",
    "            ram.append('-')\n",
    "        #rom    \n",
    "        try:\n",
    "            rom=driver4.find_element_by_xpath(\"/html/body/div[1]/div/div[3]/div[1]/div[2]/div[9]/div[5]/div/div[2]/div[1]/div[4]/table/tbody/tr[1]/td[2]/ul/li\")\n",
    "            storage.append(rom.text)\n",
    "        except:\n",
    "            storage.append('-')\n",
    "        #primary camera    \n",
    "        try:\n",
    "            prime=driver4.find_element_by_xpath(\"/html/body/div[1]/div/div[3]/div[1]/div[2]/div[9]/div[5]/div/div[2]/div[1]/div[5]/table/tbody/tr[2]/td[2]/ul/li\")\n",
    "            primary_cam.append(prime.text)\n",
    "        except:\n",
    "            primary_cam.append('-')\n",
    "        #secondary camera\n",
    "        try:\n",
    "            secondary=driver4.find_element_by_xpath(\"/html/body/div[1]/div/div[3]/div[1]/div[2]/div[9]/div[5]/div/div[2]/div[1]/div[5]/table/tbody/tr[5]/td[2]/ul/li\")\n",
    "            secondary_cam.append(secondary.text)\n",
    "        except:\n",
    "            secondary_cam.append('-')\n",
    "        #display size    \n",
    "        try:\n",
    "            display=driver4.find_element_by_xpath(\"/html/body/div[1]/div/div[3]/div[1]/div[2]/div[9]/div[5]/div/div[2]/div[1]/div[2]/table/tbody/tr[1]/td[2]/ul/li\")\n",
    "            display_size.append(display.text)\n",
    "        except:\n",
    "            display_size.append('-')\n",
    "        #display rsolution    \n",
    "        try:\n",
    "            res=driver4.find_element_by_xpath(\"/html/body/div[1]/div/div[3]/div[1]/div[2]/div[9]/div[5]/div/div[2]/div[1]/div[2]/table/tbody/tr[2]/td[2]/ul/li\")\n",
    "            resolution.append(res.text)\n",
    "        except:\n",
    "            resolution.append('-')\n",
    "        #processor    \n",
    "        try:\n",
    "            process=driver4.find_element_by_xpath(\"/html/body/div[1]/div/div[3]/div[1]/div[2]/div[9]/div[5]/div/div[2]/div[1]/div[3]/table/tbody/tr[2]/td[2]/ul/li\")\n",
    "            processor.append(process.text)\n",
    "        except:\n",
    "            processor.append('-')\n",
    "        #processor cores    \n",
    "        try:\n",
    "            cores=driver4.find_element_by_xpath(\"/html/body/div[1]/div/div[3]/div[1]/div[2]/div[9]/div[5]/div/div[2]/div[1]/div[3]/table/tbody/tr[3]/td[2]/ul/li\")\n",
    "            process_cores.append(cores.text)\n",
    "        except:\n",
    "            process_cores.append('-')\n",
    "        #battery capacity    \n",
    "        try:\n",
    "            capacity=driver4.find_element_by_xpath(\"/html/body/div[1]/div/div[3]/div[1]/div[2]/div[9]/div[5]/div/div[2]/div[1]/div[9]/table/tbody/tr/td[2]/ul/li\")\n",
    "            battery.append(capacity.text)\n",
    "        except:\n",
    "            battery.append('-')\n",
    "        #price\n",
    "        try:\n",
    "            price_s=driver4.find_element_by_xpath(\"/html/body/div[1]/div/div[3]/div[1]/div[2]/div[2]/div/div[4]/div[1]/div/div[1]\")\n",
    "            price_smart.append(price_s.text)\n",
    "        except:\n",
    "            price_smart.append('-')          "
   ]
  },
  {
   "cell_type": "code",
   "execution_count": 36,
   "id": "725b634a",
   "metadata": {},
   "outputs": [
    {
     "name": "stdout",
     "output_type": "stream",
     "text": [
      "24 24 24 24 24 24 24 24 24 24 24 24 24\n"
     ]
    }
   ],
   "source": [
    "print(len(smart_name),len(pro_url),len(color),len(ram),len(storage),len(primary_cam),len(secondary_cam),len(display_size),\n",
    "     len(resolution),len(processor),len(process_cores),len(battery),len(price_smart))"
   ]
  },
  {
   "cell_type": "code",
   "execution_count": 37,
   "id": "640d525c",
   "metadata": {},
   "outputs": [
    {
     "data": {
      "text/html": [
       "<div>\n",
       "<style scoped>\n",
       "    .dataframe tbody tr th:only-of-type {\n",
       "        vertical-align: middle;\n",
       "    }\n",
       "\n",
       "    .dataframe tbody tr th {\n",
       "        vertical-align: top;\n",
       "    }\n",
       "\n",
       "    .dataframe thead th {\n",
       "        text-align: right;\n",
       "    }\n",
       "</style>\n",
       "<table border=\"1\" class=\"dataframe\">\n",
       "  <thead>\n",
       "    <tr style=\"text-align: right;\">\n",
       "      <th></th>\n",
       "      <th>Name</th>\n",
       "      <th>Color</th>\n",
       "      <th>Ram</th>\n",
       "      <th>Rom</th>\n",
       "      <th>Primary Camera</th>\n",
       "      <th>Secondary Camera</th>\n",
       "      <th>Display Size</th>\n",
       "      <th>Display Resolution</th>\n",
       "      <th>Processor</th>\n",
       "      <th>Processor Cores</th>\n",
       "      <th>Battery Capacity</th>\n",
       "      <th>Price</th>\n",
       "      <th>Product_url</th>\n",
       "    </tr>\n",
       "  </thead>\n",
       "  <tbody>\n",
       "    <tr>\n",
       "      <th>0</th>\n",
       "      <td>realme Narzo 50i (Mint Green, 32 GB)  (2 GB RAM)</td>\n",
       "      <td>Mint Green</td>\n",
       "      <td>2 GB</td>\n",
       "      <td>32 GB</td>\n",
       "      <td>8MP Rear Camera</td>\n",
       "      <td>5MP Front Camera</td>\n",
       "      <td>16.51 cm (6.5 inch)</td>\n",
       "      <td>1600 x 720 Pixels</td>\n",
       "      <td>SC9863A</td>\n",
       "      <td>Octa Core</td>\n",
       "      <td>5000 mAh</td>\n",
       "      <td>₹7,499</td>\n",
       "      <td>https://www.flipkart.com/realme-narzo-50i-mint...</td>\n",
       "    </tr>\n",
       "    <tr>\n",
       "      <th>1</th>\n",
       "      <td>realme Narzo 50i (Carbon Black, 32 GB)  (2 GB ...</td>\n",
       "      <td>Carbon Black</td>\n",
       "      <td>2 GB</td>\n",
       "      <td>32 GB</td>\n",
       "      <td>8MP Rear Camera</td>\n",
       "      <td>5MP Front Camera</td>\n",
       "      <td>16.51 cm (6.5 inch)</td>\n",
       "      <td>1600 x 720 Pixels</td>\n",
       "      <td>SC9863A</td>\n",
       "      <td>Octa Core</td>\n",
       "      <td>5000 mAh</td>\n",
       "      <td>₹7,499</td>\n",
       "      <td>https://www.flipkart.com/realme-narzo-50i-carb...</td>\n",
       "    </tr>\n",
       "    <tr>\n",
       "      <th>2</th>\n",
       "      <td>realme Narzo 50i (Mint Green, 64 GB)  (4 GB RAM)</td>\n",
       "      <td>Mint Green</td>\n",
       "      <td>4 GB</td>\n",
       "      <td>64 GB</td>\n",
       "      <td>8MP Rear Camera</td>\n",
       "      <td>5MP Front Camera</td>\n",
       "      <td>16.51 cm (6.5 inch)</td>\n",
       "      <td>1600 x 720 Pixels</td>\n",
       "      <td>SC9863A</td>\n",
       "      <td>Octa Core</td>\n",
       "      <td>5000 mAh</td>\n",
       "      <td>₹8,999</td>\n",
       "      <td>https://www.flipkart.com/realme-narzo-50i-mint...</td>\n",
       "    </tr>\n",
       "    <tr>\n",
       "      <th>3</th>\n",
       "      <td>GIONEE Max Pro (Black, 32 GB)  (3 GB RAM)</td>\n",
       "      <td>Black</td>\n",
       "      <td>3 GB</td>\n",
       "      <td>32 GB</td>\n",
       "      <td>13MP + 2MP</td>\n",
       "      <td>8MP Front Camera</td>\n",
       "      <td>16.56 cm (6.52 inch)</td>\n",
       "      <td>1560 x 720 Pixels</td>\n",
       "      <td>Octa Core</td>\n",
       "      <td>Octa Core</td>\n",
       "      <td>6000 mAh</td>\n",
       "      <td>₹7,299</td>\n",
       "      <td>https://www.flipkart.com/gionee-max-pro-black-...</td>\n",
       "    </tr>\n",
       "    <tr>\n",
       "      <th>4</th>\n",
       "      <td>realme Narzo 50A (Oxygen Blue, 128 GB)  (4 GB ...</td>\n",
       "      <td>Oxygen Blue</td>\n",
       "      <td>4 GB</td>\n",
       "      <td>128 GB</td>\n",
       "      <td>50MP + 2MP + 2MP</td>\n",
       "      <td>8MP Front Camera</td>\n",
       "      <td>16.51 cm (6.5 inch)</td>\n",
       "      <td>1600 x 720 Pixels</td>\n",
       "      <td>MediaTek Helio G85</td>\n",
       "      <td>Octa Core</td>\n",
       "      <td>6000 mAh</td>\n",
       "      <td>₹12,499</td>\n",
       "      <td>https://www.flipkart.com/realme-narzo-50a-oxyg...</td>\n",
       "    </tr>\n",
       "  </tbody>\n",
       "</table>\n",
       "</div>"
      ],
      "text/plain": [
       "                                                Name         Color   Ram  \\\n",
       "0   realme Narzo 50i (Mint Green, 32 GB)  (2 GB RAM)    Mint Green  2 GB   \n",
       "1  realme Narzo 50i (Carbon Black, 32 GB)  (2 GB ...  Carbon Black  2 GB   \n",
       "2   realme Narzo 50i (Mint Green, 64 GB)  (4 GB RAM)    Mint Green  4 GB   \n",
       "3          GIONEE Max Pro (Black, 32 GB)  (3 GB RAM)         Black  3 GB   \n",
       "4  realme Narzo 50A (Oxygen Blue, 128 GB)  (4 GB ...   Oxygen Blue  4 GB   \n",
       "\n",
       "      Rom    Primary Camera  Secondary Camera          Display Size  \\\n",
       "0   32 GB   8MP Rear Camera  5MP Front Camera   16.51 cm (6.5 inch)   \n",
       "1   32 GB   8MP Rear Camera  5MP Front Camera   16.51 cm (6.5 inch)   \n",
       "2   64 GB   8MP Rear Camera  5MP Front Camera   16.51 cm (6.5 inch)   \n",
       "3   32 GB        13MP + 2MP  8MP Front Camera  16.56 cm (6.52 inch)   \n",
       "4  128 GB  50MP + 2MP + 2MP  8MP Front Camera   16.51 cm (6.5 inch)   \n",
       "\n",
       "  Display Resolution           Processor Processor Cores Battery Capacity  \\\n",
       "0  1600 x 720 Pixels             SC9863A       Octa Core         5000 mAh   \n",
       "1  1600 x 720 Pixels             SC9863A       Octa Core         5000 mAh   \n",
       "2  1600 x 720 Pixels             SC9863A       Octa Core         5000 mAh   \n",
       "3  1560 x 720 Pixels           Octa Core       Octa Core         6000 mAh   \n",
       "4  1600 x 720 Pixels  MediaTek Helio G85       Octa Core         6000 mAh   \n",
       "\n",
       "     Price                                        Product_url  \n",
       "0   ₹7,499  https://www.flipkart.com/realme-narzo-50i-mint...  \n",
       "1   ₹7,499  https://www.flipkart.com/realme-narzo-50i-carb...  \n",
       "2   ₹8,999  https://www.flipkart.com/realme-narzo-50i-mint...  \n",
       "3   ₹7,299  https://www.flipkart.com/gionee-max-pro-black-...  \n",
       "4  ₹12,499  https://www.flipkart.com/realme-narzo-50a-oxyg...  "
      ]
     },
     "execution_count": 37,
     "metadata": {},
     "output_type": "execute_result"
    }
   ],
   "source": [
    "#dataframe\n",
    "smartphones=pd.DataFrame({'Name':smart_name,'Color':color,'Ram':ram,'Rom':storage,'Primary Camera':primary_cam,\n",
    "                         'Secondary Camera':secondary_cam,'Display Size':display_size,'Display Resolution':resolution,\n",
    "                         'Processor':processor,'Processor Cores':process_cores,'Battery Capacity':battery,'Price':\n",
    "                         price_smart,'Product_url':pro_url})\n",
    "smartphones.head()"
   ]
  },
  {
   "cell_type": "code",
   "execution_count": 38,
   "id": "67cfac87",
   "metadata": {},
   "outputs": [],
   "source": [
    "#csv\n",
    "smartphones.to_csv(\"Mobile Phones.csv\")"
   ]
  },
  {
   "cell_type": "markdown",
   "id": "5f5e250a",
   "metadata": {},
   "source": [
    "# 5."
   ]
  },
  {
   "cell_type": "code",
   "execution_count": 39,
   "id": "6719b1b6",
   "metadata": {},
   "outputs": [],
   "source": [
    "#connecting to webdriver\n",
    "driver_map=webdriver.Chrome(r'C:\\Program Files (x86)\\chromedriver.exe')\n",
    "#opening the url\n",
    "url=\"https://www.google.com/maps/place/Kochi,+Kerala/@9.9823428,76.1608465,11z/data=!3m1!4b1!4m5!3m4!1s0x3b080d514abec6bf:0xbd582caa5844192!8m2!3d9.9312328!4d76.2673041\"\n",
    "time.sleep(3)\n",
    "driver_map.get(url)\n",
    "time.sleep(3)\n",
    "driver_map.maximize_window()"
   ]
  },
  {
   "cell_type": "code",
   "execution_count": 40,
   "id": "7c542ac7",
   "metadata": {},
   "outputs": [
    {
     "data": {
      "text/plain": [
       "'@9.9823428,76.1608465,11z'"
      ]
     },
     "execution_count": 40,
     "metadata": {},
     "output_type": "execute_result"
    }
   ],
   "source": [
    "#url splitted to lattitude and longitude\n",
    "maps=url.split(\"/\")[6]\n",
    "maps"
   ]
  },
  {
   "cell_type": "markdown",
   "id": "46d3cba3",
   "metadata": {},
   "source": [
    "# 6."
   ]
  },
  {
   "cell_type": "code",
   "execution_count": 89,
   "id": "22a12153",
   "metadata": {},
   "outputs": [],
   "source": [
    "#connecting to webdriver\n",
    "driver6=webdriver.Chrome(r'C:\\Program Files (x86)\\chromedriver.exe')\n",
    "#opening the url\n",
    "driver6.get('https://trak.in/india-startup-funding-investment-2015/')\n",
    "time.sleep(3)\n",
    "driver6.maximize_window()"
   ]
  },
  {
   "cell_type": "code",
   "execution_count": 90,
   "id": "07ddd679",
   "metadata": {},
   "outputs": [],
   "source": [
    "#funding delas in july\n",
    "july_funds=[]\n",
    "july=driver6.find_elements_by_id(\"tablepress-48_wrapper\")\n",
    "for j in july:\n",
    "    july_funds.append(j.text.replace(\"\\n\",' '))"
   ]
  },
  {
   "cell_type": "code",
   "execution_count": 91,
   "id": "c01f969c",
   "metadata": {},
   "outputs": [
    {
     "data": {
      "text/plain": [
       "[\"Show 10 25 50 100 entries Search: Sr. No. Date (dd/mm/yyyy) Startup Name Industry / Vertical Sub-Vertical City / Location Investors' Name Investment Type Amount (In USD) 1 15/07/2020 Flipkart E-commerce E-commerce Bangalore Walmart Inc M&A 1,200,000,000 2 16/07/2020 Vedantu EduTech Online Tutoring Bangalore Coatue Management Series D 100,000,000 3 16/07/2020 Crio EduTech Learning Platform for Developers Bangalore 021 Capital pre-Series A 934,160 4 14/07/2020 goDutch FinTech Group Payments Mumbai Matrix India,Y Combinator, Global Founders Capital, Soma Capital, and VentureSouq. Seed 1,700,000 5 13/07/2020 Mystifly Airfare Marketplace Ticketing, Airline Retailing, and Post-Ticketing Services Singapore and Bangalore Recruit Co. Ltd.  pre-Series B 3,300,000 6 09/07/2020 JetSynthesys Gaming and Entertainment Gaming and Entertainment  Pune Adar Poonawalla and Kris Gopalakrishnan. Venture-Series Unknown 400,000 7 10/07/2020 gigIndia Marketplace Crowd Sourcing, Freelance Pune Incubate Fund India and Beyond Next Ventures pre-Series A 974,200 8 15/07/2020 PumPumPum Automotive Rental Used Car-leasing platform Gurgaon Early Adapters Syndicate Seed 292,800 9 14/07/2020 FLYX OTT Player Streaming Social Network New York and Delhi Raj Mishra, founder of AIT Global Inc pre-Seed 200,000 10 13/07/2020 Open Appliances Pvt. Ltd. Information Technology Internet-of-Things Security Solutions Bangalore Unicorn India Ventures Venture-Series Unknown 500,000 Showing 1 to 10 of 10 entries PreviousNext\"]"
      ]
     },
     "execution_count": 91,
     "metadata": {},
     "output_type": "execute_result"
    }
   ],
   "source": [
    "july_funds"
   ]
  },
  {
   "cell_type": "code",
   "execution_count": 92,
   "id": "2a99e578",
   "metadata": {},
   "outputs": [],
   "source": [
    "#august\n",
    "august_funds=[]\n",
    "august=driver6.find_elements_by_id(\"tablepress-49_wrapper\")\n",
    "for a in august:\n",
    "    august_funds.append(a.text.replace(\"\\n\",' '))"
   ]
  },
  {
   "cell_type": "code",
   "execution_count": 93,
   "id": "a3fb8f41",
   "metadata": {},
   "outputs": [
    {
     "data": {
      "text/plain": [
       "[\"Show 10 25 50 100 entries Search: Sr. No. Date (dd/mm/yyyy) Startup Name Industry / Vertical Sub-Vertical City / Location Investors' Name Investment Type Amount (In USD) 1 15/08/2020 Practo HealthTech Health care and Wellness Bangalore A1A Company Series F 32,000,000 2 13/08/2020 Medlife E-commerce Online Pharmacy Bangalore Prasid Uno Family Trust and SC Credit Fund 23,000,000 3 13/08/2020 HungerBox FoodTech Online Food Delivery Service Bangalore One97, Sabre Partners Trust, Pratithi Investment Trust, and Srihari Kumar Series D1 1,560,000 4 04/08/2020 Dunzo Hyper-local Logistics Online Delivery Services Bangalore Existing Backers In Progress 30,000,000 5 11/08/2020 Terra.do EduTech Online Climate School, E-learning Stanford, California, Stanford Angels and Entrepreneurs (India), BEENEXT Emerging Asia, Rainmatter Capital  Seed 1,400,000 6 12/08/2020 Classplus EduTech E-learning, Online Tutoring  Noida Falcon Edge In Progress upto 15,000,000 7 14/08/2020 Niyo FinTech Financial Services Bangalore Niyo Solutions Inc. 6,000,000 8 10/08/2020 ZestMoney FinTech Financial Services Bangalore Primrose Hills Ventures 10,670,000 9 07/08/2020 FreshToHome E-commerce Food Delivery Bangalore Ascent Capital Venture 16,200,000 10 13/08/2020 Eduvanz FinTech Financial Services Mumbai Sequoia India, Unitus Series A 5,000,000 Showing 1 to 10 of 12 entries PreviousNext\"]"
      ]
     },
     "execution_count": 93,
     "metadata": {},
     "output_type": "execute_result"
    }
   ],
   "source": [
    "august_funds"
   ]
  },
  {
   "cell_type": "code",
   "execution_count": 94,
   "id": "92011295",
   "metadata": {},
   "outputs": [],
   "source": [
    "#september\n",
    "september_funds=[]\n",
    "september=driver6.find_elements_by_id(\"tablepress-50_wrapper\")\n",
    "for s in september:\n",
    "    september_funds.append(s.text.replace(\"\\n\",''))"
   ]
  },
  {
   "cell_type": "code",
   "execution_count": 95,
   "id": "60e57a87",
   "metadata": {},
   "outputs": [
    {
     "data": {
      "text/plain": [
       "[\"Show102550100entriesSearch:Sr. No. Date (dd/mm/yyyy) Startup Name Industry / Vertical Sub-Vertical City / Location Investors' Name Investment Type Amount (In USD)1 08/09/2020 Byju’s EduTech Online Tutoring Bangalore Silver Lake, Tiger Global, General Atlantic and Owl VenturesPrivate Equity 500,000,0002 12/09/2020 mCaffeine Personal Care Skincare & Haircare Mumbai Amicus Capital Private Equity I LLP, Amicus Capital Partners India Fund I and RP-SG Venture Fund 1 Series B 3,000,0003 09/09/2020 Qshala EduTech Online Curiosity Platform for Kids Bangalore Rainmatter Capital Angel 370,0004 02/09/2020 Winzo Online Gaming Online Gaming New Delhi Kalaari Capital Partners, IndigoEdge Management Consultancy Series B 15,500,0005 09/09/2020 Hippo Video Video Customer Experience(CX) Platform Video Customer Experience(CX) Platform Newark, Delaware, United States of Amercia Alpha Wave Incubation, Exfinity Venture Partners and existing backers.Series A 4,500,0006 07/09/2020 Melorra E-commerce Online Jewelry StoreBangalore Shadow Holdings, Lightbox. Debt Financing upto 8,900,0007 07/09/2020 1mg E-commerce Online Pharmacy Gurgaon Gaja Capital, Tata Capital, Partners Group In Progress 100,000,0008 31/08/2020 mfine HealthTech On-Demand Healthcare Services Bangalore Caretech Pte Inc Series B 5,400,0009 31/08/2020 Apna Human Resources Recruitment Platform Bangalore Lightspeed India and Sequoia Capital India Series A 8,000,00010 03/09/2020 Railofy Transportation WL & RAC protection platform Mumbai Chiratae Ventures Seed 950,000Showing 1 to 10 of 11 entriesPreviousNext\"]"
      ]
     },
     "execution_count": 95,
     "metadata": {},
     "output_type": "execute_result"
    }
   ],
   "source": [
    "september_funds"
   ]
  },
  {
   "cell_type": "markdown",
   "id": "1b3bd86a",
   "metadata": {},
   "source": [
    "# 7."
   ]
  },
  {
   "cell_type": "code",
   "execution_count": 42,
   "id": "797552b5",
   "metadata": {},
   "outputs": [],
   "source": [
    "#connecting to webdriver\n",
    "driver7=webdriver.Chrome(r'C:\\Program Files (x86)\\chromedriver.exe')\n",
    "#opening the url\n",
    "driver7.get('https://www.digit.in/top-products/best-gaming-laptops-40.html')\n",
    "time.sleep(5)\n",
    "driver7.maximize_window()"
   ]
  },
  {
   "cell_type": "code",
   "execution_count": 43,
   "id": "f8cad441",
   "metadata": {},
   "outputs": [],
   "source": [
    "#name of laptop\n",
    "lap_name=[]\n",
    "try:\n",
    "    name_l=driver7.find_elements_by_xpath(\"//h3\")\n",
    "    for nl in name_l:\n",
    "        lap_name.append(nl.text)\n",
    "except:\n",
    "    lap_name.append('-')\n",
    "    \n",
    "#specs\n",
    "specs=[]\n",
    "try:\n",
    "    spec=driver7.find_elements_by_xpath(\"//div[@class='value']\")\n",
    "    for sp in spec:\n",
    "        specs.append(sp.text)\n",
    "except:\n",
    "    specs.append('-')\n",
    "\n",
    "#price\n",
    "price_laptop=[]\n",
    "try:\n",
    "    l_p=driver7.find_elements_by_xpath(\"//td/strong\")\n",
    "    for lp in l_p:\n",
    "        price_laptop.append(lp.text)\n",
    "except:\n",
    "    price_laptop.append('-')     "
   ]
  },
  {
   "cell_type": "code",
   "execution_count": 44,
   "id": "2d6d131e",
   "metadata": {},
   "outputs": [
    {
     "data": {
      "text/plain": [
       "['ACER NITRO 5 RYZEN 9 (2021)',\n",
       " 'MSI STEALTH 15M 11TH GEN CORE I7-11375H (2021',\n",
       " 'ASUS ROG STRIX SCAR 15 RYZEN 9-5900HX (2021)',\n",
       " 'ALIENWARE AREA 51M R2',\n",
       " 'ALIENWARE M15 R3',\n",
       " 'ASUS ROG STRIX SCAR 15',\n",
       " 'ASUS ROG ZEPHYRUS G14',\n",
       " 'LENOVO LEGION 5I',\n",
       " 'ASUS ROG ZEPHYRUS DUO 15',\n",
       " 'ACER ASPIRE 7 GAMING']"
      ]
     },
     "execution_count": 44,
     "metadata": {},
     "output_type": "execute_result"
    }
   ],
   "source": [
    "lap_name"
   ]
  },
  {
   "cell_type": "code",
   "execution_count": 45,
   "id": "5f37c50d",
   "metadata": {},
   "outputs": [
    {
     "data": {
      "text/plain": [
       "['WINDOWS 10',\n",
       " 'WINDOWS 10',\n",
       " 'WINDOWS 10',\n",
       " 'WINDOWS 10 HOME',\n",
       " 'WINDOWS 10 HOME',\n",
       " 'WINDOWS 10 HOME',\n",
       " 'WINDOWS 10 HOME',\n",
       " 'WINDOWS 10 PRO',\n",
       " 'WINDOWS 10',\n",
       " 'WINDOWS 10 HOME']"
      ]
     },
     "execution_count": 45,
     "metadata": {},
     "output_type": "execute_result"
    }
   ],
   "source": [
    "#operating syystem\n",
    "os=specs[0:40:4]\n",
    "os"
   ]
  },
  {
   "cell_type": "code",
   "execution_count": 46,
   "id": "5141c791",
   "metadata": {},
   "outputs": [
    {
     "data": {
      "text/plain": [
       "['15.6\" (1920 X 1080)',\n",
       " '15.6\" (1920 X 1080)',\n",
       " '15.6\" (2560 X 1440)',\n",
       " '17.3\" (1920 X 1080)',\n",
       " '15.6\" (3840 X 2160)',\n",
       " '15.6\" (1920 X 1080)',\n",
       " '14\" (1920 X 1080)',\n",
       " '15.6\" (1920 X 1080)',\n",
       " '15.6\" (3840 X 1100)',\n",
       " '15.6\" (1920 X 1080)']"
      ]
     },
     "execution_count": 46,
     "metadata": {},
     "output_type": "execute_result"
    }
   ],
   "source": [
    "#display\n",
    "display=specs[1:40:4]\n",
    "display"
   ]
  },
  {
   "cell_type": "code",
   "execution_count": 47,
   "id": "abde7cb5",
   "metadata": {},
   "outputs": [
    {
     "data": {
      "text/plain": [
       "['AMD RYZEN 9 OCTA CORE | 2.4 GHZ',\n",
       " 'INTEL CORE I7 11TH GEN - 11375H | NA',\n",
       " 'AMD RYZEN 9 OCTA CORE - 5900HX | 3.3 GHZ',\n",
       " '10TH GEN INTEL® CORE™ I7-10700 | 2.90 GHZ',\n",
       " '10TH GEN INTEL® CORE™ I9-10980HK | NA',\n",
       " 'AMD RYZEN™ 9 5900HX | 3.3 GHZ',\n",
       " 'AMD 3RD GEN RYZEN 9 | 3.3 GHZ',\n",
       " '10TH GEN INTEL® CORE™ I5-10300H | 2.50 GHZ',\n",
       " 'INTEL CORE I7 10TH GEN 10875H | NA',\n",
       " 'AMD RYZEN™ 5-5500U HEXA-CORE | NA']"
      ]
     },
     "execution_count": 47,
     "metadata": {},
     "output_type": "execute_result"
    }
   ],
   "source": [
    "#processor\n",
    "processor=specs[2:40:4]\n",
    "processor"
   ]
  },
  {
   "cell_type": "code",
   "execution_count": 48,
   "id": "b7679a1f",
   "metadata": {},
   "outputs": [
    {
     "data": {
      "text/plain": [
       "['1 TB HDD/16 GBGB DDR4',\n",
       " '1 TB SSD/16 GBGB DDR4',\n",
       " '2 TB SSD/32 GBGB DDR4',\n",
       " '1 TB SSD/16 GBGB DDR4',\n",
       " '1 TB SSD/16 GBGB DDR4',\n",
       " '1 TB SSD/16 GBGB DDR4',\n",
       " '1 TB SSD/16 GBGB DDR4',\n",
       " '1 TB SSD/16 GBGB DDR4',\n",
       " '512 GB SSD/4 GBGB DDR4',\n",
       " '512 GB SSD/8 GBGB DDR4']"
      ]
     },
     "execution_count": 48,
     "metadata": {},
     "output_type": "execute_result"
    }
   ],
   "source": [
    "#memory\n",
    "memory=specs[3:40:4]\n",
    "memory"
   ]
  },
  {
   "cell_type": "code",
   "execution_count": 51,
   "id": "e89e892b",
   "metadata": {},
   "outputs": [
    {
     "data": {
      "text/plain": [
       "['AVAILABLE',\n",
       " '₹129990',\n",
       " 'AVAILABLE',\n",
       " '₹134990',\n",
       " 'AVAILABLE',\n",
       " '₹268990',\n",
       " 'AVAILABLE',\n",
       " '₹319990',\n",
       " 'AVAILABLE',\n",
       " '₹215990',\n",
       " 'AVAILABLE',\n",
       " '₹164990',\n",
       " 'AVAILABLE',\n",
       " '₹76988',\n",
       " 'AVAILABLE',\n",
       " '₹185000',\n",
       " 'AVAILABLE',\n",
       " '₹64370']"
      ]
     },
     "execution_count": 51,
     "metadata": {},
     "output_type": "execute_result"
    }
   ],
   "source": [
    "#price\n",
    "price_laptop"
   ]
  },
  {
   "cell_type": "code",
   "execution_count": 52,
   "id": "c66d705f",
   "metadata": {},
   "outputs": [],
   "source": [
    "driver7.close()"
   ]
  },
  {
   "cell_type": "markdown",
   "id": "aa1f9028",
   "metadata": {},
   "source": [
    "# 8."
   ]
  },
  {
   "cell_type": "code",
   "execution_count": 53,
   "id": "66ca9bee",
   "metadata": {},
   "outputs": [],
   "source": [
    "#connecting to webdriver\n",
    "driver=webdriver.Chrome(r'C:\\Program Files (x86)\\chromedriver.exe')\n",
    "#opening the url\n",
    "driver.get('https://www.forbes.com/')\n",
    "time.sleep(5)"
   ]
  },
  {
   "cell_type": "code",
   "execution_count": 54,
   "id": "1f48b1e4",
   "metadata": {},
   "outputs": [],
   "source": [
    "#clicking on explore button\n",
    "button=driver.find_element_by_xpath(\"//div[@class='header__left']\")\n",
    "button.click()\n",
    "#clicking on billionaires\n",
    "billion=driver.find_element_by_xpath(\"//li[@class='header__channel header__color--centennial-silver header__hoverable']\")\n",
    "billion.click()"
   ]
  },
  {
   "cell_type": "code",
   "execution_count": 55,
   "id": "54f9aed5",
   "metadata": {},
   "outputs": [],
   "source": [
    "#mouse hovering button\n",
    "chains=ActionChains(driver)\n",
    "chains.move_to_element(billion).perform()\n",
    "time.sleep(3)\n",
    "driver.find_element_by_xpath(\"//a[@href='https://www.forbes.com/billionaires/']\").click()\n",
    "time.sleep(3)\n",
    "driver.maximize_window()"
   ]
  },
  {
   "cell_type": "code",
   "execution_count": 56,
   "id": "fbe0b8ab",
   "metadata": {},
   "outputs": [],
   "source": [
    "#creating empty list of rank\n",
    "rank=[]\n",
    "try:\n",
    "    ranks=driver.find_elements_by_xpath(\"//div[@class='rank']\")\n",
    "    for r in ranks:\n",
    "        rank.append(r.text)\n",
    "except:\n",
    "    rank.append('-')\n",
    "    \n",
    "#name\n",
    "billion_name=[]\n",
    "try:\n",
    "    names_b=driver.find_elements_by_xpath(\"//div[@class='personName']/div\")\n",
    "    for n in names_b:\n",
    "        billion_name.append(n.text)\n",
    "except:\n",
    "    billion_name.append('-')\n",
    "\n",
    "#net worth\n",
    "net_worth=[]\n",
    "try:\n",
    "    net=driver.find_elements_by_xpath(\"//div[@class='netWorth']/div\")\n",
    "    for ne in net:\n",
    "        net_worth.append(ne.text)\n",
    "except:\n",
    "    net_worth.append('-')\n",
    "\n",
    "#age\n",
    "age=[]\n",
    "try:\n",
    "    year=driver.find_elements_by_xpath(\"//div[@class='age']/div\")\n",
    "    for y in year:\n",
    "        age.append(y.text)\n",
    "except:\n",
    "    age.append('-')\n",
    "\n",
    "#citizenship\n",
    "citizen=[]\n",
    "try:\n",
    "    country=driver.find_elements_by_xpath(\"//div[@class='countryOfCitizenship']\")\n",
    "    for co in country:\n",
    "        citizen.append(co.text)\n",
    "except:\n",
    "    citizen.append('-')\n",
    "\n",
    "#source\n",
    "source=[]\n",
    "try:\n",
    "    root=driver.find_elements_by_xpath(\"//div[@class='source']\")\n",
    "    for so in root:\n",
    "        source.append(so.text)\n",
    "except:\n",
    "    source.append('-')\n",
    "    \n",
    "#industry\n",
    "industry=[]\n",
    "try:\n",
    "    ind=driver.find_elements_by_xpath(\"//div[@class='category']\")\n",
    "    for indu in ind:\n",
    "        industry.append(indu.text)\n",
    "except:\n",
    "    industry.append('-')"
   ]
  },
  {
   "cell_type": "code",
   "execution_count": 57,
   "id": "42ca6f4a",
   "metadata": {},
   "outputs": [
    {
     "name": "stdout",
     "output_type": "stream",
     "text": [
      "200 200 200 200 200 200 200\n"
     ]
    }
   ],
   "source": [
    "print(len(rank),len(billion_name),len(net_worth),len(age),len(citizen),len(source),len(industry))"
   ]
  },
  {
   "cell_type": "code",
   "execution_count": 58,
   "id": "c0e033c2",
   "metadata": {},
   "outputs": [
    {
     "data": {
      "text/html": [
       "<div>\n",
       "<style scoped>\n",
       "    .dataframe tbody tr th:only-of-type {\n",
       "        vertical-align: middle;\n",
       "    }\n",
       "\n",
       "    .dataframe tbody tr th {\n",
       "        vertical-align: top;\n",
       "    }\n",
       "\n",
       "    .dataframe thead th {\n",
       "        text-align: right;\n",
       "    }\n",
       "</style>\n",
       "<table border=\"1\" class=\"dataframe\">\n",
       "  <thead>\n",
       "    <tr style=\"text-align: right;\">\n",
       "      <th></th>\n",
       "      <th>Rank</th>\n",
       "      <th>Name</th>\n",
       "      <th>Net_worth</th>\n",
       "      <th>Age</th>\n",
       "      <th>Citizenship</th>\n",
       "      <th>Source</th>\n",
       "      <th>Industry</th>\n",
       "    </tr>\n",
       "  </thead>\n",
       "  <tbody>\n",
       "    <tr>\n",
       "      <th>0</th>\n",
       "      <td>1.</td>\n",
       "      <td>Jeff Bezos</td>\n",
       "      <td>$177 B</td>\n",
       "      <td>57</td>\n",
       "      <td>United States</td>\n",
       "      <td>Amazon</td>\n",
       "      <td>Technology</td>\n",
       "    </tr>\n",
       "    <tr>\n",
       "      <th>1</th>\n",
       "      <td>2.</td>\n",
       "      <td>Elon Musk</td>\n",
       "      <td>$151 B</td>\n",
       "      <td>49</td>\n",
       "      <td>United States</td>\n",
       "      <td>Tesla, SpaceX</td>\n",
       "      <td>Automotive</td>\n",
       "    </tr>\n",
       "    <tr>\n",
       "      <th>2</th>\n",
       "      <td>3.</td>\n",
       "      <td>Bernard Arnault &amp; family</td>\n",
       "      <td>$150 B</td>\n",
       "      <td>72</td>\n",
       "      <td>France</td>\n",
       "      <td>LVMH</td>\n",
       "      <td>Fashion &amp; Retail</td>\n",
       "    </tr>\n",
       "    <tr>\n",
       "      <th>3</th>\n",
       "      <td>4.</td>\n",
       "      <td>Bill Gates</td>\n",
       "      <td>$124 B</td>\n",
       "      <td>65</td>\n",
       "      <td>United States</td>\n",
       "      <td>Microsoft</td>\n",
       "      <td>Technology</td>\n",
       "    </tr>\n",
       "    <tr>\n",
       "      <th>4</th>\n",
       "      <td>5.</td>\n",
       "      <td>Mark Zuckerberg</td>\n",
       "      <td>$97 B</td>\n",
       "      <td>36</td>\n",
       "      <td>United States</td>\n",
       "      <td>Facebook</td>\n",
       "      <td>Technology</td>\n",
       "    </tr>\n",
       "  </tbody>\n",
       "</table>\n",
       "</div>"
      ],
      "text/plain": [
       "  Rank                      Name Net_worth Age    Citizenship         Source  \\\n",
       "0   1.                Jeff Bezos    $177 B  57  United States         Amazon   \n",
       "1   2.                 Elon Musk    $151 B  49  United States  Tesla, SpaceX   \n",
       "2   3.  Bernard Arnault & family    $150 B  72         France           LVMH   \n",
       "3   4.                Bill Gates    $124 B  65  United States      Microsoft   \n",
       "4   5.           Mark Zuckerberg     $97 B  36  United States       Facebook   \n",
       "\n",
       "           Industry  \n",
       "0        Technology  \n",
       "1        Automotive  \n",
       "2  Fashion & Retail  \n",
       "3        Technology  \n",
       "4        Technology  "
      ]
     },
     "execution_count": 58,
     "metadata": {},
     "output_type": "execute_result"
    }
   ],
   "source": [
    "#dataframe\n",
    "billionaires=pd.DataFrame({'Rank':rank,'Name':billion_name,'Net_worth':net_worth,'Age':age,'Citizenship':citizen,\n",
    "                          'Source':source,'Industry':industry})\n",
    "billionaires.head()"
   ]
  },
  {
   "cell_type": "markdown",
   "id": "192a2ccb",
   "metadata": {},
   "source": [
    "# 9."
   ]
  },
  {
   "cell_type": "code",
   "execution_count": 85,
   "id": "337e9603",
   "metadata": {},
   "outputs": [],
   "source": [
    "#connecting to webdriver\n",
    "driver9=webdriver.Chrome(r'C:\\Program Files (x86)\\chromedriver.exe')\n",
    "#opening the url\n",
    "driver9.get('https://www.youtube.com/watch?v=JfVOs4VSpmA')\n",
    "time.sleep(5)\n",
    "driver9.maximize_window()"
   ]
  },
  {
   "cell_type": "code",
   "execution_count": 86,
   "id": "099f09a7",
   "metadata": {},
   "outputs": [],
   "source": [
    "#comment\n",
    "comment=[]\n",
    "try:\n",
    "    comments=driver9.find_elements_by_xpath(\"//yt-formatted-string[@id='content-text']\")\n",
    "    for c in comments:\n",
    "        driver9.execute_script(\"window.scrollTo(1,document.body.scrollHeight)\")\n",
    "        time.sleep(50)\n",
    "        comment.append(c.text)\n",
    "except:\n",
    "    comment.append('-')\n",
    "    time.sleep(5)"
   ]
  },
  {
   "cell_type": "code",
   "execution_count": 87,
   "id": "4485f11c",
   "metadata": {},
   "outputs": [],
   "source": [
    "#time\n",
    "time_comment=[]\n",
    "try:\n",
    "    times=driver9.find_elements_by_xpath(\"//a[@class='yt-simple-endpoint style-scope yt-formatted-string']\")\n",
    "    for t in times:\n",
    "        time_comment.append(t.text)\n",
    "        driver9.refresh()\n",
    "except:\n",
    "    time_comment.append('-')"
   ]
  },
  {
   "cell_type": "markdown",
   "id": "ec5ad4be",
   "metadata": {},
   "source": [
    "# 10."
   ]
  },
  {
   "cell_type": "code",
   "execution_count": 62,
   "id": "e6510cd7",
   "metadata": {},
   "outputs": [],
   "source": [
    "#connecting to webdriver\n",
    "driver1=webdriver.Chrome(r'C:\\Program Files (x86)\\chromedriver.exe')\n",
    "#opening the url\n",
    "driver1.get('https://www.hostelworld.com/in')\n",
    "#driver1.maximize_window()"
   ]
  },
  {
   "cell_type": "code",
   "execution_count": 63,
   "id": "1fed7fb9",
   "metadata": {},
   "outputs": [],
   "source": [
    "#location search\n",
    "search=driver1.find_element_by_xpath(\"//input[@id='home-search-keywords']\")\n",
    "#sending london location\n",
    "search.send_keys(\"London\")\n",
    "#clicking on search button\n",
    "time.sleep(5)\n",
    "button=driver1.find_element_by_xpath(\"//button[@class='btn btn-primary btn-block']\")\n",
    "button.click()"
   ]
  },
  {
   "cell_type": "code",
   "execution_count": 64,
   "id": "6cfe2694",
   "metadata": {},
   "outputs": [],
   "source": [
    "hostel_url=[]\n",
    "for ho in driver1.find_elements_by_xpath(\"//h2[@class='title title-6']/a\"):\n",
    "    hostel_url.append(ho.get_attribute(\"href\"))"
   ]
  },
  {
   "cell_type": "code",
   "execution_count": 65,
   "id": "a9bbb4a7",
   "metadata": {},
   "outputs": [],
   "source": [
    "hostel=[]\n",
    "distance=[]\n",
    "ratings_hos=[]\n",
    "total_reviews=[]\n",
    "overall_review=[]\n",
    "facilities=[]\n",
    "property_description=[]"
   ]
  },
  {
   "cell_type": "code",
   "execution_count": 66,
   "id": "f2853fc3",
   "metadata": {},
   "outputs": [],
   "source": [
    "#distance from city centre\n",
    "try:\n",
    "    city=driver1.find_elements_by_xpath(\"//span[@class='description']\")\n",
    "    for ct in city:\n",
    "        distance.append(ct.text)\n",
    "except:\n",
    "    distance.append('-')\n",
    "    \n",
    "#private prices\n",
    "private_price=[]\n",
    "try:\n",
    "    p_price=driver1.find_elements_by_xpath(\"//div[@class='price title-5']\")\n",
    "    for pp in p_price:\n",
    "        private_price.append(pp.text)\n",
    "except:\n",
    "    private_price.append('-')\n",
    "\n",
    "#dorm prices\n",
    "dorm_price=[]\n",
    "try:\n",
    "    d_price=driver1.find_elements_by_xpath(\"//div[@class='price title-5']\")\n",
    "    for dp in d_price:\n",
    "        dorm_price.append(dp.text)\n",
    "except:\n",
    "    dorm_price.append('-')"
   ]
  },
  {
   "cell_type": "code",
   "execution_count": 67,
   "id": "c41f3a8e",
   "metadata": {},
   "outputs": [],
   "source": [
    "for h in hostel_url:\n",
    "    driver1.get(h)\n",
    "    time.sleep(3)\n",
    "    #hostel name\n",
    "    try:\n",
    "        name_hostel=driver1.find_element_by_xpath(\"//div[@class='title-2']\")\n",
    "        hostel.append(name_hostel.text)\n",
    "    except:\n",
    "        hostel.append('-')\n",
    "    #ratings\n",
    "    try:\n",
    "        rate_hos=driver1.find_element_by_xpath(\"/html/body/div[3]/div/div/div[1]/section/div[6]/div/div[1]/div[1]/div[1]\")\n",
    "        ratings_hos.append(rate_hos.text)\n",
    "    except:\n",
    "        ratings_hos.append('-')\n",
    "        \n",
    "    #total reviews\n",
    "    \n",
    "    try:\n",
    "        total=driver1.find_element_by_xpath(\"/html/body/div[3]/div/div/div[1]/section/div[6]/div/div[1]/div[1]/div[2]/div[2]\")\n",
    "        total_reviews.append(total.text)\n",
    "    except:\n",
    "        total_reviews.append('-')\n",
    "        \n",
    "    #overall\n",
    "    try:\n",
    "        overall=driver1.find_element_by_xpath(\"/html/body/div[3]/div/div/div[1]/section/div[6]/div/div[1]/div[1]/div[2]/div[1]/span\")\n",
    "        overall_review.append(overall.text)\n",
    "    except:\n",
    "        overall_review.append('-')\n",
    "        \n",
    "    #facilities\n",
    "    try:\n",
    "        facility=driver1.find_element_by_xpath(\"/html/body/div[3]/div/div/div[1]/section/div[11]/div/ul/li[1]/ul\")\n",
    "        facilities.append(facility.text)\n",
    "    except:\n",
    "        facilities.append('-')\n",
    "        \n",
    "    #description\n",
    "    try:\n",
    "        property_=driver1.find_element_by_xpath(\"/html/body/div[3]/div/div/div[1]/section/div[6]/div/div[2]/div/div/div[2]\")\n",
    "        property_description.append(property.text)\n",
    "    except:\n",
    "        property_description.append('-')       "
   ]
  },
  {
   "cell_type": "code",
   "execution_count": 81,
   "id": "74c09bff",
   "metadata": {},
   "outputs": [
    {
     "data": {
      "text/plain": [
       "30"
      ]
     },
     "execution_count": 81,
     "metadata": {},
     "output_type": "execute_result"
    }
   ],
   "source": [
    "len(hostel_url)"
   ]
  }
 ],
 "metadata": {
  "kernelspec": {
   "display_name": "Python 3",
   "language": "python",
   "name": "python3"
  },
  "language_info": {
   "codemirror_mode": {
    "name": "ipython",
    "version": 3
   },
   "file_extension": ".py",
   "mimetype": "text/x-python",
   "name": "python",
   "nbconvert_exporter": "python",
   "pygments_lexer": "ipython3",
   "version": "3.8.8"
  }
 },
 "nbformat": 4,
 "nbformat_minor": 5
}
