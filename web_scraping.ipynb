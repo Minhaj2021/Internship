{
 "cells": [
  {
   "cell_type": "markdown",
   "id": "f2953482",
   "metadata": {},
   "source": [
    "# Header tags"
   ]
  },
  {
   "cell_type": "code",
   "execution_count": 1,
   "id": "e5349571",
   "metadata": {},
   "outputs": [],
   "source": [
    "#importing modules\n",
    "from bs4 import BeautifulSoup as bs\n",
    "import requests\n",
    "import pandas as pd"
   ]
  },
  {
   "cell_type": "code",
   "execution_count": 2,
   "id": "8951343b",
   "metadata": {},
   "outputs": [],
   "source": [
    "\n",
    "tags = requests.get('https://en.wikipedia.org/wiki/Main_Page')"
   ]
  },
  {
   "cell_type": "code",
   "execution_count": 3,
   "id": "2c171cb2",
   "metadata": {},
   "outputs": [
    {
     "data": {
      "text/plain": [
       "<Response [200]>"
      ]
     },
     "execution_count": 3,
     "metadata": {},
     "output_type": "execute_result"
    }
   ],
   "source": [
    "tags"
   ]
  },
  {
   "cell_type": "code",
   "execution_count": 4,
   "id": "b1c551ce",
   "metadata": {},
   "outputs": [],
   "source": [
    "soup = bs(tags.content)"
   ]
  },
  {
   "cell_type": "code",
   "execution_count": 5,
   "id": "7b9d0315",
   "metadata": {},
   "outputs": [],
   "source": [
    "header=[]\n",
    "\n",
    "for i in soup.find_all('span',class_='mw-headline'):\n",
    "    header.append(i.text.replace('\\xa0...',' '))"
   ]
  },
  {
   "cell_type": "code",
   "execution_count": 6,
   "id": "016ad9f2",
   "metadata": {},
   "outputs": [
    {
     "data": {
      "text/plain": [
       "[\"From today's featured article\",\n",
       " 'Did you know ',\n",
       " 'In the news',\n",
       " 'On this day',\n",
       " \"Today's featured picture\",\n",
       " 'Other areas of Wikipedia',\n",
       " \"Wikipedia's sister projects\",\n",
       " 'Wikipedia languages']"
      ]
     },
     "execution_count": 6,
     "metadata": {},
     "output_type": "execute_result"
    }
   ],
   "source": [
    "header"
   ]
  },
  {
   "cell_type": "code",
   "execution_count": 7,
   "id": "0fe52d5c",
   "metadata": {},
   "outputs": [],
   "source": [
    "df=pd.DataFrame({'Headers':header})"
   ]
  },
  {
   "cell_type": "code",
   "execution_count": 8,
   "id": "d8837e4c",
   "metadata": {},
   "outputs": [
    {
     "data": {
      "text/html": [
       "<div>\n",
       "<style scoped>\n",
       "    .dataframe tbody tr th:only-of-type {\n",
       "        vertical-align: middle;\n",
       "    }\n",
       "\n",
       "    .dataframe tbody tr th {\n",
       "        vertical-align: top;\n",
       "    }\n",
       "\n",
       "    .dataframe thead th {\n",
       "        text-align: right;\n",
       "    }\n",
       "</style>\n",
       "<table border=\"1\" class=\"dataframe\">\n",
       "  <thead>\n",
       "    <tr style=\"text-align: right;\">\n",
       "      <th></th>\n",
       "      <th>Headers</th>\n",
       "    </tr>\n",
       "  </thead>\n",
       "  <tbody>\n",
       "    <tr>\n",
       "      <th>0</th>\n",
       "      <td>From today's featured article</td>\n",
       "    </tr>\n",
       "    <tr>\n",
       "      <th>1</th>\n",
       "      <td>Did you know</td>\n",
       "    </tr>\n",
       "    <tr>\n",
       "      <th>2</th>\n",
       "      <td>In the news</td>\n",
       "    </tr>\n",
       "    <tr>\n",
       "      <th>3</th>\n",
       "      <td>On this day</td>\n",
       "    </tr>\n",
       "    <tr>\n",
       "      <th>4</th>\n",
       "      <td>Today's featured picture</td>\n",
       "    </tr>\n",
       "    <tr>\n",
       "      <th>5</th>\n",
       "      <td>Other areas of Wikipedia</td>\n",
       "    </tr>\n",
       "    <tr>\n",
       "      <th>6</th>\n",
       "      <td>Wikipedia's sister projects</td>\n",
       "    </tr>\n",
       "    <tr>\n",
       "      <th>7</th>\n",
       "      <td>Wikipedia languages</td>\n",
       "    </tr>\n",
       "  </tbody>\n",
       "</table>\n",
       "</div>"
      ],
      "text/plain": [
       "                         Headers\n",
       "0  From today's featured article\n",
       "1                  Did you know \n",
       "2                    In the news\n",
       "3                    On this day\n",
       "4       Today's featured picture\n",
       "5       Other areas of Wikipedia\n",
       "6    Wikipedia's sister projects\n",
       "7            Wikipedia languages"
      ]
     },
     "execution_count": 8,
     "metadata": {},
     "output_type": "execute_result"
    }
   ],
   "source": [
    "df"
   ]
  },
  {
   "cell_type": "markdown",
   "id": "f007d649",
   "metadata": {},
   "source": [
    "# Imdb top rated movies"
   ]
  },
  {
   "cell_type": "code",
   "execution_count": 9,
   "id": "a3296974",
   "metadata": {},
   "outputs": [],
   "source": [
    "imdb=requests.get('https://www.imdb.com/chart/top/')"
   ]
  },
  {
   "cell_type": "code",
   "execution_count": 10,
   "id": "1ee83eb4",
   "metadata": {},
   "outputs": [
    {
     "data": {
      "text/plain": [
       "<Response [200]>"
      ]
     },
     "execution_count": 10,
     "metadata": {},
     "output_type": "execute_result"
    }
   ],
   "source": [
    "imdb"
   ]
  },
  {
   "cell_type": "code",
   "execution_count": 11,
   "id": "90693427",
   "metadata": {},
   "outputs": [],
   "source": [
    "be=bs(imdb.content)"
   ]
  },
  {
   "cell_type": "code",
   "execution_count": 12,
   "id": "20a5d479",
   "metadata": {},
   "outputs": [],
   "source": [
    "movies=[]\n",
    "\n",
    "for movie in be.find_all('td',class_='titleColumn'):\n",
    "    movie=movie.text.replace('\\n','')\n",
    "    movie=movie.split('|')[0]\n",
    "    movies.append(movie)"
   ]
  },
  {
   "cell_type": "code",
   "execution_count": 13,
   "id": "6d434eb9",
   "metadata": {},
   "outputs": [
    {
     "data": {
      "text/plain": [
       "250"
      ]
     },
     "execution_count": 13,
     "metadata": {},
     "output_type": "execute_result"
    }
   ],
   "source": [
    "len(movies)"
   ]
  },
  {
   "cell_type": "code",
   "execution_count": 14,
   "id": "2bfee55d",
   "metadata": {},
   "outputs": [],
   "source": [
    "t=movies[0:100]"
   ]
  },
  {
   "cell_type": "code",
   "execution_count": 15,
   "id": "e4f669cc",
   "metadata": {},
   "outputs": [],
   "source": [
    "rating=[]\n",
    "\n",
    "for rate in be.find_all('td',class_='ratingColumn imdbRating'):\n",
    "    rating.append(rate.text.replace('\\n',' '))"
   ]
  },
  {
   "cell_type": "code",
   "execution_count": 16,
   "id": "ef0bd9fd",
   "metadata": {},
   "outputs": [],
   "source": [
    "#100 movies\n",
    "s=rating[0:100]"
   ]
  },
  {
   "cell_type": "code",
   "execution_count": 17,
   "id": "1b6f240a",
   "metadata": {},
   "outputs": [],
   "source": [
    "da=pd.DataFrame({'Name and Year':t,'IMDB Rating':s})"
   ]
  },
  {
   "cell_type": "code",
   "execution_count": 18,
   "id": "99471d41",
   "metadata": {},
   "outputs": [
    {
     "data": {
      "text/html": [
       "<div>\n",
       "<style scoped>\n",
       "    .dataframe tbody tr th:only-of-type {\n",
       "        vertical-align: middle;\n",
       "    }\n",
       "\n",
       "    .dataframe tbody tr th {\n",
       "        vertical-align: top;\n",
       "    }\n",
       "\n",
       "    .dataframe thead th {\n",
       "        text-align: right;\n",
       "    }\n",
       "</style>\n",
       "<table border=\"1\" class=\"dataframe\">\n",
       "  <thead>\n",
       "    <tr style=\"text-align: right;\">\n",
       "      <th></th>\n",
       "      <th>Name and Year</th>\n",
       "      <th>IMDB Rating</th>\n",
       "    </tr>\n",
       "  </thead>\n",
       "  <tbody>\n",
       "    <tr>\n",
       "      <th>0</th>\n",
       "      <td>1.      The Shawshank Redemption(1994)</td>\n",
       "      <td>9.2</td>\n",
       "    </tr>\n",
       "    <tr>\n",
       "      <th>1</th>\n",
       "      <td>2.      The Godfather(1972)</td>\n",
       "      <td>9.1</td>\n",
       "    </tr>\n",
       "    <tr>\n",
       "      <th>2</th>\n",
       "      <td>3.      The Godfather: Part II(1974)</td>\n",
       "      <td>9.0</td>\n",
       "    </tr>\n",
       "    <tr>\n",
       "      <th>3</th>\n",
       "      <td>4.      The Dark Knight(2008)</td>\n",
       "      <td>9.0</td>\n",
       "    </tr>\n",
       "    <tr>\n",
       "      <th>4</th>\n",
       "      <td>5.      12 Angry Men(1957)</td>\n",
       "      <td>8.9</td>\n",
       "    </tr>\n",
       "    <tr>\n",
       "      <th>...</th>\n",
       "      <td>...</td>\n",
       "      <td>...</td>\n",
       "    </tr>\n",
       "    <tr>\n",
       "      <th>95</th>\n",
       "      <td>96.      Requiem for a Dream(2000)</td>\n",
       "      <td>8.3</td>\n",
       "    </tr>\n",
       "    <tr>\n",
       "      <th>96</th>\n",
       "      <td>97.      Singin' in the Rain(1952)</td>\n",
       "      <td>8.3</td>\n",
       "    </tr>\n",
       "    <tr>\n",
       "      <th>97</th>\n",
       "      <td>98.      North by Northwest(1959)</td>\n",
       "      <td>8.3</td>\n",
       "    </tr>\n",
       "    <tr>\n",
       "      <th>98</th>\n",
       "      <td>99.      Eternal Sunshine of the Spotles...</td>\n",
       "      <td>8.3</td>\n",
       "    </tr>\n",
       "    <tr>\n",
       "      <th>99</th>\n",
       "      <td>100.      Ladri di biciclette(1948)</td>\n",
       "      <td>8.3</td>\n",
       "    </tr>\n",
       "  </tbody>\n",
       "</table>\n",
       "<p>100 rows × 2 columns</p>\n",
       "</div>"
      ],
      "text/plain": [
       "                                        Name and Year IMDB Rating\n",
       "0              1.      The Shawshank Redemption(1994)        9.2 \n",
       "1                         2.      The Godfather(1972)        9.1 \n",
       "2                3.      The Godfather: Part II(1974)        9.0 \n",
       "3                       4.      The Dark Knight(2008)        9.0 \n",
       "4                          5.      12 Angry Men(1957)        8.9 \n",
       "..                                                ...         ...\n",
       "95                 96.      Requiem for a Dream(2000)        8.3 \n",
       "96                 97.      Singin' in the Rain(1952)        8.3 \n",
       "97                  98.      North by Northwest(1959)        8.3 \n",
       "98        99.      Eternal Sunshine of the Spotles...        8.3 \n",
       "99                100.      Ladri di biciclette(1948)        8.3 \n",
       "\n",
       "[100 rows x 2 columns]"
      ]
     },
     "execution_count": 18,
     "metadata": {},
     "output_type": "execute_result"
    }
   ],
   "source": [
    "da"
   ]
  },
  {
   "cell_type": "markdown",
   "id": "55dd3235",
   "metadata": {},
   "source": [
    "# Imdb Top rated Indian Movies"
   ]
  },
  {
   "cell_type": "code",
   "execution_count": 19,
   "id": "de1fa0b2",
   "metadata": {},
   "outputs": [],
   "source": [
    "top=requests.get('https://www.imdb.com/india/top-rated-indian-movies/')"
   ]
  },
  {
   "cell_type": "code",
   "execution_count": 20,
   "id": "b6fb66ea",
   "metadata": {},
   "outputs": [
    {
     "data": {
      "text/plain": [
       "<Response [200]>"
      ]
     },
     "execution_count": 20,
     "metadata": {},
     "output_type": "execute_result"
    }
   ],
   "source": [
    "top"
   ]
  },
  {
   "cell_type": "code",
   "execution_count": 21,
   "id": "dc685bf4",
   "metadata": {},
   "outputs": [],
   "source": [
    "bu=bs(top.content)"
   ]
  },
  {
   "cell_type": "code",
   "execution_count": 22,
   "id": "4ba0e081",
   "metadata": {},
   "outputs": [],
   "source": [
    "ind=[]\n",
    "\n",
    "for h in bu.find_all('td',class_='titleColumn'):\n",
    "    ind.append(h.text.replace('\\n',''))\n",
    "#listing 100 movies\n",
    "top_rated=ind[0:100]"
   ]
  },
  {
   "cell_type": "code",
   "execution_count": 23,
   "id": "0c00db95",
   "metadata": {},
   "outputs": [],
   "source": [
    "#rating\n",
    "star=[]\n",
    "\n",
    "for s in bu.find_all('td',class_='ratingColumn imdbRating'):\n",
    "    star.append(s.text.replace('\\n',''))\n",
    "x=star[0:100]"
   ]
  },
  {
   "cell_type": "code",
   "execution_count": 24,
   "id": "0dcbaef3",
   "metadata": {},
   "outputs": [],
   "source": [
    "#dataframe\n",
    "indian=pd.DataFrame({'Name&Year':top_rated,'Rating':x})"
   ]
  },
  {
   "cell_type": "code",
   "execution_count": 25,
   "id": "c1aacd9c",
   "metadata": {},
   "outputs": [
    {
     "data": {
      "text/html": [
       "<div>\n",
       "<style scoped>\n",
       "    .dataframe tbody tr th:only-of-type {\n",
       "        vertical-align: middle;\n",
       "    }\n",
       "\n",
       "    .dataframe tbody tr th {\n",
       "        vertical-align: top;\n",
       "    }\n",
       "\n",
       "    .dataframe thead th {\n",
       "        text-align: right;\n",
       "    }\n",
       "</style>\n",
       "<table border=\"1\" class=\"dataframe\">\n",
       "  <thead>\n",
       "    <tr style=\"text-align: right;\">\n",
       "      <th></th>\n",
       "      <th>Name&amp;Year</th>\n",
       "      <th>Rating</th>\n",
       "    </tr>\n",
       "  </thead>\n",
       "  <tbody>\n",
       "    <tr>\n",
       "      <th>0</th>\n",
       "      <td>1.      Sardar Udham(2021)</td>\n",
       "      <td>8.6</td>\n",
       "    </tr>\n",
       "    <tr>\n",
       "      <th>1</th>\n",
       "      <td>2.      Nayakan(1987)</td>\n",
       "      <td>8.5</td>\n",
       "    </tr>\n",
       "    <tr>\n",
       "      <th>2</th>\n",
       "      <td>3.      Anbe Sivam(2003)</td>\n",
       "      <td>8.5</td>\n",
       "    </tr>\n",
       "    <tr>\n",
       "      <th>3</th>\n",
       "      <td>4.      Pariyerum Perumal(2018)</td>\n",
       "      <td>8.5</td>\n",
       "    </tr>\n",
       "    <tr>\n",
       "      <th>4</th>\n",
       "      <td>5.      C/o Kancharapalem(2018)</td>\n",
       "      <td>8.5</td>\n",
       "    </tr>\n",
       "    <tr>\n",
       "      <th>...</th>\n",
       "      <td>...</td>\n",
       "      <td>...</td>\n",
       "    </tr>\n",
       "    <tr>\n",
       "      <th>95</th>\n",
       "      <td>96.      Roja(1992)</td>\n",
       "      <td>8.1</td>\n",
       "    </tr>\n",
       "    <tr>\n",
       "      <th>96</th>\n",
       "      <td>97.      Dil Chahta Hai(2001)</td>\n",
       "      <td>8.1</td>\n",
       "    </tr>\n",
       "    <tr>\n",
       "      <th>97</th>\n",
       "      <td>98.      Rang De Basanti(2006)</td>\n",
       "      <td>8.1</td>\n",
       "    </tr>\n",
       "    <tr>\n",
       "      <th>98</th>\n",
       "      <td>99.      OMG: Oh My God!(2012)</td>\n",
       "      <td>8.1</td>\n",
       "    </tr>\n",
       "    <tr>\n",
       "      <th>99</th>\n",
       "      <td>100.      Uri: The Surgical Strike(2019)</td>\n",
       "      <td>8.1</td>\n",
       "    </tr>\n",
       "  </tbody>\n",
       "</table>\n",
       "<p>100 rows × 2 columns</p>\n",
       "</div>"
      ],
      "text/plain": [
       "                                         Name&Year Rating\n",
       "0                       1.      Sardar Udham(2021)    8.6\n",
       "1                            2.      Nayakan(1987)    8.5\n",
       "2                         3.      Anbe Sivam(2003)    8.5\n",
       "3                  4.      Pariyerum Perumal(2018)    8.5\n",
       "4                  5.      C/o Kancharapalem(2018)    8.5\n",
       "..                                             ...    ...\n",
       "95                             96.      Roja(1992)    8.1\n",
       "96                   97.      Dil Chahta Hai(2001)    8.1\n",
       "97                  98.      Rang De Basanti(2006)    8.1\n",
       "98                  99.      OMG: Oh My God!(2012)    8.1\n",
       "99        100.      Uri: The Surgical Strike(2019)    8.1\n",
       "\n",
       "[100 rows x 2 columns]"
      ]
     },
     "execution_count": 25,
     "metadata": {},
     "output_type": "execute_result"
    }
   ],
   "source": [
    "indian"
   ]
  },
  {
   "cell_type": "markdown",
   "id": "0e72f372",
   "metadata": {},
   "source": [
    "# Cricket Rankings"
   ]
  },
  {
   "cell_type": "markdown",
   "id": "2b00b11d",
   "metadata": {},
   "source": [
    "Team Rankings"
   ]
  },
  {
   "cell_type": "code",
   "execution_count": 26,
   "id": "5ecfa457",
   "metadata": {},
   "outputs": [],
   "source": [
    "icc=requests.get('https://www.icc-cricket.com/rankings/mens/team-rankings/odi')"
   ]
  },
  {
   "cell_type": "code",
   "execution_count": 27,
   "id": "bbf91df1",
   "metadata": {},
   "outputs": [
    {
     "data": {
      "text/plain": [
       "<Response [200]>"
      ]
     },
     "execution_count": 27,
     "metadata": {},
     "output_type": "execute_result"
    }
   ],
   "source": [
    "icc"
   ]
  },
  {
   "cell_type": "code",
   "execution_count": 28,
   "id": "cafe73bd",
   "metadata": {},
   "outputs": [],
   "source": [
    "soup=bs(icc.content)"
   ]
  },
  {
   "cell_type": "code",
   "execution_count": 29,
   "id": "c6acefe4",
   "metadata": {},
   "outputs": [],
   "source": [
    "#teams names\n",
    "rankings=[]\n",
    "\n",
    "for t in soup.find_all('span',class_='u-hide-phablet'):\n",
    "    rankings.append(t.text.replace(',',' '))\n",
    "    \n",
    "team=rankings[0:10]"
   ]
  },
  {
   "cell_type": "code",
   "execution_count": 30,
   "id": "ce01c555",
   "metadata": {},
   "outputs": [
    {
     "data": {
      "text/plain": [
       "['New Zealand',\n",
       " 'England',\n",
       " 'Australia',\n",
       " 'India',\n",
       " 'South Africa',\n",
       " 'Pakistan',\n",
       " 'Bangladesh',\n",
       " 'West Indies',\n",
       " 'Sri Lanka',\n",
       " 'Afghanistan']"
      ]
     },
     "execution_count": 30,
     "metadata": {},
     "output_type": "execute_result"
    }
   ],
   "source": [
    "team"
   ]
  },
  {
   "cell_type": "code",
   "execution_count": 31,
   "id": "23695fa7",
   "metadata": {},
   "outputs": [
    {
     "data": {
      "text/plain": [
       "'17'"
      ]
     },
     "execution_count": 31,
     "metadata": {},
     "output_type": "execute_result"
    }
   ],
   "source": [
    "#printing first team's match\n",
    "first_match=soup.find('td',class_='rankings-block__banner--matches')\n",
    "first_match.text"
   ]
  },
  {
   "cell_type": "code",
   "execution_count": 32,
   "id": "dfe27263",
   "metadata": {},
   "outputs": [
    {
     "data": {
      "text/plain": [
       "'2,054'"
      ]
     },
     "execution_count": 32,
     "metadata": {},
     "output_type": "execute_result"
    }
   ],
   "source": [
    "#printing first team's point\n",
    "first_point=soup.find('td',class_='rankings-block__banner--points')\n",
    "first_point.text"
   ]
  },
  {
   "cell_type": "code",
   "execution_count": 33,
   "id": "cdf71af7",
   "metadata": {},
   "outputs": [],
   "source": [
    "rankings=[]\n",
    "\n",
    "for match in soup.find_all('td',class_='table-body__cell u-center-text'):\n",
    "    rankings.append(match.text)\n",
    "    \n",
    "#inserting first number of matches to the 0th index   \n",
    "rankings.insert(0,first_match.text.replace(',',' '))\n",
    "\n",
    "#inserting the first point to the 1st index\n",
    "rankings.insert(1,first_point.text)"
   ]
  },
  {
   "cell_type": "code",
   "execution_count": 34,
   "id": "3936519c",
   "metadata": {},
   "outputs": [
    {
     "data": {
      "text/plain": [
       "['17', '32', '28', '32', '25', '27', '30', '30', '32', '17']"
      ]
     },
     "execution_count": 34,
     "metadata": {},
     "output_type": "execute_result"
    }
   ],
   "source": [
    "matches=rankings[0:20:2]\n",
    "matches"
   ]
  },
  {
   "cell_type": "code",
   "execution_count": 35,
   "id": "697f363d",
   "metadata": {},
   "outputs": [
    {
     "data": {
      "text/plain": [
       "['2,054',\n",
       " '3,793',\n",
       " '3,244',\n",
       " '3,624',\n",
       " '2,459',\n",
       " '2,524',\n",
       " '2,740',\n",
       " '2,523',\n",
       " '2,657',\n",
       " '1,054']"
      ]
     },
     "execution_count": 35,
     "metadata": {},
     "output_type": "execute_result"
    }
   ],
   "source": [
    "points=rankings[1:20:2]\n",
    "points"
   ]
  },
  {
   "cell_type": "code",
   "execution_count": 36,
   "id": "61c9f075",
   "metadata": {},
   "outputs": [
    {
     "data": {
      "text/plain": [
       "'121'"
      ]
     },
     "execution_count": 36,
     "metadata": {},
     "output_type": "execute_result"
    }
   ],
   "source": [
    "first_rate=soup.find('td',class_='rankings-block__banner--rating u-text-right')\n",
    "r=first_rate.text.replace('\\n',' ')\n",
    "lt=r.lstrip()\n",
    "rt=lt.rstrip()\n",
    "rt"
   ]
  },
  {
   "cell_type": "code",
   "execution_count": 37,
   "id": "d5d065c0",
   "metadata": {},
   "outputs": [],
   "source": [
    "ratings=[]\n",
    "\n",
    "for rate in soup.find_all('td',class_='table-body__cell u-text-right rating'):\n",
    "    ratings.append(rate.text.replace('\\n',' '))\n",
    "    \n",
    " #inserting first rating to 0th index   \n",
    "ratings.insert(0,rt)"
   ]
  },
  {
   "cell_type": "code",
   "execution_count": 38,
   "id": "087f745a",
   "metadata": {},
   "outputs": [
    {
     "data": {
      "text/plain": [
       "['121', '119', '116', '113', '98', '93', '91', '84', '83', '62']"
      ]
     },
     "execution_count": 38,
     "metadata": {},
     "output_type": "execute_result"
    }
   ],
   "source": [
    "#printing upto 10\n",
    "m=ratings[0:10]\n",
    "m"
   ]
  },
  {
   "cell_type": "code",
   "execution_count": 39,
   "id": "99558e1c",
   "metadata": {},
   "outputs": [
    {
     "name": "stdout",
     "output_type": "stream",
     "text": [
      "10\n",
      "10\n",
      "10\n",
      "10\n"
     ]
    }
   ],
   "source": [
    "print(len(matches))\n",
    "print(len(points))\n",
    "print(len(m))\n",
    "print(len(team))"
   ]
  },
  {
   "cell_type": "code",
   "execution_count": 40,
   "id": "21fe97e2",
   "metadata": {},
   "outputs": [],
   "source": [
    "#printing in dataframe\n",
    "rank=pd.DataFrame({'Team':team,'Matches':matches,'Points':points,'Rating':m})"
   ]
  },
  {
   "cell_type": "code",
   "execution_count": 41,
   "id": "2f798180",
   "metadata": {},
   "outputs": [
    {
     "data": {
      "text/html": [
       "<div>\n",
       "<style scoped>\n",
       "    .dataframe tbody tr th:only-of-type {\n",
       "        vertical-align: middle;\n",
       "    }\n",
       "\n",
       "    .dataframe tbody tr th {\n",
       "        vertical-align: top;\n",
       "    }\n",
       "\n",
       "    .dataframe thead th {\n",
       "        text-align: right;\n",
       "    }\n",
       "</style>\n",
       "<table border=\"1\" class=\"dataframe\">\n",
       "  <thead>\n",
       "    <tr style=\"text-align: right;\">\n",
       "      <th></th>\n",
       "      <th>Team</th>\n",
       "      <th>Matches</th>\n",
       "      <th>Points</th>\n",
       "      <th>Rating</th>\n",
       "    </tr>\n",
       "  </thead>\n",
       "  <tbody>\n",
       "    <tr>\n",
       "      <th>0</th>\n",
       "      <td>New Zealand</td>\n",
       "      <td>17</td>\n",
       "      <td>2,054</td>\n",
       "      <td>121</td>\n",
       "    </tr>\n",
       "    <tr>\n",
       "      <th>1</th>\n",
       "      <td>England</td>\n",
       "      <td>32</td>\n",
       "      <td>3,793</td>\n",
       "      <td>119</td>\n",
       "    </tr>\n",
       "    <tr>\n",
       "      <th>2</th>\n",
       "      <td>Australia</td>\n",
       "      <td>28</td>\n",
       "      <td>3,244</td>\n",
       "      <td>116</td>\n",
       "    </tr>\n",
       "    <tr>\n",
       "      <th>3</th>\n",
       "      <td>India</td>\n",
       "      <td>32</td>\n",
       "      <td>3,624</td>\n",
       "      <td>113</td>\n",
       "    </tr>\n",
       "    <tr>\n",
       "      <th>4</th>\n",
       "      <td>South Africa</td>\n",
       "      <td>25</td>\n",
       "      <td>2,459</td>\n",
       "      <td>98</td>\n",
       "    </tr>\n",
       "    <tr>\n",
       "      <th>5</th>\n",
       "      <td>Pakistan</td>\n",
       "      <td>27</td>\n",
       "      <td>2,524</td>\n",
       "      <td>93</td>\n",
       "    </tr>\n",
       "    <tr>\n",
       "      <th>6</th>\n",
       "      <td>Bangladesh</td>\n",
       "      <td>30</td>\n",
       "      <td>2,740</td>\n",
       "      <td>91</td>\n",
       "    </tr>\n",
       "    <tr>\n",
       "      <th>7</th>\n",
       "      <td>West Indies</td>\n",
       "      <td>30</td>\n",
       "      <td>2,523</td>\n",
       "      <td>84</td>\n",
       "    </tr>\n",
       "    <tr>\n",
       "      <th>8</th>\n",
       "      <td>Sri Lanka</td>\n",
       "      <td>32</td>\n",
       "      <td>2,657</td>\n",
       "      <td>83</td>\n",
       "    </tr>\n",
       "    <tr>\n",
       "      <th>9</th>\n",
       "      <td>Afghanistan</td>\n",
       "      <td>17</td>\n",
       "      <td>1,054</td>\n",
       "      <td>62</td>\n",
       "    </tr>\n",
       "  </tbody>\n",
       "</table>\n",
       "</div>"
      ],
      "text/plain": [
       "           Team Matches Points Rating\n",
       "0   New Zealand      17  2,054    121\n",
       "1       England      32  3,793    119\n",
       "2     Australia      28  3,244    116\n",
       "3         India      32  3,624    113\n",
       "4  South Africa      25  2,459     98\n",
       "5      Pakistan      27  2,524     93\n",
       "6    Bangladesh      30  2,740     91\n",
       "7   West Indies      30  2,523     84\n",
       "8     Sri Lanka      32  2,657     83\n",
       "9   Afghanistan      17  1,054     62"
      ]
     },
     "execution_count": 41,
     "metadata": {},
     "output_type": "execute_result"
    }
   ],
   "source": [
    "rank"
   ]
  },
  {
   "cell_type": "markdown",
   "id": "b9e92df7",
   "metadata": {},
   "source": [
    "Batsman rankings"
   ]
  },
  {
   "cell_type": "code",
   "execution_count": 42,
   "id": "9c75aa30",
   "metadata": {},
   "outputs": [],
   "source": [
    "odi=requests.get('https://www.icc-cricket.com/rankings/mens/player-rankings/odi/batting')"
   ]
  },
  {
   "cell_type": "code",
   "execution_count": 43,
   "id": "90bd5760",
   "metadata": {},
   "outputs": [
    {
     "data": {
      "text/plain": [
       "<Response [200]>"
      ]
     },
     "execution_count": 43,
     "metadata": {},
     "output_type": "execute_result"
    }
   ],
   "source": [
    "odi"
   ]
  },
  {
   "cell_type": "code",
   "execution_count": 44,
   "id": "c5e6647e",
   "metadata": {},
   "outputs": [],
   "source": [
    "soup=bs(odi.content)"
   ]
  },
  {
   "cell_type": "code",
   "execution_count": 45,
   "id": "814d1cbf",
   "metadata": {},
   "outputs": [
    {
     "data": {
      "text/plain": [
       "'Babar Azam'"
      ]
     },
     "execution_count": 45,
     "metadata": {},
     "output_type": "execute_result"
    }
   ],
   "source": [
    "#first name\n",
    "name=soup.find('div',class_='rankings-block__banner--name-large')\n",
    "name.text"
   ]
  },
  {
   "cell_type": "code",
   "execution_count": 46,
   "id": "575224ef",
   "metadata": {},
   "outputs": [
    {
     "data": {
      "text/plain": [
       "'PAK                    '"
      ]
     },
     "execution_count": 46,
     "metadata": {},
     "output_type": "execute_result"
    }
   ],
   "source": [
    "#first team\n",
    "other=soup.find('div',class_='rankings-block__banner--nationality')\n",
    "ot=other.text.replace('\\n','')\n",
    "ot"
   ]
  },
  {
   "cell_type": "code",
   "execution_count": 47,
   "id": "3cd6b272",
   "metadata": {},
   "outputs": [
    {
     "data": {
      "text/plain": [
       "'873'"
      ]
     },
     "execution_count": 47,
     "metadata": {},
     "output_type": "execute_result"
    }
   ],
   "source": [
    "#first batsman's rate\n",
    "rate=soup.find('div',class_='rankings-block__banner--rating')\n",
    "ty=rate.text\n",
    "ty"
   ]
  },
  {
   "cell_type": "code",
   "execution_count": 48,
   "id": "adc68a0c",
   "metadata": {},
   "outputs": [
    {
     "data": {
      "text/plain": [
       "['Babar Azam',\n",
       " 'Virat Kohli',\n",
       " 'Rohit Sharma',\n",
       " 'Ross Taylor',\n",
       " 'Aaron Finch',\n",
       " 'Jonny Bairstow',\n",
       " 'David Warner',\n",
       " 'Shai Hope',\n",
       " 'Kane Williamson',\n",
       " 'Quinton de Kock']"
      ]
     },
     "execution_count": 48,
     "metadata": {},
     "output_type": "execute_result"
    }
   ],
   "source": [
    "men=[]\n",
    "\n",
    "for i in soup.find_all('td',class_='table-body__cell rankings-table__name name'):\n",
    "    men.append(i.text.replace('\\n',''))\n",
    "    \n",
    "n=men[0:9]\n",
    "#inserting first batsman name into 0th index\n",
    "n.insert(0,name.text)\n",
    "n"
   ]
  },
  {
   "cell_type": "code",
   "execution_count": 49,
   "id": "c0e990a1",
   "metadata": {},
   "outputs": [
    {
     "data": {
      "text/plain": [
       "['PAK                    ',\n",
       " 'IND',\n",
       " 'IND',\n",
       " 'NZ',\n",
       " 'AUS',\n",
       " 'ENG',\n",
       " 'AUS',\n",
       " 'WI',\n",
       " 'NZ',\n",
       " 'SA']"
      ]
     },
     "execution_count": 49,
     "metadata": {},
     "output_type": "execute_result"
    }
   ],
   "source": [
    "teams=[]\n",
    "\n",
    "for val in soup.find_all('span',class_='table-body__logo-text'):\n",
    "    teams.append(val.text.replace('\\n',''))\n",
    "y=teams[0:9]\n",
    "y.insert(0,ot)\n",
    "y"
   ]
  },
  {
   "cell_type": "code",
   "execution_count": 50,
   "id": "9e6454db",
   "metadata": {},
   "outputs": [
    {
     "data": {
      "text/plain": [
       "['873', '844', '813', '801', '779', '775', '762', '758', '754', '747']"
      ]
     },
     "execution_count": 50,
     "metadata": {},
     "output_type": "execute_result"
    }
   ],
   "source": [
    "four=[]\n",
    "\n",
    "for g in soup.find_all('td',class_='table-body__cell rating'):\n",
    "    four.append(g.text)\n",
    "#inserting first batsman's rate    \n",
    "four.insert(0,rate.text)\n",
    "\n",
    "batsman=four[0:10]\n",
    "batsman"
   ]
  },
  {
   "cell_type": "code",
   "execution_count": 51,
   "id": "01e09a21",
   "metadata": {},
   "outputs": [],
   "source": [
    "#dataframe\n",
    "bat=pd.DataFrame({'Batsman':n,'Team':y,'Rating':batsman})"
   ]
  },
  {
   "cell_type": "code",
   "execution_count": 52,
   "id": "999e291b",
   "metadata": {},
   "outputs": [
    {
     "data": {
      "text/html": [
       "<div>\n",
       "<style scoped>\n",
       "    .dataframe tbody tr th:only-of-type {\n",
       "        vertical-align: middle;\n",
       "    }\n",
       "\n",
       "    .dataframe tbody tr th {\n",
       "        vertical-align: top;\n",
       "    }\n",
       "\n",
       "    .dataframe thead th {\n",
       "        text-align: right;\n",
       "    }\n",
       "</style>\n",
       "<table border=\"1\" class=\"dataframe\">\n",
       "  <thead>\n",
       "    <tr style=\"text-align: right;\">\n",
       "      <th></th>\n",
       "      <th>Batsman</th>\n",
       "      <th>Team</th>\n",
       "      <th>Rating</th>\n",
       "    </tr>\n",
       "  </thead>\n",
       "  <tbody>\n",
       "    <tr>\n",
       "      <th>0</th>\n",
       "      <td>Babar Azam</td>\n",
       "      <td>PAK</td>\n",
       "      <td>873</td>\n",
       "    </tr>\n",
       "    <tr>\n",
       "      <th>1</th>\n",
       "      <td>Virat Kohli</td>\n",
       "      <td>IND</td>\n",
       "      <td>844</td>\n",
       "    </tr>\n",
       "    <tr>\n",
       "      <th>2</th>\n",
       "      <td>Rohit Sharma</td>\n",
       "      <td>IND</td>\n",
       "      <td>813</td>\n",
       "    </tr>\n",
       "    <tr>\n",
       "      <th>3</th>\n",
       "      <td>Ross Taylor</td>\n",
       "      <td>NZ</td>\n",
       "      <td>801</td>\n",
       "    </tr>\n",
       "    <tr>\n",
       "      <th>4</th>\n",
       "      <td>Aaron Finch</td>\n",
       "      <td>AUS</td>\n",
       "      <td>779</td>\n",
       "    </tr>\n",
       "    <tr>\n",
       "      <th>5</th>\n",
       "      <td>Jonny Bairstow</td>\n",
       "      <td>ENG</td>\n",
       "      <td>775</td>\n",
       "    </tr>\n",
       "    <tr>\n",
       "      <th>6</th>\n",
       "      <td>David Warner</td>\n",
       "      <td>AUS</td>\n",
       "      <td>762</td>\n",
       "    </tr>\n",
       "    <tr>\n",
       "      <th>7</th>\n",
       "      <td>Shai Hope</td>\n",
       "      <td>WI</td>\n",
       "      <td>758</td>\n",
       "    </tr>\n",
       "    <tr>\n",
       "      <th>8</th>\n",
       "      <td>Kane Williamson</td>\n",
       "      <td>NZ</td>\n",
       "      <td>754</td>\n",
       "    </tr>\n",
       "    <tr>\n",
       "      <th>9</th>\n",
       "      <td>Quinton de Kock</td>\n",
       "      <td>SA</td>\n",
       "      <td>747</td>\n",
       "    </tr>\n",
       "  </tbody>\n",
       "</table>\n",
       "</div>"
      ],
      "text/plain": [
       "           Batsman                     Team Rating\n",
       "0       Babar Azam  PAK                        873\n",
       "1      Virat Kohli                      IND    844\n",
       "2     Rohit Sharma                      IND    813\n",
       "3      Ross Taylor                       NZ    801\n",
       "4      Aaron Finch                      AUS    779\n",
       "5   Jonny Bairstow                      ENG    775\n",
       "6     David Warner                      AUS    762\n",
       "7        Shai Hope                       WI    758\n",
       "8  Kane Williamson                       NZ    754\n",
       "9  Quinton de Kock                       SA    747"
      ]
     },
     "execution_count": 52,
     "metadata": {},
     "output_type": "execute_result"
    }
   ],
   "source": [
    "bat"
   ]
  },
  {
   "cell_type": "markdown",
   "id": "1b035af7",
   "metadata": {},
   "source": [
    "Bowlers Rankings"
   ]
  },
  {
   "cell_type": "code",
   "execution_count": 53,
   "id": "094c1ade",
   "metadata": {},
   "outputs": [],
   "source": [
    "od=requests.get('https://www.icc-cricket.com/rankings/mens/player-rankings/odi/bowling')"
   ]
  },
  {
   "cell_type": "code",
   "execution_count": 54,
   "id": "f372c43e",
   "metadata": {},
   "outputs": [
    {
     "data": {
      "text/plain": [
       "<Response [200]>"
      ]
     },
     "execution_count": 54,
     "metadata": {},
     "output_type": "execute_result"
    }
   ],
   "source": [
    "od"
   ]
  },
  {
   "cell_type": "code",
   "execution_count": 55,
   "id": "815c3c8e",
   "metadata": {},
   "outputs": [],
   "source": [
    "sp=bs(od.content)"
   ]
  },
  {
   "cell_type": "code",
   "execution_count": 56,
   "id": "eb3c9731",
   "metadata": {},
   "outputs": [
    {
     "data": {
      "text/plain": [
       "'Trent Boult'"
      ]
     },
     "execution_count": 56,
     "metadata": {},
     "output_type": "execute_result"
    }
   ],
   "source": [
    "#name of first bowler\n",
    "nt=sp.find('div',class_='rankings-block__banner--name-large')\n",
    "nt.text"
   ]
  },
  {
   "cell_type": "code",
   "execution_count": 57,
   "id": "5d3b50e4",
   "metadata": {},
   "outputs": [
    {
     "data": {
      "text/plain": [
       "'NZ                    '"
      ]
     },
     "execution_count": 57,
     "metadata": {},
     "output_type": "execute_result"
    }
   ],
   "source": [
    "#name of the team\n",
    "tm=sp.find('div',class_='rankings-block__banner--nationality')\n",
    "nz=tm.text.replace('\\n','')\n",
    "nz"
   ]
  },
  {
   "cell_type": "code",
   "execution_count": 58,
   "id": "4194a8c8",
   "metadata": {},
   "outputs": [
    {
     "data": {
      "text/plain": [
       "'737'"
      ]
     },
     "execution_count": 58,
     "metadata": {},
     "output_type": "execute_result"
    }
   ],
   "source": [
    "#first rating\n",
    "tr=sp.find('div',class_='rankings-block__banner--rating')\n",
    "tr.text"
   ]
  },
  {
   "cell_type": "code",
   "execution_count": 59,
   "id": "1f60e505",
   "metadata": {},
   "outputs": [
    {
     "data": {
      "text/plain": [
       "['Trent Boult',\n",
       " 'Josh Hazlewood',\n",
       " 'Mujeeb Ur Rahman',\n",
       " 'Chris Woakes',\n",
       " 'Mehedi Hasan',\n",
       " 'Matt Henry',\n",
       " 'Jasprit Bumrah',\n",
       " 'Mitchell Starc',\n",
       " 'Shakib Al Hasan',\n",
       " 'Kagiso Rabada']"
      ]
     },
     "execution_count": 59,
     "metadata": {},
     "output_type": "execute_result"
    }
   ],
   "source": [
    "name=[]\n",
    "\n",
    "for nm in sp.find_all('td',class_='table-body__cell rankings-table__name name'):\n",
    "    name.append(nm.text.replace('\\n',''))\n",
    "#inserting first bowler's name into 0th index\n",
    "name.insert(0,nt.text)\n",
    "nam=name[0:10]\n",
    "nam"
   ]
  },
  {
   "cell_type": "code",
   "execution_count": 60,
   "id": "6cd0e4ec",
   "metadata": {},
   "outputs": [
    {
     "data": {
      "text/plain": [
       "['NZ                    ',\n",
       " 'AUS',\n",
       " 'AFG',\n",
       " 'ENG',\n",
       " 'BAN',\n",
       " 'NZ',\n",
       " 'IND',\n",
       " 'AUS',\n",
       " 'BAN',\n",
       " 'SA']"
      ]
     },
     "execution_count": 60,
     "metadata": {},
     "output_type": "execute_result"
    }
   ],
   "source": [
    "folks=[]\n",
    "\n",
    "for j in sp.find_all('span',class_='table-body__logo-text'):\n",
    "    folks.append(j.text)\n",
    "#adding first team name\n",
    "folks.insert(0,nz)\n",
    "team=folks[0:10]\n",
    "team"
   ]
  },
  {
   "cell_type": "code",
   "execution_count": 61,
   "id": "0b1e56b6",
   "metadata": {},
   "outputs": [
    {
     "data": {
      "text/plain": [
       "['737', '709', '708', '700', '692', '691', '679', '652', '650', '646']"
      ]
     },
     "execution_count": 61,
     "metadata": {},
     "output_type": "execute_result"
    }
   ],
   "source": [
    "trend=[]\n",
    "for y in sp.find_all('td',class_='table-body__cell rating'):\n",
    "    trend.append(y.text)\n",
    "#inserting first rate\n",
    "trend.insert(0,tr.text)\n",
    "rat=trend[0:10]\n",
    "rat"
   ]
  },
  {
   "cell_type": "code",
   "execution_count": 62,
   "id": "2450a690",
   "metadata": {},
   "outputs": [],
   "source": [
    "#dataframe\n",
    "bowler=pd.DataFrame({'Bowler':nam,'Team':team,'Rating':rat})"
   ]
  },
  {
   "cell_type": "code",
   "execution_count": 63,
   "id": "5ed8dfa2",
   "metadata": {},
   "outputs": [
    {
     "data": {
      "text/html": [
       "<div>\n",
       "<style scoped>\n",
       "    .dataframe tbody tr th:only-of-type {\n",
       "        vertical-align: middle;\n",
       "    }\n",
       "\n",
       "    .dataframe tbody tr th {\n",
       "        vertical-align: top;\n",
       "    }\n",
       "\n",
       "    .dataframe thead th {\n",
       "        text-align: right;\n",
       "    }\n",
       "</style>\n",
       "<table border=\"1\" class=\"dataframe\">\n",
       "  <thead>\n",
       "    <tr style=\"text-align: right;\">\n",
       "      <th></th>\n",
       "      <th>Bowler</th>\n",
       "      <th>Team</th>\n",
       "      <th>Rating</th>\n",
       "    </tr>\n",
       "  </thead>\n",
       "  <tbody>\n",
       "    <tr>\n",
       "      <th>0</th>\n",
       "      <td>Trent Boult</td>\n",
       "      <td>NZ</td>\n",
       "      <td>737</td>\n",
       "    </tr>\n",
       "    <tr>\n",
       "      <th>1</th>\n",
       "      <td>Josh Hazlewood</td>\n",
       "      <td>AUS</td>\n",
       "      <td>709</td>\n",
       "    </tr>\n",
       "    <tr>\n",
       "      <th>2</th>\n",
       "      <td>Mujeeb Ur Rahman</td>\n",
       "      <td>AFG</td>\n",
       "      <td>708</td>\n",
       "    </tr>\n",
       "    <tr>\n",
       "      <th>3</th>\n",
       "      <td>Chris Woakes</td>\n",
       "      <td>ENG</td>\n",
       "      <td>700</td>\n",
       "    </tr>\n",
       "    <tr>\n",
       "      <th>4</th>\n",
       "      <td>Mehedi Hasan</td>\n",
       "      <td>BAN</td>\n",
       "      <td>692</td>\n",
       "    </tr>\n",
       "    <tr>\n",
       "      <th>5</th>\n",
       "      <td>Matt Henry</td>\n",
       "      <td>NZ</td>\n",
       "      <td>691</td>\n",
       "    </tr>\n",
       "    <tr>\n",
       "      <th>6</th>\n",
       "      <td>Jasprit Bumrah</td>\n",
       "      <td>IND</td>\n",
       "      <td>679</td>\n",
       "    </tr>\n",
       "    <tr>\n",
       "      <th>7</th>\n",
       "      <td>Mitchell Starc</td>\n",
       "      <td>AUS</td>\n",
       "      <td>652</td>\n",
       "    </tr>\n",
       "    <tr>\n",
       "      <th>8</th>\n",
       "      <td>Shakib Al Hasan</td>\n",
       "      <td>BAN</td>\n",
       "      <td>650</td>\n",
       "    </tr>\n",
       "    <tr>\n",
       "      <th>9</th>\n",
       "      <td>Kagiso Rabada</td>\n",
       "      <td>SA</td>\n",
       "      <td>646</td>\n",
       "    </tr>\n",
       "  </tbody>\n",
       "</table>\n",
       "</div>"
      ],
      "text/plain": [
       "             Bowler                    Team Rating\n",
       "0       Trent Boult  NZ                        737\n",
       "1    Josh Hazlewood                     AUS    709\n",
       "2  Mujeeb Ur Rahman                     AFG    708\n",
       "3      Chris Woakes                     ENG    700\n",
       "4      Mehedi Hasan                     BAN    692\n",
       "5        Matt Henry                      NZ    691\n",
       "6    Jasprit Bumrah                     IND    679\n",
       "7    Mitchell Starc                     AUS    652\n",
       "8   Shakib Al Hasan                     BAN    650\n",
       "9     Kagiso Rabada                      SA    646"
      ]
     },
     "execution_count": 63,
     "metadata": {},
     "output_type": "execute_result"
    }
   ],
   "source": [
    "bowler"
   ]
  },
  {
   "cell_type": "markdown",
   "id": "6fb45f78",
   "metadata": {},
   "source": [
    "# Women's Cricket Rankings"
   ]
  },
  {
   "cell_type": "markdown",
   "id": "bd52d9ba",
   "metadata": {},
   "source": [
    "Team rankings"
   ]
  },
  {
   "cell_type": "code",
   "execution_count": 64,
   "id": "a0c6d1e3",
   "metadata": {},
   "outputs": [],
   "source": [
    "get_data=requests.get('https://www.icc-cricket.com/rankings/womens/team-rankings/odi')"
   ]
  },
  {
   "cell_type": "code",
   "execution_count": 65,
   "id": "dd90accd",
   "metadata": {},
   "outputs": [
    {
     "data": {
      "text/plain": [
       "<Response [200]>"
      ]
     },
     "execution_count": 65,
     "metadata": {},
     "output_type": "execute_result"
    }
   ],
   "source": [
    "get_data"
   ]
  },
  {
   "cell_type": "code",
   "execution_count": 66,
   "id": "2094d4d2",
   "metadata": {},
   "outputs": [],
   "source": [
    "data=bs(get_data.content)"
   ]
  },
  {
   "cell_type": "code",
   "execution_count": 67,
   "id": "1f6ed5af",
   "metadata": {},
   "outputs": [
    {
     "data": {
      "text/plain": [
       "'Australia'"
      ]
     },
     "execution_count": 67,
     "metadata": {},
     "output_type": "execute_result"
    }
   ],
   "source": [
    "#first team name\n",
    "first_pos=data.find('span',class_='u-hide-phablet')\n",
    "t=first_pos.text\n",
    "t"
   ]
  },
  {
   "cell_type": "code",
   "execution_count": 68,
   "id": "944b5b89",
   "metadata": {},
   "outputs": [
    {
     "data": {
      "text/plain": [
       "'21'"
      ]
     },
     "execution_count": 68,
     "metadata": {},
     "output_type": "execute_result"
    }
   ],
   "source": [
    "#first team's matches\n",
    "first_mat=data.find('td',class_='rankings-block__banner--matches')\n",
    "x=first_mat.text\n",
    "x"
   ]
  },
  {
   "cell_type": "code",
   "execution_count": 69,
   "id": "cf6fa9ab",
   "metadata": {},
   "outputs": [
    {
     "data": {
      "text/plain": [
       "'3,379'"
      ]
     },
     "execution_count": 69,
     "metadata": {},
     "output_type": "execute_result"
    }
   ],
   "source": [
    "#first team's points\n",
    "first_poi=data.find('td',class_='rankings-block__banner--points')\n",
    "p=first_poi.text\n",
    "p"
   ]
  },
  {
   "cell_type": "code",
   "execution_count": 70,
   "id": "77b6b6aa",
   "metadata": {},
   "outputs": [
    {
     "data": {
      "text/plain": [
       "'161                            '"
      ]
     },
     "execution_count": 70,
     "metadata": {},
     "output_type": "execute_result"
    }
   ],
   "source": [
    "#first team's rating\n",
    "first_rate=data.find('td',class_='rankings-block__banner--rating u-text-right')\n",
    "f=first_rate.text.replace('\\n','')\n",
    "g=f.lstrip()\n",
    "g"
   ]
  },
  {
   "cell_type": "code",
   "execution_count": 71,
   "id": "6ce2b0dc",
   "metadata": {},
   "outputs": [
    {
     "data": {
      "text/plain": [
       "['Australia',\n",
       " 'England',\n",
       " 'South Africa',\n",
       " 'India',\n",
       " 'New Zealand',\n",
       " 'West Indies',\n",
       " 'Pakistan',\n",
       " 'Bangladesh',\n",
       " 'Sri Lanka',\n",
       " 'Ireland']"
      ]
     },
     "execution_count": 71,
     "metadata": {},
     "output_type": "execute_result"
    }
   ],
   "source": [
    "#teams names\n",
    "wom=[]\n",
    "\n",
    "for y in data.find_all('span',class_='u-hide-phablet'):\n",
    "    wom.append(y.text)\n",
    "tea=wom[0:10]\n",
    "tea"
   ]
  },
  {
   "cell_type": "code",
   "execution_count": 72,
   "id": "c2c048dd",
   "metadata": {},
   "outputs": [
    {
     "data": {
      "text/plain": [
       "['21',\n",
       " '3,379',\n",
       " '25',\n",
       " '2,983',\n",
       " '29',\n",
       " '3,390',\n",
       " '26',\n",
       " '2,934',\n",
       " '26',\n",
       " '2,392',\n",
       " '22',\n",
       " '1,872',\n",
       " '20',\n",
       " '1,496',\n",
       " '5',\n",
       " '306',\n",
       " '11',\n",
       " '519',\n",
       " '2',\n",
       " '25']"
      ]
     },
     "execution_count": 72,
     "metadata": {},
     "output_type": "execute_result"
    }
   ],
   "source": [
    "#number of matches and points\n",
    "mat=[]\n",
    "\n",
    "for m in data.find_all('td',class_='table-body__cell u-center-text'):\n",
    "    mat.append(m.text)\n",
    "#inserting first team's match   \n",
    "mat.insert(0,x)\n",
    "mat.insert(1,p)\n",
    "mat"
   ]
  },
  {
   "cell_type": "code",
   "execution_count": 73,
   "id": "36a75c5d",
   "metadata": {},
   "outputs": [
    {
     "data": {
      "text/plain": [
       "['21', '25', '29', '26', '26', '22', '20', '5', '11', '2']"
      ]
     },
     "execution_count": 73,
     "metadata": {},
     "output_type": "execute_result"
    }
   ],
   "source": [
    "#taking the team's number of matches\n",
    "matches=mat[0:20:2]\n",
    "matches"
   ]
  },
  {
   "cell_type": "code",
   "execution_count": 74,
   "id": "e49c63c8",
   "metadata": {},
   "outputs": [
    {
     "data": {
      "text/plain": [
       "['3,379',\n",
       " '2,983',\n",
       " '3,390',\n",
       " '2,934',\n",
       " '2,392',\n",
       " '1,872',\n",
       " '1,496',\n",
       " '306',\n",
       " '519',\n",
       " '25']"
      ]
     },
     "execution_count": 74,
     "metadata": {},
     "output_type": "execute_result"
    }
   ],
   "source": [
    "#taking the points of the team\n",
    "point=mat[1:20:2]\n",
    "point"
   ]
  },
  {
   "cell_type": "code",
   "execution_count": 75,
   "id": "c1584da6",
   "metadata": {},
   "outputs": [
    {
     "data": {
      "text/plain": [
       "['161                            ',\n",
       " '119',\n",
       " '117',\n",
       " '113',\n",
       " '92',\n",
       " '85',\n",
       " '75',\n",
       " '61',\n",
       " '47',\n",
       " '13']"
      ]
     },
     "execution_count": 75,
     "metadata": {},
     "output_type": "execute_result"
    }
   ],
   "source": [
    "#team rating\n",
    "ex=[]\n",
    "\n",
    "for c in data.find_all('td',class_='table-body__cell u-text-right rating'):\n",
    "    ex.append(c.text)\n",
    "#inserting first team's rating    \n",
    "ex.insert(0,g)\n",
    "ex"
   ]
  },
  {
   "cell_type": "code",
   "execution_count": 76,
   "id": "591180c2",
   "metadata": {},
   "outputs": [],
   "source": [
    "#dataframe\n",
    "trank=pd.DataFrame({'Team':tea,'Matches':matches,'Points':point,'Rating':ex})"
   ]
  },
  {
   "cell_type": "code",
   "execution_count": 77,
   "id": "c6044934",
   "metadata": {},
   "outputs": [
    {
     "data": {
      "text/html": [
       "<div>\n",
       "<style scoped>\n",
       "    .dataframe tbody tr th:only-of-type {\n",
       "        vertical-align: middle;\n",
       "    }\n",
       "\n",
       "    .dataframe tbody tr th {\n",
       "        vertical-align: top;\n",
       "    }\n",
       "\n",
       "    .dataframe thead th {\n",
       "        text-align: right;\n",
       "    }\n",
       "</style>\n",
       "<table border=\"1\" class=\"dataframe\">\n",
       "  <thead>\n",
       "    <tr style=\"text-align: right;\">\n",
       "      <th></th>\n",
       "      <th>Team</th>\n",
       "      <th>Matches</th>\n",
       "      <th>Points</th>\n",
       "      <th>Rating</th>\n",
       "    </tr>\n",
       "  </thead>\n",
       "  <tbody>\n",
       "    <tr>\n",
       "      <th>0</th>\n",
       "      <td>Australia</td>\n",
       "      <td>21</td>\n",
       "      <td>3,379</td>\n",
       "      <td>161</td>\n",
       "    </tr>\n",
       "    <tr>\n",
       "      <th>1</th>\n",
       "      <td>England</td>\n",
       "      <td>25</td>\n",
       "      <td>2,983</td>\n",
       "      <td>119</td>\n",
       "    </tr>\n",
       "    <tr>\n",
       "      <th>2</th>\n",
       "      <td>South Africa</td>\n",
       "      <td>29</td>\n",
       "      <td>3,390</td>\n",
       "      <td>117</td>\n",
       "    </tr>\n",
       "    <tr>\n",
       "      <th>3</th>\n",
       "      <td>India</td>\n",
       "      <td>26</td>\n",
       "      <td>2,934</td>\n",
       "      <td>113</td>\n",
       "    </tr>\n",
       "    <tr>\n",
       "      <th>4</th>\n",
       "      <td>New Zealand</td>\n",
       "      <td>26</td>\n",
       "      <td>2,392</td>\n",
       "      <td>92</td>\n",
       "    </tr>\n",
       "    <tr>\n",
       "      <th>5</th>\n",
       "      <td>West Indies</td>\n",
       "      <td>22</td>\n",
       "      <td>1,872</td>\n",
       "      <td>85</td>\n",
       "    </tr>\n",
       "    <tr>\n",
       "      <th>6</th>\n",
       "      <td>Pakistan</td>\n",
       "      <td>20</td>\n",
       "      <td>1,496</td>\n",
       "      <td>75</td>\n",
       "    </tr>\n",
       "    <tr>\n",
       "      <th>7</th>\n",
       "      <td>Bangladesh</td>\n",
       "      <td>5</td>\n",
       "      <td>306</td>\n",
       "      <td>61</td>\n",
       "    </tr>\n",
       "    <tr>\n",
       "      <th>8</th>\n",
       "      <td>Sri Lanka</td>\n",
       "      <td>11</td>\n",
       "      <td>519</td>\n",
       "      <td>47</td>\n",
       "    </tr>\n",
       "    <tr>\n",
       "      <th>9</th>\n",
       "      <td>Ireland</td>\n",
       "      <td>2</td>\n",
       "      <td>25</td>\n",
       "      <td>13</td>\n",
       "    </tr>\n",
       "  </tbody>\n",
       "</table>\n",
       "</div>"
      ],
      "text/plain": [
       "           Team Matches Points                           Rating\n",
       "0     Australia      21  3,379  161                            \n",
       "1       England      25  2,983                              119\n",
       "2  South Africa      29  3,390                              117\n",
       "3         India      26  2,934                              113\n",
       "4   New Zealand      26  2,392                               92\n",
       "5   West Indies      22  1,872                               85\n",
       "6      Pakistan      20  1,496                               75\n",
       "7    Bangladesh       5    306                               61\n",
       "8     Sri Lanka      11    519                               47\n",
       "9       Ireland       2     25                               13"
      ]
     },
     "execution_count": 77,
     "metadata": {},
     "output_type": "execute_result"
    }
   ],
   "source": [
    "trank"
   ]
  },
  {
   "cell_type": "markdown",
   "id": "87ebdd63",
   "metadata": {},
   "source": [
    "Women Batting Rankings"
   ]
  },
  {
   "cell_type": "code",
   "execution_count": 78,
   "id": "35a65b22",
   "metadata": {},
   "outputs": [],
   "source": [
    "post_data=requests.get('https://www.icc-cricket.com/rankings/womens/player-rankings/odi/batting')"
   ]
  },
  {
   "cell_type": "code",
   "execution_count": 79,
   "id": "eb981a91",
   "metadata": {},
   "outputs": [
    {
     "data": {
      "text/plain": [
       "<Response [200]>"
      ]
     },
     "execution_count": 79,
     "metadata": {},
     "output_type": "execute_result"
    }
   ],
   "source": [
    "post_data"
   ]
  },
  {
   "cell_type": "code",
   "execution_count": 80,
   "id": "0cba7f32",
   "metadata": {},
   "outputs": [],
   "source": [
    "batt=bs(post_data.content)"
   ]
  },
  {
   "cell_type": "code",
   "execution_count": 81,
   "id": "024e8d9d",
   "metadata": {},
   "outputs": [
    {
     "data": {
      "text/plain": [
       "'Lizelle Lee'"
      ]
     },
     "execution_count": 81,
     "metadata": {},
     "output_type": "execute_result"
    }
   ],
   "source": [
    "#name of first ranker\n",
    "vi=batt.find('div',class_='rankings-block__banner--name-large')\n",
    "fir=vi.text\n",
    "fir"
   ]
  },
  {
   "cell_type": "code",
   "execution_count": 82,
   "id": "1a29f296",
   "metadata": {},
   "outputs": [
    {
     "data": {
      "text/plain": [
       "'SA                    '"
      ]
     },
     "execution_count": 82,
     "metadata": {},
     "output_type": "execute_result"
    }
   ],
   "source": [
    "#first ranker's team\n",
    "vi1=batt.find('div',class_='rankings-block__banner--nationality')\n",
    "one=vi1.text.replace('\\n','')\n",
    "one"
   ]
  },
  {
   "cell_type": "code",
   "execution_count": 83,
   "id": "ca675ffd",
   "metadata": {},
   "outputs": [
    {
     "data": {
      "text/plain": [
       "'761'"
      ]
     },
     "execution_count": 83,
     "metadata": {},
     "output_type": "execute_result"
    }
   ],
   "source": [
    "#first rating\n",
    "air=batt.find('div',class_='rankings-block__banner--rating')\n",
    "bus=air.text\n",
    "bus"
   ]
  },
  {
   "cell_type": "code",
   "execution_count": 84,
   "id": "8e464e8d",
   "metadata": {},
   "outputs": [
    {
     "data": {
      "text/plain": [
       "['Lizelle Lee',\n",
       " 'Alyssa Healy',\n",
       " 'Mithali Raj',\n",
       " 'Tammy Beaumont',\n",
       " 'Amy Satterthwaite',\n",
       " 'Smriti Mandhana',\n",
       " 'Meg Lanning',\n",
       " 'Beth Mooney',\n",
       " 'Heather Knight',\n",
       " 'Laura Wolvaardt']"
      ]
     },
     "execution_count": 84,
     "metadata": {},
     "output_type": "execute_result"
    }
   ],
   "source": [
    "liz=[]\n",
    "\n",
    "for u in batt.find_all('td',class_='table-body__cell rankings-table__name name'):\n",
    "    liz.append(u.text.replace('\\n',''))\n",
    "#inserting name of first player\n",
    "liz.insert(0,fir)\n",
    "ran=liz[0:10]\n",
    "ran"
   ]
  },
  {
   "cell_type": "code",
   "execution_count": 85,
   "id": "0382289b",
   "metadata": {},
   "outputs": [
    {
     "data": {
      "text/plain": [
       "['SA                    ',\n",
       " 'AUS',\n",
       " 'IND',\n",
       " 'ENG',\n",
       " 'NZ',\n",
       " 'IND',\n",
       " 'AUS',\n",
       " 'AUS',\n",
       " 'ENG',\n",
       " 'SA']"
      ]
     },
     "execution_count": 85,
     "metadata": {},
     "output_type": "execute_result"
    }
   ],
   "source": [
    "sa=[]\n",
    "\n",
    "for o in batt.find_all('span',class_='table-body__logo-text'):\n",
    "    sa.append(o.text)\n",
    "#inserting first team    \n",
    "sa.insert(0,one)\n",
    "te=sa[0:10]\n",
    "te"
   ]
  },
  {
   "cell_type": "code",
   "execution_count": 86,
   "id": "827309cb",
   "metadata": {},
   "outputs": [
    {
     "data": {
      "text/plain": [
       "['761', '750', '738', '728', '717', '710', '699', '690', '674', '672']"
      ]
     },
     "execution_count": 86,
     "metadata": {},
     "output_type": "execute_result"
    }
   ],
   "source": [
    "ra=[]\n",
    "\n",
    "for n in batt.find_all('td',class_='table-body__cell rating'):\n",
    "    ra.append(n.text)\n",
    "#inserting first rating\n",
    "ra.insert(0,bus)\n",
    "ratings=ra[0:10]\n",
    "ratings"
   ]
  },
  {
   "cell_type": "code",
   "execution_count": 87,
   "id": "eb6e7d95",
   "metadata": {},
   "outputs": [],
   "source": [
    "#dataframe\n",
    "batra=pd.DataFrame({'Player':ran,'Team':te,'Rating':ratings})"
   ]
  },
  {
   "cell_type": "code",
   "execution_count": 88,
   "id": "e96f0938",
   "metadata": {},
   "outputs": [
    {
     "data": {
      "text/html": [
       "<div>\n",
       "<style scoped>\n",
       "    .dataframe tbody tr th:only-of-type {\n",
       "        vertical-align: middle;\n",
       "    }\n",
       "\n",
       "    .dataframe tbody tr th {\n",
       "        vertical-align: top;\n",
       "    }\n",
       "\n",
       "    .dataframe thead th {\n",
       "        text-align: right;\n",
       "    }\n",
       "</style>\n",
       "<table border=\"1\" class=\"dataframe\">\n",
       "  <thead>\n",
       "    <tr style=\"text-align: right;\">\n",
       "      <th></th>\n",
       "      <th>Player</th>\n",
       "      <th>Team</th>\n",
       "      <th>Rating</th>\n",
       "    </tr>\n",
       "  </thead>\n",
       "  <tbody>\n",
       "    <tr>\n",
       "      <th>0</th>\n",
       "      <td>Lizelle Lee</td>\n",
       "      <td>SA</td>\n",
       "      <td>761</td>\n",
       "    </tr>\n",
       "    <tr>\n",
       "      <th>1</th>\n",
       "      <td>Alyssa Healy</td>\n",
       "      <td>AUS</td>\n",
       "      <td>750</td>\n",
       "    </tr>\n",
       "    <tr>\n",
       "      <th>2</th>\n",
       "      <td>Mithali Raj</td>\n",
       "      <td>IND</td>\n",
       "      <td>738</td>\n",
       "    </tr>\n",
       "    <tr>\n",
       "      <th>3</th>\n",
       "      <td>Tammy Beaumont</td>\n",
       "      <td>ENG</td>\n",
       "      <td>728</td>\n",
       "    </tr>\n",
       "    <tr>\n",
       "      <th>4</th>\n",
       "      <td>Amy Satterthwaite</td>\n",
       "      <td>NZ</td>\n",
       "      <td>717</td>\n",
       "    </tr>\n",
       "    <tr>\n",
       "      <th>5</th>\n",
       "      <td>Smriti Mandhana</td>\n",
       "      <td>IND</td>\n",
       "      <td>710</td>\n",
       "    </tr>\n",
       "    <tr>\n",
       "      <th>6</th>\n",
       "      <td>Meg Lanning</td>\n",
       "      <td>AUS</td>\n",
       "      <td>699</td>\n",
       "    </tr>\n",
       "    <tr>\n",
       "      <th>7</th>\n",
       "      <td>Beth Mooney</td>\n",
       "      <td>AUS</td>\n",
       "      <td>690</td>\n",
       "    </tr>\n",
       "    <tr>\n",
       "      <th>8</th>\n",
       "      <td>Heather Knight</td>\n",
       "      <td>ENG</td>\n",
       "      <td>674</td>\n",
       "    </tr>\n",
       "    <tr>\n",
       "      <th>9</th>\n",
       "      <td>Laura Wolvaardt</td>\n",
       "      <td>SA</td>\n",
       "      <td>672</td>\n",
       "    </tr>\n",
       "  </tbody>\n",
       "</table>\n",
       "</div>"
      ],
      "text/plain": [
       "              Player                    Team Rating\n",
       "0        Lizelle Lee  SA                        761\n",
       "1       Alyssa Healy                     AUS    750\n",
       "2        Mithali Raj                     IND    738\n",
       "3     Tammy Beaumont                     ENG    728\n",
       "4  Amy Satterthwaite                      NZ    717\n",
       "5    Smriti Mandhana                     IND    710\n",
       "6        Meg Lanning                     AUS    699\n",
       "7        Beth Mooney                     AUS    690\n",
       "8     Heather Knight                     ENG    674\n",
       "9    Laura Wolvaardt                      SA    672"
      ]
     },
     "execution_count": 88,
     "metadata": {},
     "output_type": "execute_result"
    }
   ],
   "source": [
    "batra"
   ]
  },
  {
   "cell_type": "markdown",
   "id": "ebd68e83",
   "metadata": {},
   "source": [
    "Allrounder Rankings"
   ]
  },
  {
   "cell_type": "code",
   "execution_count": 89,
   "id": "646d75b3",
   "metadata": {},
   "outputs": [],
   "source": [
    "pre=requests.get('https://www.icc-cricket.com/rankings/womens/player-rankings/odi/all-rounder')"
   ]
  },
  {
   "cell_type": "code",
   "execution_count": 90,
   "id": "7a44794c",
   "metadata": {},
   "outputs": [
    {
     "data": {
      "text/plain": [
       "<Response [200]>"
      ]
     },
     "execution_count": 90,
     "metadata": {},
     "output_type": "execute_result"
    }
   ],
   "source": [
    "pre"
   ]
  },
  {
   "cell_type": "code",
   "execution_count": 91,
   "id": "5569ea11",
   "metadata": {},
   "outputs": [],
   "source": [
    "bun=bs(pre.content)"
   ]
  },
  {
   "cell_type": "code",
   "execution_count": 92,
   "id": "f3ec25a3",
   "metadata": {},
   "outputs": [
    {
     "data": {
      "text/plain": [
       "'Marizanne Kapp'"
      ]
     },
     "execution_count": 92,
     "metadata": {},
     "output_type": "execute_result"
    }
   ],
   "source": [
    "#first name\n",
    "onn=bun.find('div',class_='rankings-block__banner--name-large')\n",
    "i=onn.text\n",
    "i"
   ]
  },
  {
   "cell_type": "code",
   "execution_count": 93,
   "id": "26de0011",
   "metadata": {},
   "outputs": [
    {
     "data": {
      "text/plain": [
       "'SA                    '"
      ]
     },
     "execution_count": 93,
     "metadata": {},
     "output_type": "execute_result"
    }
   ],
   "source": [
    "#first team\n",
    "ft=bun.find('div',class_='rankings-block__banner--nationality')\n",
    "ui=ft.text.replace('\\n','')\n",
    "ui"
   ]
  },
  {
   "cell_type": "code",
   "execution_count": 94,
   "id": "4d457db4",
   "metadata": {},
   "outputs": [
    {
     "data": {
      "text/plain": [
       "'384'"
      ]
     },
     "execution_count": 94,
     "metadata": {},
     "output_type": "execute_result"
    }
   ],
   "source": [
    "#first rating\n",
    "fr=bun.find('div',class_='rankings-block__banner--rating')\n",
    "er=fr.text\n",
    "er"
   ]
  },
  {
   "cell_type": "code",
   "execution_count": 95,
   "id": "8a68383d",
   "metadata": {},
   "outputs": [
    {
     "data": {
      "text/plain": [
       "['Marizanne Kapp',\n",
       " 'Natalie Sciver',\n",
       " 'Ellyse Perry',\n",
       " 'Stafanie Taylor',\n",
       " 'Deepti Sharma',\n",
       " 'Ashleigh Gardner',\n",
       " 'Dane van Niekerk',\n",
       " 'Jess Jonassen',\n",
       " 'Katherine Brunt',\n",
       " 'Jhulan Goswami']"
      ]
     },
     "execution_count": 95,
     "metadata": {},
     "output_type": "execute_result"
    }
   ],
   "source": [
    "naam=[]\n",
    "\n",
    "for z in bun.find_all('td',class_='table-body__cell rankings-table__name name'):\n",
    "    naam.append(z.text.replace('\\n',''))\n",
    "#inserting first name\n",
    "naam.insert(0,i)\n",
    "nm=naam[0:10]\n",
    "nm"
   ]
  },
  {
   "cell_type": "code",
   "execution_count": 96,
   "id": "6d0da6b8",
   "metadata": {},
   "outputs": [
    {
     "data": {
      "text/plain": [
       "['SA                    ',\n",
       " 'ENG',\n",
       " 'AUS',\n",
       " 'WI',\n",
       " 'IND',\n",
       " 'AUS',\n",
       " 'SA',\n",
       " 'AUS',\n",
       " 'ENG',\n",
       " 'IND']"
      ]
     },
     "execution_count": 96,
     "metadata": {},
     "output_type": "execute_result"
    }
   ],
   "source": [
    "fg=[]\n",
    "for p in bun.find_all('span',class_='table-body__logo-text'):\n",
    "    fg.append(p.text)\n",
    "#inserting first team\n",
    "fg.insert(0,ui)\n",
    "hi=fg[0:10]\n",
    "hi"
   ]
  },
  {
   "cell_type": "code",
   "execution_count": 97,
   "id": "556435c4",
   "metadata": {},
   "outputs": [
    {
     "data": {
      "text/plain": [
       "['384', '372', '365', '322', '299', '275', '274', '272', '272', '251']"
      ]
     },
     "execution_count": 97,
     "metadata": {},
     "output_type": "execute_result"
    }
   ],
   "source": [
    "me=[]\n",
    "\n",
    "for uh in bun.find_all('td',class_='table-body__cell rating'):\n",
    "    me.append(uh.text)\n",
    "me.insert(0,er)\n",
    "me\n",
    "we=me[0:10]\n",
    "we"
   ]
  },
  {
   "cell_type": "code",
   "execution_count": 98,
   "id": "759ab534",
   "metadata": {},
   "outputs": [],
   "source": [
    "#dataframe\n",
    "allround=pd.DataFrame({'Player':nm,'Team':hi,'Rating':we})"
   ]
  },
  {
   "cell_type": "code",
   "execution_count": 99,
   "id": "493c219b",
   "metadata": {},
   "outputs": [
    {
     "data": {
      "text/html": [
       "<div>\n",
       "<style scoped>\n",
       "    .dataframe tbody tr th:only-of-type {\n",
       "        vertical-align: middle;\n",
       "    }\n",
       "\n",
       "    .dataframe tbody tr th {\n",
       "        vertical-align: top;\n",
       "    }\n",
       "\n",
       "    .dataframe thead th {\n",
       "        text-align: right;\n",
       "    }\n",
       "</style>\n",
       "<table border=\"1\" class=\"dataframe\">\n",
       "  <thead>\n",
       "    <tr style=\"text-align: right;\">\n",
       "      <th></th>\n",
       "      <th>Player</th>\n",
       "      <th>Team</th>\n",
       "      <th>Rating</th>\n",
       "    </tr>\n",
       "  </thead>\n",
       "  <tbody>\n",
       "    <tr>\n",
       "      <th>0</th>\n",
       "      <td>Marizanne Kapp</td>\n",
       "      <td>SA</td>\n",
       "      <td>384</td>\n",
       "    </tr>\n",
       "    <tr>\n",
       "      <th>1</th>\n",
       "      <td>Natalie Sciver</td>\n",
       "      <td>ENG</td>\n",
       "      <td>372</td>\n",
       "    </tr>\n",
       "    <tr>\n",
       "      <th>2</th>\n",
       "      <td>Ellyse Perry</td>\n",
       "      <td>AUS</td>\n",
       "      <td>365</td>\n",
       "    </tr>\n",
       "    <tr>\n",
       "      <th>3</th>\n",
       "      <td>Stafanie Taylor</td>\n",
       "      <td>WI</td>\n",
       "      <td>322</td>\n",
       "    </tr>\n",
       "    <tr>\n",
       "      <th>4</th>\n",
       "      <td>Deepti Sharma</td>\n",
       "      <td>IND</td>\n",
       "      <td>299</td>\n",
       "    </tr>\n",
       "    <tr>\n",
       "      <th>5</th>\n",
       "      <td>Ashleigh Gardner</td>\n",
       "      <td>AUS</td>\n",
       "      <td>275</td>\n",
       "    </tr>\n",
       "    <tr>\n",
       "      <th>6</th>\n",
       "      <td>Dane van Niekerk</td>\n",
       "      <td>SA</td>\n",
       "      <td>274</td>\n",
       "    </tr>\n",
       "    <tr>\n",
       "      <th>7</th>\n",
       "      <td>Jess Jonassen</td>\n",
       "      <td>AUS</td>\n",
       "      <td>272</td>\n",
       "    </tr>\n",
       "    <tr>\n",
       "      <th>8</th>\n",
       "      <td>Katherine Brunt</td>\n",
       "      <td>ENG</td>\n",
       "      <td>272</td>\n",
       "    </tr>\n",
       "    <tr>\n",
       "      <th>9</th>\n",
       "      <td>Jhulan Goswami</td>\n",
       "      <td>IND</td>\n",
       "      <td>251</td>\n",
       "    </tr>\n",
       "  </tbody>\n",
       "</table>\n",
       "</div>"
      ],
      "text/plain": [
       "             Player                    Team Rating\n",
       "0    Marizanne Kapp  SA                        384\n",
       "1    Natalie Sciver                     ENG    372\n",
       "2      Ellyse Perry                     AUS    365\n",
       "3   Stafanie Taylor                      WI    322\n",
       "4     Deepti Sharma                     IND    299\n",
       "5  Ashleigh Gardner                     AUS    275\n",
       "6  Dane van Niekerk                      SA    274\n",
       "7     Jess Jonassen                     AUS    272\n",
       "8   Katherine Brunt                     ENG    272\n",
       "9    Jhulan Goswami                     IND    251"
      ]
     },
     "execution_count": 99,
     "metadata": {},
     "output_type": "execute_result"
    }
   ],
   "source": [
    "allround"
   ]
  },
  {
   "cell_type": "markdown",
   "id": "9c4172a9",
   "metadata": {},
   "source": [
    "# Mobile Phones under 20000"
   ]
  },
  {
   "cell_type": "code",
   "execution_count": 100,
   "id": "ea8ed6c6",
   "metadata": {},
   "outputs": [],
   "source": [
    "url=('https://www.amazon.in/s?k=mobile+phones+under+20000+rupees&crid=1C582EFIQSUFY&sprefix=mobile+phones+under+20000%2Caps%2C372&ref=nb_sb_ss_ts-doa-p_3_25')"
   ]
  },
  {
   "cell_type": "code",
   "execution_count": 101,
   "id": "db638a8c",
   "metadata": {},
   "outputs": [],
   "source": [
    "amz=requests.get(url)"
   ]
  },
  {
   "cell_type": "code",
   "execution_count": 102,
   "id": "0d8a8460",
   "metadata": {},
   "outputs": [
    {
     "data": {
      "text/plain": [
       "<Response [503]>"
      ]
     },
     "execution_count": 102,
     "metadata": {},
     "output_type": "execute_result"
    }
   ],
   "source": [
    "amz"
   ]
  },
  {
   "cell_type": "markdown",
   "id": "803a2fa0",
   "metadata": {},
   "source": [
    "As the response of server is 503 of the webpage. I can't scrape the details from this webpage.I kindly skip this question with your permission."
   ]
  },
  {
   "cell_type": "markdown",
   "id": "6d2cca9c",
   "metadata": {},
   "source": [
    "# House Details"
   ]
  },
  {
   "cell_type": "code",
   "execution_count": 103,
   "id": "a25e7e29",
   "metadata": {},
   "outputs": [],
   "source": [
    "url='https://www.nobroker.in/property/sale/bangalore/Electronic%20City?type=BHK4&searchParam=W3sibGF0IjoxMi44N%20DUyMTQ1LCJsb24iOjc3LjY2MDE2OTUsInBsYWNlSWQiOiJDaElKdy1GUWQ0cHNyanNSSGZkYXpnXzhYRW8%20iLCJwbGFjZU5hbWUiOiJFbGVjdHJvbmljIENpdHkifV0=&propertyAge=0&radius=2.0'"
   ]
  },
  {
   "cell_type": "code",
   "execution_count": 104,
   "id": "5b3114d8",
   "metadata": {},
   "outputs": [],
   "source": [
    "home=requests.get(url)"
   ]
  },
  {
   "cell_type": "code",
   "execution_count": 105,
   "id": "5b2e04c9",
   "metadata": {},
   "outputs": [
    {
     "data": {
      "text/plain": [
       "<Response [200]>"
      ]
     },
     "execution_count": 105,
     "metadata": {},
     "output_type": "execute_result"
    }
   ],
   "source": [
    "home"
   ]
  },
  {
   "cell_type": "code",
   "execution_count": 106,
   "id": "d23dddfa",
   "metadata": {},
   "outputs": [],
   "source": [
    "soup=bs(home.content)"
   ]
  },
  {
   "cell_type": "code",
   "execution_count": 107,
   "id": "5a526f3d",
   "metadata": {},
   "outputs": [
    {
     "data": {
      "text/plain": [
       "['4 BHK In Independent House  For Sale  In Hebbagodi Independent House, Bangalore - Hosur Road, Near  National Public SchoolExplore Nearby2021-10-314 BHK In Independent House  For Sale  In HebbagodiIndependent House, Bangalore - Hosur Road, Near  National Public School4 BHK In Independent House  For Sale  In HebbagodiHebbagodibangalore4 BHK In Independent House  For Sale  In HebbagodiHebbagodibangaloreREADY',\n",
       " '4 BHK Apartment  For Sale  In Nisarga Residency In Electronic City Phase Ii Nisarga Residency\\xa0 Near Thali Resturant, Ananth Nagar, Electronic City Phase II, Bangalore, Karnataka, INDIA.Explore Nearby2021-08-294 BHK Flat  For Sale  In Nisarga Residency In Electronic City Phase IiNear Thali Resturant, Ananth Nagar, Electronic City Phase II, Bangalore, Karnataka, INDIA.4 BHK Flat  For Sale  In Nisarga Residency In Electronic City Phase IiElectronic City Phase Iibangalore4 BHK Flat  For Sale  In Nisarga Residency In Electronic City Phase IiElectronic City Phase IibangaloreREADY',\n",
       " '4 BHK Flat  For Sale  In Sobha Silicon Oasis  In Hosa Road Sobha Silicon Oasis Naganathapura, Rayasandra Bengaluru, Karnataka 560100 IndiaExplore Nearby2021-07-244 BHK Flat  For Sale  In Sobha Silicon Oasis  In Hosa RoadSobha Silicon Oasis Naganathapura, Rayasandra Bengaluru, Karnataka 560100 India4 BHK Flat  For Sale  In Sobha Silicon Oasis  In Hosa RoadHosa Roadbangalore4 BHK Flat  For Sale  In Sobha Silicon Oasis  In Hosa RoadHosa RoadbangaloreREADY',\n",
       " '4 BHK For Sale  In Daadys Garden In Electronic City Daadys Garden\\xa0 Kammasandra Rd, Kammasandra, Electronic City, Bengaluru, Karnataka 560100, IndiaExplore Nearby2021-04-154 BHK For Sale  In Daadys Garden In Electronic CityKammasandra Rd, Kammasandra, Electronic City, Bengaluru, Karnataka 560100, India4 BHK For Sale  In Daadys Garden In Electronic CityElectronic Citybangalore4 BHK For Sale  In Daadys Garden In Electronic CityElectronic CitybangaloreREADY',\n",
       " '4 BHK Flat  For Sale  In , Electronic City Standalone Building, 16th Cross Road Neeladri Nagar, near by brand factoryExplore Nearby2020-09-304 BHK Flat  For Sale  In , Electronic CityStandalone Building, 16th Cross Road Neeladri Nagar, near by brand factory4 BHK Flat  For Sale  In , Electronic City, Electronic Citybangalore4 BHK Flat  For Sale  In , Electronic City, Electronic CitybangaloreREADY',\n",
       " '4 BHK Flat  For Sale  In Hosa Road, Parappana Agrahara Standalone Building, 11th cross.anjanadri lay outExplore Nearby2021-02-274 BHK Flat  For Sale  In Hosa Road, Parappana AgraharaStandalone Building, 11th cross.anjanadri lay out4 BHK Flat  For Sale  In Hosa Road, Parappana AgraharaHosa Road, Parappana Agraharabangalore4 BHK Flat  For Sale  In Hosa Road, Parappana AgraharaHosa Road, Parappana AgraharabangaloreREADY',\n",
       " '4 BHK In Independent House  For Sale  In Electronic City Independent House, surya nagar face 1Explore Nearby2021-08-264 BHK In Independent House  For Sale  In Electronic CityIndependent House, surya nagar face 14 BHK In Independent House  For Sale  In Electronic CityElectronic Citybangalore4 BHK In Independent House  For Sale  In Electronic CityElectronic CitybangaloreREADY',\n",
       " '4 BHK In Independent House  For Sale  In Electronic City Independent House, Hosur Rd,Near Infosys LimitedExplore Nearby2021-08-254 BHK In Independent House  For Sale  In Electronic CityIndependent House, Hosur Rd,Near Infosys Limited4 BHK In Independent House  For Sale  In Electronic CityElectronic Citybangalore4 BHK In Independent House  For Sale  In Electronic CityElectronic CitybangaloreREADY',\n",
       " '4 BHK Apartment  For Sale  In Gopalan Gardenia In Electronic City Gopalan Gardenia\\xa0 Gopalan gardenia, Veerasandra Main Rd, Veer Sandra, Electronic City, Bengaluru, Karnataka 560100, IndiaExplore Nearby2021-07-304 BHK Flat  For Sale  In Gopalan Gardenia In Electronic CityGopalan gardenia, Veerasandra Main Rd, Veer Sandra, Electronic City, Bengaluru, Karnataka 560100, India4 BHK Flat  For Sale  In Gopalan Gardenia In Electronic CityElectronic Citybangalore4 BHK Flat  For Sale  In Gopalan Gardenia In Electronic CityElectronic CitybangaloreREADY',\n",
       " '4 BHK For Sale  In Gpr Royale In Gpr Royale 6th CrossExplore Nearby2021-07-224 BHK For Sale  In Gpr Royale In Gpr Royale6th Cross4 BHK For Sale  In Gpr Royale In Gpr RoyaleGPR Royalebangalore4 BHK For Sale  In Gpr Royale In Gpr RoyaleGPR RoyalebangaloreREADY']"
      ]
     },
     "execution_count": 107,
     "metadata": {},
     "output_type": "execute_result"
    }
   ],
   "source": [
    "#house title\n",
    "title=[]\n",
    "\n",
    "for t in soup.find_all('div',class_='nb__sDz3z'):\n",
    "    title.append(t.text.split('|')[0])\n",
    "title"
   ]
  },
  {
   "cell_type": "code",
   "execution_count": 108,
   "id": "99921cae",
   "metadata": {},
   "outputs": [
    {
     "data": {
      "text/plain": [
       "['Independent House, Bangalore - Hosur Road, Near  National Public School',\n",
       " 'Nisarga Residency\\xa0 Near Thali Resturant, Ananth Nagar, Electronic City Phase II, Bangalore, Karnataka, INDIA.',\n",
       " 'Sobha Silicon Oasis Naganathapura, Rayasandra Bengaluru, Karnataka 560100 India',\n",
       " 'Daadys Garden\\xa0 Kammasandra Rd, Kammasandra, Electronic City, Bengaluru, Karnataka 560100, India',\n",
       " 'Standalone Building, 16th Cross Road Neeladri Nagar, near by brand factory',\n",
       " 'Standalone Building, 11th cross.anjanadri lay out',\n",
       " 'Independent House, surya nagar face 1',\n",
       " 'Independent House, Hosur Rd,Near Infosys Limited',\n",
       " 'Gopalan Gardenia\\xa0 Gopalan gardenia, Veerasandra Main Rd, Veer Sandra, Electronic City, Bengaluru, Karnataka 560100, India',\n",
       " '6th Cross']"
      ]
     },
     "execution_count": 108,
     "metadata": {},
     "output_type": "execute_result"
    }
   ],
   "source": [
    "#location\n",
    "loca=[]\n",
    "\n",
    "for lo in soup.find_all('div',class_='nb__2CMjv'):\n",
    "    loca.append(lo.text)\n",
    "loca"
   ]
  },
  {
   "cell_type": "code",
   "execution_count": 109,
   "id": "11a14905",
   "metadata": {},
   "outputs": [
    {
     "data": {
      "text/plain": [
       "['1,800 sqft',\n",
       " '2,000 sqft',\n",
       " '1,879 sqft',\n",
       " '2,600 sqft',\n",
       " '2,000 sqft',\n",
       " '3,000 sqft',\n",
       " '3,000 sqft',\n",
       " '1,200 sqft',\n",
       " '2,650 sqft',\n",
       " '3,100 sqft']"
      ]
     },
     "execution_count": 109,
     "metadata": {},
     "output_type": "execute_result"
    }
   ],
   "source": [
    "#area\n",
    "area=[]\n",
    "\n",
    "for ar in soup.find_all('div',class_='nb__3oNyC'):\n",
    "    area.append(ar.text)\n",
    "    \n",
    "area"
   ]
  },
  {
   "cell_type": "code",
   "execution_count": 110,
   "id": "5547e5d4",
   "metadata": {},
   "outputs": [
    {
     "data": {
      "text/plain": [
       "['₹77,374/Month',\n",
       " '₹45,851/Month',\n",
       " '₹9,170/Month',\n",
       " '₹85,971/Month',\n",
       " '₹39,546/Month',\n",
       " '₹71,643/Month',\n",
       " '₹1.43 Lacs/Month',\n",
       " '₹42,985/Month',\n",
       " '₹68,777/Month',\n",
       " '₹85,971/Month']"
      ]
     },
     "execution_count": 110,
     "metadata": {},
     "output_type": "execute_result"
    }
   ],
   "source": [
    "#emi\n",
    "e=[]\n",
    "\n",
    "for em in soup.find_all('div',class_='font-semi-bold heading-6'):\n",
    "    e.append(em.text)\n",
    "emi=e[1:29:3]\n",
    "emi"
   ]
  },
  {
   "cell_type": "code",
   "execution_count": 111,
   "id": "dccd9197",
   "metadata": {},
   "outputs": [
    {
     "data": {
      "text/plain": [
       "['1,800 sqft',\n",
       " '₹77,374/Month',\n",
       " '₹1.35 Crores',\n",
       " '2,000 sqft',\n",
       " '₹45,851/Month',\n",
       " '₹80 Lacs',\n",
       " '1,879 sqft',\n",
       " '₹9,170/Month',\n",
       " '₹16 Lacs',\n",
       " '2,600 sqft',\n",
       " '₹85,971/Month',\n",
       " '₹1.5 Crores',\n",
       " '2,000 sqft',\n",
       " '₹39,546/Month',\n",
       " '₹69 Lacs',\n",
       " '3,000 sqft',\n",
       " '₹71,643/Month',\n",
       " '₹1.25 Crores',\n",
       " '3,000 sqft',\n",
       " '₹1.43 Lacs/Month',\n",
       " '₹2.5 Crores',\n",
       " '1,200 sqft',\n",
       " '₹42,985/Month',\n",
       " '₹75 Lacs',\n",
       " '2,650 sqft',\n",
       " '₹68,777/Month',\n",
       " '₹1.2 Crores',\n",
       " '3,100 sqft',\n",
       " '₹85,971/Month',\n",
       " '₹1.5 Crores']"
      ]
     },
     "execution_count": 111,
     "metadata": {},
     "output_type": "execute_result"
    }
   ],
   "source": [
    "e"
   ]
  },
  {
   "cell_type": "code",
   "execution_count": 112,
   "id": "8aacdfc0",
   "metadata": {},
   "outputs": [
    {
     "data": {
      "text/plain": [
       "['₹1.35 Crores',\n",
       " '₹80 Lacs',\n",
       " '₹16 Lacs',\n",
       " '₹1.5 Crores',\n",
       " '₹69 Lacs',\n",
       " '₹1.25 Crores',\n",
       " '₹2.5 Crores',\n",
       " '₹75 Lacs',\n",
       " '₹1.2 Crores',\n",
       " '₹1.5 Crores']"
      ]
     },
     "execution_count": 112,
     "metadata": {},
     "output_type": "execute_result"
    }
   ],
   "source": [
    "#price\n",
    "price=e[2:31:3]\n",
    "price"
   ]
  },
  {
   "cell_type": "code",
   "execution_count": 113,
   "id": "1cdbd1ce",
   "metadata": {},
   "outputs": [
    {
     "name": "stdout",
     "output_type": "stream",
     "text": [
      "10 10 10 10 10\n"
     ]
    }
   ],
   "source": [
    "print(len(title),len(loca),len(area),len(emi),len(price))"
   ]
  },
  {
   "cell_type": "code",
   "execution_count": 114,
   "id": "5d0852f7",
   "metadata": {},
   "outputs": [],
   "source": [
    "#dataframe\n",
    "house_details=pd.DataFrame({'House title':title,'Location':loca,'Area':area,'Emi':emi,'Price':price})"
   ]
  },
  {
   "cell_type": "code",
   "execution_count": 115,
   "id": "2c8e3cfd",
   "metadata": {},
   "outputs": [
    {
     "data": {
      "text/html": [
       "<div>\n",
       "<style scoped>\n",
       "    .dataframe tbody tr th:only-of-type {\n",
       "        vertical-align: middle;\n",
       "    }\n",
       "\n",
       "    .dataframe tbody tr th {\n",
       "        vertical-align: top;\n",
       "    }\n",
       "\n",
       "    .dataframe thead th {\n",
       "        text-align: right;\n",
       "    }\n",
       "</style>\n",
       "<table border=\"1\" class=\"dataframe\">\n",
       "  <thead>\n",
       "    <tr style=\"text-align: right;\">\n",
       "      <th></th>\n",
       "      <th>House title</th>\n",
       "      <th>Location</th>\n",
       "      <th>Area</th>\n",
       "      <th>Emi</th>\n",
       "      <th>Price</th>\n",
       "    </tr>\n",
       "  </thead>\n",
       "  <tbody>\n",
       "    <tr>\n",
       "      <th>0</th>\n",
       "      <td>4 BHK In Independent House  For Sale  In Hebba...</td>\n",
       "      <td>Independent House, Bangalore - Hosur Road, Nea...</td>\n",
       "      <td>1,800 sqft</td>\n",
       "      <td>₹77,374/Month</td>\n",
       "      <td>₹1.35 Crores</td>\n",
       "    </tr>\n",
       "    <tr>\n",
       "      <th>1</th>\n",
       "      <td>4 BHK Apartment  For Sale  In Nisarga Residenc...</td>\n",
       "      <td>Nisarga Residency  Near Thali Resturant, Anant...</td>\n",
       "      <td>2,000 sqft</td>\n",
       "      <td>₹45,851/Month</td>\n",
       "      <td>₹80 Lacs</td>\n",
       "    </tr>\n",
       "    <tr>\n",
       "      <th>2</th>\n",
       "      <td>4 BHK Flat  For Sale  In Sobha Silicon Oasis  ...</td>\n",
       "      <td>Sobha Silicon Oasis Naganathapura, Rayasandra ...</td>\n",
       "      <td>1,879 sqft</td>\n",
       "      <td>₹9,170/Month</td>\n",
       "      <td>₹16 Lacs</td>\n",
       "    </tr>\n",
       "    <tr>\n",
       "      <th>3</th>\n",
       "      <td>4 BHK For Sale  In Daadys Garden In Electronic...</td>\n",
       "      <td>Daadys Garden  Kammasandra Rd, Kammasandra, El...</td>\n",
       "      <td>2,600 sqft</td>\n",
       "      <td>₹85,971/Month</td>\n",
       "      <td>₹1.5 Crores</td>\n",
       "    </tr>\n",
       "    <tr>\n",
       "      <th>4</th>\n",
       "      <td>4 BHK Flat  For Sale  In , Electronic City Sta...</td>\n",
       "      <td>Standalone Building, 16th Cross Road Neeladri ...</td>\n",
       "      <td>2,000 sqft</td>\n",
       "      <td>₹39,546/Month</td>\n",
       "      <td>₹69 Lacs</td>\n",
       "    </tr>\n",
       "    <tr>\n",
       "      <th>5</th>\n",
       "      <td>4 BHK Flat  For Sale  In Hosa Road, Parappana ...</td>\n",
       "      <td>Standalone Building, 11th cross.anjanadri lay out</td>\n",
       "      <td>3,000 sqft</td>\n",
       "      <td>₹71,643/Month</td>\n",
       "      <td>₹1.25 Crores</td>\n",
       "    </tr>\n",
       "    <tr>\n",
       "      <th>6</th>\n",
       "      <td>4 BHK In Independent House  For Sale  In Elect...</td>\n",
       "      <td>Independent House, surya nagar face 1</td>\n",
       "      <td>3,000 sqft</td>\n",
       "      <td>₹1.43 Lacs/Month</td>\n",
       "      <td>₹2.5 Crores</td>\n",
       "    </tr>\n",
       "    <tr>\n",
       "      <th>7</th>\n",
       "      <td>4 BHK In Independent House  For Sale  In Elect...</td>\n",
       "      <td>Independent House, Hosur Rd,Near Infosys Limited</td>\n",
       "      <td>1,200 sqft</td>\n",
       "      <td>₹42,985/Month</td>\n",
       "      <td>₹75 Lacs</td>\n",
       "    </tr>\n",
       "    <tr>\n",
       "      <th>8</th>\n",
       "      <td>4 BHK Apartment  For Sale  In Gopalan Gardenia...</td>\n",
       "      <td>Gopalan Gardenia  Gopalan gardenia, Veerasandr...</td>\n",
       "      <td>2,650 sqft</td>\n",
       "      <td>₹68,777/Month</td>\n",
       "      <td>₹1.2 Crores</td>\n",
       "    </tr>\n",
       "    <tr>\n",
       "      <th>9</th>\n",
       "      <td>4 BHK For Sale  In Gpr Royale In Gpr Royale 6t...</td>\n",
       "      <td>6th Cross</td>\n",
       "      <td>3,100 sqft</td>\n",
       "      <td>₹85,971/Month</td>\n",
       "      <td>₹1.5 Crores</td>\n",
       "    </tr>\n",
       "  </tbody>\n",
       "</table>\n",
       "</div>"
      ],
      "text/plain": [
       "                                         House title  \\\n",
       "0  4 BHK In Independent House  For Sale  In Hebba...   \n",
       "1  4 BHK Apartment  For Sale  In Nisarga Residenc...   \n",
       "2  4 BHK Flat  For Sale  In Sobha Silicon Oasis  ...   \n",
       "3  4 BHK For Sale  In Daadys Garden In Electronic...   \n",
       "4  4 BHK Flat  For Sale  In , Electronic City Sta...   \n",
       "5  4 BHK Flat  For Sale  In Hosa Road, Parappana ...   \n",
       "6  4 BHK In Independent House  For Sale  In Elect...   \n",
       "7  4 BHK In Independent House  For Sale  In Elect...   \n",
       "8  4 BHK Apartment  For Sale  In Gopalan Gardenia...   \n",
       "9  4 BHK For Sale  In Gpr Royale In Gpr Royale 6t...   \n",
       "\n",
       "                                            Location        Area  \\\n",
       "0  Independent House, Bangalore - Hosur Road, Nea...  1,800 sqft   \n",
       "1  Nisarga Residency  Near Thali Resturant, Anant...  2,000 sqft   \n",
       "2  Sobha Silicon Oasis Naganathapura, Rayasandra ...  1,879 sqft   \n",
       "3  Daadys Garden  Kammasandra Rd, Kammasandra, El...  2,600 sqft   \n",
       "4  Standalone Building, 16th Cross Road Neeladri ...  2,000 sqft   \n",
       "5  Standalone Building, 11th cross.anjanadri lay out  3,000 sqft   \n",
       "6              Independent House, surya nagar face 1  3,000 sqft   \n",
       "7   Independent House, Hosur Rd,Near Infosys Limited  1,200 sqft   \n",
       "8  Gopalan Gardenia  Gopalan gardenia, Veerasandr...  2,650 sqft   \n",
       "9                                          6th Cross  3,100 sqft   \n",
       "\n",
       "                Emi         Price  \n",
       "0     ₹77,374/Month  ₹1.35 Crores  \n",
       "1     ₹45,851/Month      ₹80 Lacs  \n",
       "2      ₹9,170/Month      ₹16 Lacs  \n",
       "3     ₹85,971/Month   ₹1.5 Crores  \n",
       "4     ₹39,546/Month      ₹69 Lacs  \n",
       "5     ₹71,643/Month  ₹1.25 Crores  \n",
       "6  ₹1.43 Lacs/Month   ₹2.5 Crores  \n",
       "7     ₹42,985/Month      ₹75 Lacs  \n",
       "8     ₹68,777/Month   ₹1.2 Crores  \n",
       "9     ₹85,971/Month   ₹1.5 Crores  "
      ]
     },
     "execution_count": 115,
     "metadata": {},
     "output_type": "execute_result"
    }
   ],
   "source": [
    "house_details"
   ]
  },
  {
   "cell_type": "markdown",
   "id": "af0d16c8",
   "metadata": {},
   "source": [
    "# Restaurant Details"
   ]
  },
  {
   "cell_type": "code",
   "execution_count": 116,
   "id": "0aef3687",
   "metadata": {},
   "outputs": [],
   "source": [
    "rest=requests.get('https://www.dineout.co.in/delhi-restaurants/buffet-special')"
   ]
  },
  {
   "cell_type": "code",
   "execution_count": 117,
   "id": "14a104b1",
   "metadata": {},
   "outputs": [
    {
     "data": {
      "text/plain": [
       "<Response [200]>"
      ]
     },
     "execution_count": 117,
     "metadata": {},
     "output_type": "execute_result"
    }
   ],
   "source": [
    "rest"
   ]
  },
  {
   "cell_type": "code",
   "execution_count": 118,
   "id": "94c98ac5",
   "metadata": {},
   "outputs": [],
   "source": [
    "dine=bs(rest.content)"
   ]
  },
  {
   "cell_type": "code",
   "execution_count": 119,
   "id": "e1cc13b4",
   "metadata": {},
   "outputs": [
    {
     "data": {
      "text/plain": [
       "['Castle BarbequeConnaught Place, Central Delhi',\n",
       " 'Jungle Jamboree3CS Mall,Lajpat Nagar - 3, South Delhi',\n",
       " 'Castle BarbequePacific Mall,Tagore Garden, West Delhi',\n",
       " 'Cafe KnoshThe Leela Ambience Convention Hotel,Shahdara, East Delhi',\n",
       " 'The Barbeque CompanyGardens Galleria,Sector 38A, Noida',\n",
       " 'India GrillHilton Garden Inn,Saket, South Delhi',\n",
       " 'Delhi BarbequeTaurus Sarovar Portico,Mahipalpur, South Delhi',\n",
       " 'The Monarch - Bar Be Que VillageIndirapuram Habitat Centre,Indirapuram, Ghaziabad',\n",
       " 'World CafeVibe by The Lalit Traveller,Sector 35, Faridabad',\n",
       " 'Indian Grill RoomSuncity Business Tower,Golf Course Road, Gurgaon',\n",
       " 'Mad 4 Bar B QueSector 29, Faridabad',\n",
       " 'Barbeque 29NIT, Faridabad',\n",
       " 'GlasshouseDoubleTree By Hilton Gurugram Baani Square,Sector 50, Gurgaon']"
      ]
     },
     "execution_count": 119,
     "metadata": {},
     "output_type": "execute_result"
    }
   ],
   "source": [
    "#restaurant names\n",
    "hotel=[]\n",
    "\n",
    "for d in dine.find_all('div',class_='restnt-info cursor'):\n",
    "    hotel.append(d.text)\n",
    "hotel"
   ]
  },
  {
   "cell_type": "code",
   "execution_count": 120,
   "id": "8f09fb88",
   "metadata": {},
   "outputs": [
    {
     "data": {
      "text/plain": [
       "[' Chinese, North Indian',\n",
       " ' North Indian, Barbecue, Italian, Asian',\n",
       " ' North Indian, Chinese',\n",
       " ' Multi-Cuisine, North Indian, Italian, Continental, Mediterranean',\n",
       " ' Barbecue, Chinese, Mughlai, North Indian',\n",
       " ' North Indian, Italian, Oriental ',\n",
       " ' Barbecue, North Indian',\n",
       " ' North Indian, Chinese, Fast Food',\n",
       " ' North Indian, Chinese, Continental',\n",
       " ' North Indian, Mughlai, Barbecue',\n",
       " ' North Indian, Mughlai',\n",
       " ' Barbecue, Chinese, North Indian',\n",
       " ' Multi-Cuisine, Asian, European, Italian, North Indian']"
      ]
     },
     "execution_count": 120,
     "metadata": {},
     "output_type": "execute_result"
    }
   ],
   "source": [
    "#cuisine\n",
    "cui=[]\n",
    "\n",
    "for c in dine.find_all('span',class_='double-line-ellipsis'):\n",
    "    cui.append(c.text.split('|')[1])\n",
    "cui"
   ]
  },
  {
   "cell_type": "code",
   "execution_count": 121,
   "id": "5301cb45",
   "metadata": {},
   "outputs": [
    {
     "data": {
      "text/plain": [
       "['Connaught Place, Central Delhi',\n",
       " '3CS Mall,Lajpat Nagar - 3, South Delhi',\n",
       " 'Pacific Mall,Tagore Garden, West Delhi',\n",
       " 'The Leela Ambience Convention Hotel,Shahdara, East Delhi',\n",
       " 'Gardens Galleria,Sector 38A, Noida',\n",
       " 'Hilton Garden Inn,Saket, South Delhi',\n",
       " 'Taurus Sarovar Portico,Mahipalpur, South Delhi',\n",
       " 'Indirapuram Habitat Centre,Indirapuram, Ghaziabad',\n",
       " 'Vibe by The Lalit Traveller,Sector 35, Faridabad',\n",
       " 'Suncity Business Tower,Golf Course Road, Gurgaon',\n",
       " 'Sector 29, Faridabad',\n",
       " 'NIT, Faridabad',\n",
       " 'DoubleTree By Hilton Gurugram Baani Square,Sector 50, Gurgaon']"
      ]
     },
     "execution_count": 121,
     "metadata": {},
     "output_type": "execute_result"
    }
   ],
   "source": [
    "#location\n",
    "loc=[]\n",
    "\n",
    "for l in dine.find_all('div',class_='restnt-loc ellipsis'):\n",
    "    loc.append(l.text)\n",
    "loc\n"
   ]
  },
  {
   "cell_type": "code",
   "execution_count": 122,
   "id": "f040bfa3",
   "metadata": {},
   "outputs": [
    {
     "data": {
      "text/plain": [
       "'3.4'"
      ]
     },
     "execution_count": 122,
     "metadata": {},
     "output_type": "execute_result"
    }
   ],
   "source": [
    "#first rate\n",
    "fir_rate=dine.find('div',class_='restnt-rating rating-3')\n",
    "o=fir_rate.text\n",
    "o"
   ]
  },
  {
   "cell_type": "code",
   "execution_count": 123,
   "id": "e9e9e639",
   "metadata": {},
   "outputs": [
    {
     "data": {
      "text/plain": [
       "['3.4',\n",
       " '3.9',\n",
       " '4',\n",
       " '4.3',\n",
       " '4.1',\n",
       " '3.9',\n",
       " '3.7',\n",
       " '3.9',\n",
       " '4.3',\n",
       " '4.3',\n",
       " '3.8',\n",
       " '4.3',\n",
       " '4']"
      ]
     },
     "execution_count": 123,
     "metadata": {},
     "output_type": "execute_result"
    }
   ],
   "source": [
    "#ratings\n",
    "\n",
    "ratte=[]\n",
    "\n",
    "for u in dine.find_all('div',class_='restnt-rating rating-4'):\n",
    "    ratte.append(u.text)\n",
    "#inserting first rate\n",
    "ratte.insert(0,o)\n",
    "ratte"
   ]
  },
  {
   "cell_type": "code",
   "execution_count": 124,
   "id": "654845c0",
   "metadata": {},
   "outputs": [
    {
     "data": {
      "text/plain": [
       "['https://im1.dineout.co.in/images/uploads/restaurant/sharpen/8/k/b/p86792-16062953735fbe1f4d3fb7e.jpg?tr=tr:n-medium',\n",
       " 'https://im1.dineout.co.in/images/uploads/restaurant/sharpen/5/a/k/p59633-16046474755fa4fa33c0e92.jpg?tr=tr:n-medium',\n",
       " 'https://im1.dineout.co.in/images/uploads/restaurant/sharpen/3/j/o/p38113-15959192065f1fcb666130c.jpg?tr=tr:n-medium',\n",
       " 'https://im1.dineout.co.in/images/uploads/restaurant/sharpen/4/j/v/p406-163401663361651d79326d0.jpg?tr=tr:n-medium',\n",
       " 'https://im1.dineout.co.in/images/uploads/restaurant/sharpen/7/q/d/p79307-16051787075fad15532bd7c.jpg?tr=tr:n-medium',\n",
       " 'https://im1.dineout.co.in/images/uploads/restaurant/sharpen/2/v/t/p2687-1482477169585cce712b90f.jpg?tr=tr:n-medium',\n",
       " 'https://im1.dineout.co.in/images/uploads/restaurant/sharpen/5/v/f/p52501-16006856545f68865616659.jpg?tr=tr:n-medium',\n",
       " 'https://im1.dineout.co.in/images/uploads/restaurant/sharpen/3/n/o/p34822-15599107305cfa594a13c24.jpg?tr=tr:n-medium',\n",
       " 'https://im1.dineout.co.in/images/uploads/restaurant/sharpen/1/p/y/p12366-1466935020576fa6ecdc359.jpg?tr=tr:n-medium',\n",
       " 'https://im1.dineout.co.in/images/uploads/restaurant/sharpen/5/y/y/p549-15143767525a438e30b3e19.jpg?tr=tr:n-medium',\n",
       " 'https://im1.dineout.co.in/images/uploads/restaurant/sharpen/4/j/e/p43488-15295778165b2b8158ceeef.jpg?tr=tr:n-medium',\n",
       " 'https://im1.dineout.co.in/images/uploads/restaurant/sharpen/5/w/r/p58842-15624171585d209806d9143.jpg?tr=tr:n-medium',\n",
       " 'https://im1.dineout.co.in/images/uploads/restaurant/sharpen/9/m/f/p9875-16057921085fb6716cc44f8.jpg?tr=tr:n-medium']"
      ]
     },
     "execution_count": 124,
     "metadata": {},
     "output_type": "execute_result"
    }
   ],
   "source": [
    "#image url\n",
    "img=[]\n",
    "\n",
    "for im in dine.find_all('img',class_='no-img'):\n",
    "    img.append(im['data-src'])\n",
    "img\n",
    "    "
   ]
  },
  {
   "cell_type": "code",
   "execution_count": 125,
   "id": "1445b185",
   "metadata": {},
   "outputs": [
    {
     "name": "stdout",
     "output_type": "stream",
     "text": [
      "13 13 13 13 13\n"
     ]
    }
   ],
   "source": [
    "print(len(hotel),len(cui),len(loc),len(ratte),len(img))"
   ]
  },
  {
   "cell_type": "code",
   "execution_count": 126,
   "id": "89b56dc7",
   "metadata": {},
   "outputs": [],
   "source": [
    "#dataframe\n",
    "details=pd.DataFrame({'Restaurant name':hotel,'Cuisine':cui,'Location':loc,'Ratings':ratte,'Image url':img})"
   ]
  },
  {
   "cell_type": "code",
   "execution_count": 127,
   "id": "2cd010e7",
   "metadata": {},
   "outputs": [
    {
     "data": {
      "text/html": [
       "<div>\n",
       "<style scoped>\n",
       "    .dataframe tbody tr th:only-of-type {\n",
       "        vertical-align: middle;\n",
       "    }\n",
       "\n",
       "    .dataframe tbody tr th {\n",
       "        vertical-align: top;\n",
       "    }\n",
       "\n",
       "    .dataframe thead th {\n",
       "        text-align: right;\n",
       "    }\n",
       "</style>\n",
       "<table border=\"1\" class=\"dataframe\">\n",
       "  <thead>\n",
       "    <tr style=\"text-align: right;\">\n",
       "      <th></th>\n",
       "      <th>Restaurant name</th>\n",
       "      <th>Cuisine</th>\n",
       "      <th>Location</th>\n",
       "      <th>Ratings</th>\n",
       "      <th>Image url</th>\n",
       "    </tr>\n",
       "  </thead>\n",
       "  <tbody>\n",
       "    <tr>\n",
       "      <th>0</th>\n",
       "      <td>Castle BarbequeConnaught Place, Central Delhi</td>\n",
       "      <td>Chinese, North Indian</td>\n",
       "      <td>Connaught Place, Central Delhi</td>\n",
       "      <td>3.4</td>\n",
       "      <td>https://im1.dineout.co.in/images/uploads/resta...</td>\n",
       "    </tr>\n",
       "    <tr>\n",
       "      <th>1</th>\n",
       "      <td>Jungle Jamboree3CS Mall,Lajpat Nagar - 3, Sout...</td>\n",
       "      <td>North Indian, Barbecue, Italian, Asian</td>\n",
       "      <td>3CS Mall,Lajpat Nagar - 3, South Delhi</td>\n",
       "      <td>3.9</td>\n",
       "      <td>https://im1.dineout.co.in/images/uploads/resta...</td>\n",
       "    </tr>\n",
       "    <tr>\n",
       "      <th>2</th>\n",
       "      <td>Castle BarbequePacific Mall,Tagore Garden, Wes...</td>\n",
       "      <td>North Indian, Chinese</td>\n",
       "      <td>Pacific Mall,Tagore Garden, West Delhi</td>\n",
       "      <td>4</td>\n",
       "      <td>https://im1.dineout.co.in/images/uploads/resta...</td>\n",
       "    </tr>\n",
       "    <tr>\n",
       "      <th>3</th>\n",
       "      <td>Cafe KnoshThe Leela Ambience Convention Hotel,...</td>\n",
       "      <td>Multi-Cuisine, North Indian, Italian, Contine...</td>\n",
       "      <td>The Leela Ambience Convention Hotel,Shahdara, ...</td>\n",
       "      <td>4.3</td>\n",
       "      <td>https://im1.dineout.co.in/images/uploads/resta...</td>\n",
       "    </tr>\n",
       "    <tr>\n",
       "      <th>4</th>\n",
       "      <td>The Barbeque CompanyGardens Galleria,Sector 38...</td>\n",
       "      <td>Barbecue, Chinese, Mughlai, North Indian</td>\n",
       "      <td>Gardens Galleria,Sector 38A, Noida</td>\n",
       "      <td>4.1</td>\n",
       "      <td>https://im1.dineout.co.in/images/uploads/resta...</td>\n",
       "    </tr>\n",
       "    <tr>\n",
       "      <th>5</th>\n",
       "      <td>India GrillHilton Garden Inn,Saket, South Delhi</td>\n",
       "      <td>North Indian, Italian, Oriental</td>\n",
       "      <td>Hilton Garden Inn,Saket, South Delhi</td>\n",
       "      <td>3.9</td>\n",
       "      <td>https://im1.dineout.co.in/images/uploads/resta...</td>\n",
       "    </tr>\n",
       "    <tr>\n",
       "      <th>6</th>\n",
       "      <td>Delhi BarbequeTaurus Sarovar Portico,Mahipalpu...</td>\n",
       "      <td>Barbecue, North Indian</td>\n",
       "      <td>Taurus Sarovar Portico,Mahipalpur, South Delhi</td>\n",
       "      <td>3.7</td>\n",
       "      <td>https://im1.dineout.co.in/images/uploads/resta...</td>\n",
       "    </tr>\n",
       "    <tr>\n",
       "      <th>7</th>\n",
       "      <td>The Monarch - Bar Be Que VillageIndirapuram Ha...</td>\n",
       "      <td>North Indian, Chinese, Fast Food</td>\n",
       "      <td>Indirapuram Habitat Centre,Indirapuram, Ghaziabad</td>\n",
       "      <td>3.9</td>\n",
       "      <td>https://im1.dineout.co.in/images/uploads/resta...</td>\n",
       "    </tr>\n",
       "    <tr>\n",
       "      <th>8</th>\n",
       "      <td>World CafeVibe by The Lalit Traveller,Sector 3...</td>\n",
       "      <td>North Indian, Chinese, Continental</td>\n",
       "      <td>Vibe by The Lalit Traveller,Sector 35, Faridabad</td>\n",
       "      <td>4.3</td>\n",
       "      <td>https://im1.dineout.co.in/images/uploads/resta...</td>\n",
       "    </tr>\n",
       "    <tr>\n",
       "      <th>9</th>\n",
       "      <td>Indian Grill RoomSuncity Business Tower,Golf C...</td>\n",
       "      <td>North Indian, Mughlai, Barbecue</td>\n",
       "      <td>Suncity Business Tower,Golf Course Road, Gurgaon</td>\n",
       "      <td>4.3</td>\n",
       "      <td>https://im1.dineout.co.in/images/uploads/resta...</td>\n",
       "    </tr>\n",
       "    <tr>\n",
       "      <th>10</th>\n",
       "      <td>Mad 4 Bar B QueSector 29, Faridabad</td>\n",
       "      <td>North Indian, Mughlai</td>\n",
       "      <td>Sector 29, Faridabad</td>\n",
       "      <td>3.8</td>\n",
       "      <td>https://im1.dineout.co.in/images/uploads/resta...</td>\n",
       "    </tr>\n",
       "    <tr>\n",
       "      <th>11</th>\n",
       "      <td>Barbeque 29NIT, Faridabad</td>\n",
       "      <td>Barbecue, Chinese, North Indian</td>\n",
       "      <td>NIT, Faridabad</td>\n",
       "      <td>4.3</td>\n",
       "      <td>https://im1.dineout.co.in/images/uploads/resta...</td>\n",
       "    </tr>\n",
       "    <tr>\n",
       "      <th>12</th>\n",
       "      <td>GlasshouseDoubleTree By Hilton Gurugram Baani ...</td>\n",
       "      <td>Multi-Cuisine, Asian, European, Italian, Nort...</td>\n",
       "      <td>DoubleTree By Hilton Gurugram Baani Square,Sec...</td>\n",
       "      <td>4</td>\n",
       "      <td>https://im1.dineout.co.in/images/uploads/resta...</td>\n",
       "    </tr>\n",
       "  </tbody>\n",
       "</table>\n",
       "</div>"
      ],
      "text/plain": [
       "                                      Restaurant name  \\\n",
       "0       Castle BarbequeConnaught Place, Central Delhi   \n",
       "1   Jungle Jamboree3CS Mall,Lajpat Nagar - 3, Sout...   \n",
       "2   Castle BarbequePacific Mall,Tagore Garden, Wes...   \n",
       "3   Cafe KnoshThe Leela Ambience Convention Hotel,...   \n",
       "4   The Barbeque CompanyGardens Galleria,Sector 38...   \n",
       "5     India GrillHilton Garden Inn,Saket, South Delhi   \n",
       "6   Delhi BarbequeTaurus Sarovar Portico,Mahipalpu...   \n",
       "7   The Monarch - Bar Be Que VillageIndirapuram Ha...   \n",
       "8   World CafeVibe by The Lalit Traveller,Sector 3...   \n",
       "9   Indian Grill RoomSuncity Business Tower,Golf C...   \n",
       "10                Mad 4 Bar B QueSector 29, Faridabad   \n",
       "11                          Barbeque 29NIT, Faridabad   \n",
       "12  GlasshouseDoubleTree By Hilton Gurugram Baani ...   \n",
       "\n",
       "                                              Cuisine  \\\n",
       "0                               Chinese, North Indian   \n",
       "1              North Indian, Barbecue, Italian, Asian   \n",
       "2                               North Indian, Chinese   \n",
       "3    Multi-Cuisine, North Indian, Italian, Contine...   \n",
       "4            Barbecue, Chinese, Mughlai, North Indian   \n",
       "5                    North Indian, Italian, Oriental    \n",
       "6                              Barbecue, North Indian   \n",
       "7                    North Indian, Chinese, Fast Food   \n",
       "8                  North Indian, Chinese, Continental   \n",
       "9                     North Indian, Mughlai, Barbecue   \n",
       "10                              North Indian, Mughlai   \n",
       "11                    Barbecue, Chinese, North Indian   \n",
       "12   Multi-Cuisine, Asian, European, Italian, Nort...   \n",
       "\n",
       "                                             Location Ratings  \\\n",
       "0                      Connaught Place, Central Delhi     3.4   \n",
       "1              3CS Mall,Lajpat Nagar - 3, South Delhi     3.9   \n",
       "2              Pacific Mall,Tagore Garden, West Delhi       4   \n",
       "3   The Leela Ambience Convention Hotel,Shahdara, ...     4.3   \n",
       "4                  Gardens Galleria,Sector 38A, Noida     4.1   \n",
       "5                Hilton Garden Inn,Saket, South Delhi     3.9   \n",
       "6      Taurus Sarovar Portico,Mahipalpur, South Delhi     3.7   \n",
       "7   Indirapuram Habitat Centre,Indirapuram, Ghaziabad     3.9   \n",
       "8    Vibe by The Lalit Traveller,Sector 35, Faridabad     4.3   \n",
       "9    Suncity Business Tower,Golf Course Road, Gurgaon     4.3   \n",
       "10                               Sector 29, Faridabad     3.8   \n",
       "11                                     NIT, Faridabad     4.3   \n",
       "12  DoubleTree By Hilton Gurugram Baani Square,Sec...       4   \n",
       "\n",
       "                                            Image url  \n",
       "0   https://im1.dineout.co.in/images/uploads/resta...  \n",
       "1   https://im1.dineout.co.in/images/uploads/resta...  \n",
       "2   https://im1.dineout.co.in/images/uploads/resta...  \n",
       "3   https://im1.dineout.co.in/images/uploads/resta...  \n",
       "4   https://im1.dineout.co.in/images/uploads/resta...  \n",
       "5   https://im1.dineout.co.in/images/uploads/resta...  \n",
       "6   https://im1.dineout.co.in/images/uploads/resta...  \n",
       "7   https://im1.dineout.co.in/images/uploads/resta...  \n",
       "8   https://im1.dineout.co.in/images/uploads/resta...  \n",
       "9   https://im1.dineout.co.in/images/uploads/resta...  \n",
       "10  https://im1.dineout.co.in/images/uploads/resta...  \n",
       "11  https://im1.dineout.co.in/images/uploads/resta...  \n",
       "12  https://im1.dineout.co.in/images/uploads/resta...  "
      ]
     },
     "execution_count": 127,
     "metadata": {},
     "output_type": "execute_result"
    }
   ],
   "source": [
    "details"
   ]
  },
  {
   "cell_type": "markdown",
   "id": "4c3c9663",
   "metadata": {},
   "source": [
    "# Weather Details"
   ]
  },
  {
   "cell_type": "code",
   "execution_count": 128,
   "id": "9cf15f12",
   "metadata": {},
   "outputs": [],
   "source": [
    "wea=requests.get('https://en.tutiempo.net/delhi.html?data=last-24-hours')"
   ]
  },
  {
   "cell_type": "code",
   "execution_count": 129,
   "id": "90d1778f",
   "metadata": {},
   "outputs": [
    {
     "data": {
      "text/plain": [
       "<Response [200]>"
      ]
     },
     "execution_count": 129,
     "metadata": {},
     "output_type": "execute_result"
    }
   ],
   "source": [
    "wea"
   ]
  },
  {
   "cell_type": "code",
   "execution_count": 130,
   "id": "831ddf13",
   "metadata": {},
   "outputs": [],
   "source": [
    "time=bs(wea.content)"
   ]
  },
  {
   "cell_type": "code",
   "execution_count": 131,
   "id": "e294a85e",
   "metadata": {},
   "outputs": [
    {
     "data": {
      "text/plain": [
       "['15:30',\n",
       " '15:00',\n",
       " '14:00',\n",
       " '13:30',\n",
       " '13:00',\n",
       " '12:30',\n",
       " '12:00',\n",
       " '11:30',\n",
       " '11:00',\n",
       " '10:30',\n",
       " '10:00',\n",
       " '09:30',\n",
       " '09:00',\n",
       " '08:30',\n",
       " '08:00',\n",
       " '07:30',\n",
       " '07:00',\n",
       " '06:30',\n",
       " '06:00',\n",
       " '05:30',\n",
       " '05:00',\n",
       " '04:30',\n",
       " '04:00',\n",
       " '03:30',\n",
       " '03:00',\n",
       " '02:30',\n",
       " '02:00',\n",
       " '01:30',\n",
       " '01:00',\n",
       " '00:30',\n",
       " '00:00',\n",
       " '23:30',\n",
       " '23:00',\n",
       " '22:30',\n",
       " '22:00',\n",
       " '21:30',\n",
       " '21:00',\n",
       " '20:30',\n",
       " '20:00',\n",
       " '19:30',\n",
       " '19:00',\n",
       " '18:30',\n",
       " '18:00',\n",
       " '17:30',\n",
       " '17:00',\n",
       " '16:30',\n",
       " '16:00',\n",
       " '15:30',\n",
       " '15:00']"
      ]
     },
     "execution_count": 131,
     "metadata": {},
     "output_type": "execute_result"
    }
   ],
   "source": [
    "#hour\n",
    "h=[]\n",
    "\n",
    "for ho in time.find_all('td'):\n",
    "    h.append(ho.text)\n",
    "hour=h[18:313:6]\n",
    "hour"
   ]
  },
  {
   "cell_type": "code",
   "execution_count": 132,
   "id": "0cc5f7cc",
   "metadata": {},
   "outputs": [
    {
     "data": {
      "text/plain": [
       "49"
      ]
     },
     "execution_count": 132,
     "metadata": {},
     "output_type": "execute_result"
    }
   ],
   "source": [
    "len(hour)"
   ]
  },
  {
   "cell_type": "code",
   "execution_count": 133,
   "id": "d6da446f",
   "metadata": {},
   "outputs": [
    {
     "data": {
      "text/plain": [
       "['28°C',\n",
       " '27°C',\n",
       " '27°C',\n",
       " '27°C',\n",
       " '27°C',\n",
       " '26°C',\n",
       " '26°C',\n",
       " '24°C',\n",
       " '23°C',\n",
       " '23°C',\n",
       " '22°C',\n",
       " '21°C',\n",
       " '20°C',\n",
       " '19°C',\n",
       " '18°C',\n",
       " '18°C',\n",
       " '18°C',\n",
       " '17°C',\n",
       " '18°C',\n",
       " '18°C',\n",
       " '18°C',\n",
       " '18°C',\n",
       " '19°C',\n",
       " '19°C',\n",
       " '19°C',\n",
       " '19°C',\n",
       " '19°C',\n",
       " '19°C',\n",
       " '20°C',\n",
       " '20°C',\n",
       " '20°C',\n",
       " '21°C',\n",
       " '21°C',\n",
       " '21°C',\n",
       " '21°C',\n",
       " '22°C',\n",
       " '22°C',\n",
       " '22°C',\n",
       " '23°C',\n",
       " '24°C',\n",
       " '25°C',\n",
       " '25°C',\n",
       " '25°C',\n",
       " '25°C',\n",
       " '26°C',\n",
       " '26°C',\n",
       " '26°C',\n",
       " '27°C',\n",
       " '27°C']"
      ]
     },
     "execution_count": 133,
     "metadata": {},
     "output_type": "execute_result"
    }
   ],
   "source": [
    "#temperature\n",
    "\n",
    "temp=[]\n",
    "for t in time.find_all('td',class_='t Temp'):\n",
    "    temp.append(t.text)\n",
    "temp"
   ]
  },
  {
   "cell_type": "code",
   "execution_count": 134,
   "id": "67a1558d",
   "metadata": {},
   "outputs": [
    {
     "data": {
      "text/plain": [
       "['11 km/h',\n",
       " '13 km/h',\n",
       " '17 km/h',\n",
       " '15 km/h',\n",
       " '15 km/h',\n",
       " '15 km/h',\n",
       " '11 km/h',\n",
       " '13 km/h',\n",
       " '9 km/h',\n",
       " '9 km/h',\n",
       " '7 km/h',\n",
       " '7 km/h',\n",
       " '7 km/h',\n",
       " '9 km/h',\n",
       " '9 km/h',\n",
       " '6 km/h',\n",
       " 'Calm',\n",
       " 'Calm',\n",
       " 'Calm',\n",
       " 'Calm',\n",
       " 'Calm',\n",
       " 'Calm',\n",
       " 'Calm',\n",
       " 'Calm',\n",
       " 'Calm',\n",
       " 'Calm',\n",
       " 'Calm',\n",
       " 'Calm',\n",
       " 'Calm',\n",
       " 'Calm',\n",
       " 'Calm',\n",
       " 'Calm',\n",
       " 'Calm',\n",
       " 'Calm',\n",
       " 'Calm',\n",
       " 'Calm',\n",
       " 'Calm',\n",
       " 'Calm',\n",
       " 'Calm',\n",
       " '6 km/h',\n",
       " '6 km/h',\n",
       " '6 km/h',\n",
       " '6 km/h',\n",
       " '6 km/h',\n",
       " '9 km/h',\n",
       " '11 km/h',\n",
       " '11 km/h',\n",
       " '13 km/h',\n",
       " '13 km/h']"
      ]
     },
     "execution_count": 134,
     "metadata": {},
     "output_type": "execute_result"
    }
   ],
   "source": [
    "#wind\n",
    "wind=[]\n",
    "\n",
    "for wi in time.find_all('td',class_='wind'):\n",
    "    wind.append(wi.text)\n",
    "wind"
   ]
  },
  {
   "cell_type": "code",
   "execution_count": 135,
   "id": "f87759bb",
   "metadata": {},
   "outputs": [
    {
     "data": {
      "text/plain": [
       "['Mist',\n",
       " 'Mist',\n",
       " 'Mist',\n",
       " 'Mist',\n",
       " 'Mist',\n",
       " 'Mist',\n",
       " 'Mist',\n",
       " 'Mist',\n",
       " 'Mist',\n",
       " 'Mist',\n",
       " 'Mist',\n",
       " 'Mist',\n",
       " 'Mist',\n",
       " 'Mist',\n",
       " 'Mist',\n",
       " 'Mist',\n",
       " 'Mist',\n",
       " 'Mist',\n",
       " 'Mist',\n",
       " 'Mist',\n",
       " 'Mist',\n",
       " 'Mist',\n",
       " 'Mist',\n",
       " 'Mist',\n",
       " 'Mist',\n",
       " 'Mist',\n",
       " 'Mist',\n",
       " 'Mist',\n",
       " 'Mist',\n",
       " 'Mist',\n",
       " 'Mist',\n",
       " 'Mist',\n",
       " 'Mist',\n",
       " 'Mist',\n",
       " 'Mist',\n",
       " 'Mist',\n",
       " 'Mist',\n",
       " 'Mist',\n",
       " 'Mist',\n",
       " 'Mist',\n",
       " 'Mist',\n",
       " 'Mist',\n",
       " 'Mist',\n",
       " 'Mist',\n",
       " 'Mist',\n",
       " 'Mist',\n",
       " 'Mist',\n",
       " 'Mist',\n",
       " 'Mist']"
      ]
     },
     "execution_count": 135,
     "metadata": {},
     "output_type": "execute_result"
    }
   ],
   "source": [
    "#weather condition\n",
    "wc=[]\n",
    "\n",
    "for w in time.find_all ('td',class_='t Temp'):\n",
    "\n",
    "    if w.previous_sibling is not None:\n",
    "\n",
    "        wc.append(w.previous_sibling.text)\n",
    "\n",
    "    else:\n",
    "\n",
    "        wc.append(' ')\n",
    "\n",
    "wc"
   ]
  },
  {
   "cell_type": "code",
   "execution_count": 136,
   "id": "af0ebebd",
   "metadata": {},
   "outputs": [
    {
     "data": {
      "text/plain": [
       "['42%',\n",
       " '42%',\n",
       " '48%',\n",
       " '48%',\n",
       " '51%',\n",
       " '54%',\n",
       " '54%',\n",
       " '61%',\n",
       " '69%',\n",
       " '69%',\n",
       " '78%',\n",
       " '78%',\n",
       " '83%',\n",
       " '83%',\n",
       " '88%',\n",
       " '88%',\n",
       " '88%',\n",
       " '94%',\n",
       " '88%',\n",
       " '88%',\n",
       " '88%',\n",
       " '88%',\n",
       " '88%',\n",
       " '88%',\n",
       " '88%',\n",
       " '88%',\n",
       " '88%',\n",
       " '88%',\n",
       " '83%',\n",
       " '83%',\n",
       " '83%',\n",
       " '73%',\n",
       " '73%',\n",
       " '73%',\n",
       " '73%',\n",
       " '64%',\n",
       " '64%',\n",
       " '64%',\n",
       " '61%',\n",
       " '54%',\n",
       " '47%',\n",
       " '47%',\n",
       " '47%',\n",
       " '44%',\n",
       " '42%',\n",
       " '42%',\n",
       " '42%',\n",
       " '39%',\n",
       " '42%']"
      ]
     },
     "execution_count": 136,
     "metadata": {},
     "output_type": "execute_result"
    }
   ],
   "source": [
    "#humidity\n",
    "hum=[]\n",
    "\n",
    "for hm in time.find_all('td',class_='hr'):\n",
    "    hum.append(hm.text)\n",
    "hum"
   ]
  },
  {
   "cell_type": "code",
   "execution_count": 137,
   "id": "483a3a31",
   "metadata": {},
   "outputs": [
    {
     "data": {
      "text/plain": [
       "['1014 hPa',\n",
       " '1015 hPa',\n",
       " '1015 hPa',\n",
       " '1016 hPa',\n",
       " '1016 hPa',\n",
       " '1017 hPa',\n",
       " '1017 hPa',\n",
       " '1018 hPa',\n",
       " '1018 hPa',\n",
       " '1019 hPa',\n",
       " '1019 hPa',\n",
       " '1018 hPa',\n",
       " '1018 hPa',\n",
       " '1018 hPa',\n",
       " '1018 hPa',\n",
       " '1017 hPa',\n",
       " '1017 hPa',\n",
       " '1016 hPa',\n",
       " '1016 hPa',\n",
       " '1016 hPa',\n",
       " '1015 hPa',\n",
       " '1015 hPa',\n",
       " '1015 hPa',\n",
       " '1015 hPa',\n",
       " '1015 hPa',\n",
       " '1015 hPa',\n",
       " '1015 hPa',\n",
       " '1015 hPa',\n",
       " '1015 hPa',\n",
       " '1015 hPa',\n",
       " '1015 hPa',\n",
       " '1015 hPa',\n",
       " '1015 hPa',\n",
       " '1015 hPa',\n",
       " '1015 hPa',\n",
       " '1015 hPa',\n",
       " '1015 hPa',\n",
       " '1015 hPa',\n",
       " '1015 hPa',\n",
       " '1014 hPa',\n",
       " '1014 hPa',\n",
       " '1014 hPa',\n",
       " '1013 hPa',\n",
       " '1013 hPa',\n",
       " '1013 hPa',\n",
       " '1013 hPa',\n",
       " '1013 hPa',\n",
       " '1013 hPa',\n",
       " '1013 hPa']"
      ]
     },
     "execution_count": 137,
     "metadata": {},
     "output_type": "execute_result"
    }
   ],
   "source": [
    "#pressure\n",
    "press=[]\n",
    "\n",
    "for pr in time.find_all('td',class_='prob'):\n",
    "    press.append(pr.text)\n",
    "press"
   ]
  },
  {
   "cell_type": "code",
   "execution_count": 138,
   "id": "725e753c",
   "metadata": {},
   "outputs": [
    {
     "name": "stdout",
     "output_type": "stream",
     "text": [
      "49 49 49 49 49 49\n"
     ]
    }
   ],
   "source": [
    "print(len(hour),len(wind),len(temp),len(hum),len(press),len(wc))"
   ]
  },
  {
   "cell_type": "code",
   "execution_count": 139,
   "id": "6d94577f",
   "metadata": {},
   "outputs": [],
   "source": [
    "#dataframe\n",
    "weather=pd.DataFrame({'Hour':hour,'Temperature':temp,'Wind':wind,'Weather Condition':wc,'Humidity':hum,'Pressure':press})"
   ]
  },
  {
   "cell_type": "code",
   "execution_count": 140,
   "id": "892195f5",
   "metadata": {},
   "outputs": [
    {
     "data": {
      "text/html": [
       "<div>\n",
       "<style scoped>\n",
       "    .dataframe tbody tr th:only-of-type {\n",
       "        vertical-align: middle;\n",
       "    }\n",
       "\n",
       "    .dataframe tbody tr th {\n",
       "        vertical-align: top;\n",
       "    }\n",
       "\n",
       "    .dataframe thead th {\n",
       "        text-align: right;\n",
       "    }\n",
       "</style>\n",
       "<table border=\"1\" class=\"dataframe\">\n",
       "  <thead>\n",
       "    <tr style=\"text-align: right;\">\n",
       "      <th></th>\n",
       "      <th>Hour</th>\n",
       "      <th>Temperature</th>\n",
       "      <th>Wind</th>\n",
       "      <th>Weather Condition</th>\n",
       "      <th>Humidity</th>\n",
       "      <th>Pressure</th>\n",
       "    </tr>\n",
       "  </thead>\n",
       "  <tbody>\n",
       "    <tr>\n",
       "      <th>0</th>\n",
       "      <td>15:30</td>\n",
       "      <td>28°C</td>\n",
       "      <td>11 km/h</td>\n",
       "      <td>Mist</td>\n",
       "      <td>42%</td>\n",
       "      <td>1014 hPa</td>\n",
       "    </tr>\n",
       "    <tr>\n",
       "      <th>1</th>\n",
       "      <td>15:00</td>\n",
       "      <td>27°C</td>\n",
       "      <td>13 km/h</td>\n",
       "      <td>Mist</td>\n",
       "      <td>42%</td>\n",
       "      <td>1015 hPa</td>\n",
       "    </tr>\n",
       "    <tr>\n",
       "      <th>2</th>\n",
       "      <td>14:00</td>\n",
       "      <td>27°C</td>\n",
       "      <td>17 km/h</td>\n",
       "      <td>Mist</td>\n",
       "      <td>48%</td>\n",
       "      <td>1015 hPa</td>\n",
       "    </tr>\n",
       "    <tr>\n",
       "      <th>3</th>\n",
       "      <td>13:30</td>\n",
       "      <td>27°C</td>\n",
       "      <td>15 km/h</td>\n",
       "      <td>Mist</td>\n",
       "      <td>48%</td>\n",
       "      <td>1016 hPa</td>\n",
       "    </tr>\n",
       "    <tr>\n",
       "      <th>4</th>\n",
       "      <td>13:00</td>\n",
       "      <td>27°C</td>\n",
       "      <td>15 km/h</td>\n",
       "      <td>Mist</td>\n",
       "      <td>51%</td>\n",
       "      <td>1016 hPa</td>\n",
       "    </tr>\n",
       "    <tr>\n",
       "      <th>5</th>\n",
       "      <td>12:30</td>\n",
       "      <td>26°C</td>\n",
       "      <td>15 km/h</td>\n",
       "      <td>Mist</td>\n",
       "      <td>54%</td>\n",
       "      <td>1017 hPa</td>\n",
       "    </tr>\n",
       "    <tr>\n",
       "      <th>6</th>\n",
       "      <td>12:00</td>\n",
       "      <td>26°C</td>\n",
       "      <td>11 km/h</td>\n",
       "      <td>Mist</td>\n",
       "      <td>54%</td>\n",
       "      <td>1017 hPa</td>\n",
       "    </tr>\n",
       "    <tr>\n",
       "      <th>7</th>\n",
       "      <td>11:30</td>\n",
       "      <td>24°C</td>\n",
       "      <td>13 km/h</td>\n",
       "      <td>Mist</td>\n",
       "      <td>61%</td>\n",
       "      <td>1018 hPa</td>\n",
       "    </tr>\n",
       "    <tr>\n",
       "      <th>8</th>\n",
       "      <td>11:00</td>\n",
       "      <td>23°C</td>\n",
       "      <td>9 km/h</td>\n",
       "      <td>Mist</td>\n",
       "      <td>69%</td>\n",
       "      <td>1018 hPa</td>\n",
       "    </tr>\n",
       "    <tr>\n",
       "      <th>9</th>\n",
       "      <td>10:30</td>\n",
       "      <td>23°C</td>\n",
       "      <td>9 km/h</td>\n",
       "      <td>Mist</td>\n",
       "      <td>69%</td>\n",
       "      <td>1019 hPa</td>\n",
       "    </tr>\n",
       "    <tr>\n",
       "      <th>10</th>\n",
       "      <td>10:00</td>\n",
       "      <td>22°C</td>\n",
       "      <td>7 km/h</td>\n",
       "      <td>Mist</td>\n",
       "      <td>78%</td>\n",
       "      <td>1019 hPa</td>\n",
       "    </tr>\n",
       "    <tr>\n",
       "      <th>11</th>\n",
       "      <td>09:30</td>\n",
       "      <td>21°C</td>\n",
       "      <td>7 km/h</td>\n",
       "      <td>Mist</td>\n",
       "      <td>78%</td>\n",
       "      <td>1018 hPa</td>\n",
       "    </tr>\n",
       "    <tr>\n",
       "      <th>12</th>\n",
       "      <td>09:00</td>\n",
       "      <td>20°C</td>\n",
       "      <td>7 km/h</td>\n",
       "      <td>Mist</td>\n",
       "      <td>83%</td>\n",
       "      <td>1018 hPa</td>\n",
       "    </tr>\n",
       "    <tr>\n",
       "      <th>13</th>\n",
       "      <td>08:30</td>\n",
       "      <td>19°C</td>\n",
       "      <td>9 km/h</td>\n",
       "      <td>Mist</td>\n",
       "      <td>83%</td>\n",
       "      <td>1018 hPa</td>\n",
       "    </tr>\n",
       "    <tr>\n",
       "      <th>14</th>\n",
       "      <td>08:00</td>\n",
       "      <td>18°C</td>\n",
       "      <td>9 km/h</td>\n",
       "      <td>Mist</td>\n",
       "      <td>88%</td>\n",
       "      <td>1018 hPa</td>\n",
       "    </tr>\n",
       "    <tr>\n",
       "      <th>15</th>\n",
       "      <td>07:30</td>\n",
       "      <td>18°C</td>\n",
       "      <td>6 km/h</td>\n",
       "      <td>Mist</td>\n",
       "      <td>88%</td>\n",
       "      <td>1017 hPa</td>\n",
       "    </tr>\n",
       "    <tr>\n",
       "      <th>16</th>\n",
       "      <td>07:00</td>\n",
       "      <td>18°C</td>\n",
       "      <td>Calm</td>\n",
       "      <td>Mist</td>\n",
       "      <td>88%</td>\n",
       "      <td>1017 hPa</td>\n",
       "    </tr>\n",
       "    <tr>\n",
       "      <th>17</th>\n",
       "      <td>06:30</td>\n",
       "      <td>17°C</td>\n",
       "      <td>Calm</td>\n",
       "      <td>Mist</td>\n",
       "      <td>94%</td>\n",
       "      <td>1016 hPa</td>\n",
       "    </tr>\n",
       "    <tr>\n",
       "      <th>18</th>\n",
       "      <td>06:00</td>\n",
       "      <td>18°C</td>\n",
       "      <td>Calm</td>\n",
       "      <td>Mist</td>\n",
       "      <td>88%</td>\n",
       "      <td>1016 hPa</td>\n",
       "    </tr>\n",
       "    <tr>\n",
       "      <th>19</th>\n",
       "      <td>05:30</td>\n",
       "      <td>18°C</td>\n",
       "      <td>Calm</td>\n",
       "      <td>Mist</td>\n",
       "      <td>88%</td>\n",
       "      <td>1016 hPa</td>\n",
       "    </tr>\n",
       "    <tr>\n",
       "      <th>20</th>\n",
       "      <td>05:00</td>\n",
       "      <td>18°C</td>\n",
       "      <td>Calm</td>\n",
       "      <td>Mist</td>\n",
       "      <td>88%</td>\n",
       "      <td>1015 hPa</td>\n",
       "    </tr>\n",
       "    <tr>\n",
       "      <th>21</th>\n",
       "      <td>04:30</td>\n",
       "      <td>18°C</td>\n",
       "      <td>Calm</td>\n",
       "      <td>Mist</td>\n",
       "      <td>88%</td>\n",
       "      <td>1015 hPa</td>\n",
       "    </tr>\n",
       "    <tr>\n",
       "      <th>22</th>\n",
       "      <td>04:00</td>\n",
       "      <td>19°C</td>\n",
       "      <td>Calm</td>\n",
       "      <td>Mist</td>\n",
       "      <td>88%</td>\n",
       "      <td>1015 hPa</td>\n",
       "    </tr>\n",
       "    <tr>\n",
       "      <th>23</th>\n",
       "      <td>03:30</td>\n",
       "      <td>19°C</td>\n",
       "      <td>Calm</td>\n",
       "      <td>Mist</td>\n",
       "      <td>88%</td>\n",
       "      <td>1015 hPa</td>\n",
       "    </tr>\n",
       "    <tr>\n",
       "      <th>24</th>\n",
       "      <td>03:00</td>\n",
       "      <td>19°C</td>\n",
       "      <td>Calm</td>\n",
       "      <td>Mist</td>\n",
       "      <td>88%</td>\n",
       "      <td>1015 hPa</td>\n",
       "    </tr>\n",
       "    <tr>\n",
       "      <th>25</th>\n",
       "      <td>02:30</td>\n",
       "      <td>19°C</td>\n",
       "      <td>Calm</td>\n",
       "      <td>Mist</td>\n",
       "      <td>88%</td>\n",
       "      <td>1015 hPa</td>\n",
       "    </tr>\n",
       "    <tr>\n",
       "      <th>26</th>\n",
       "      <td>02:00</td>\n",
       "      <td>19°C</td>\n",
       "      <td>Calm</td>\n",
       "      <td>Mist</td>\n",
       "      <td>88%</td>\n",
       "      <td>1015 hPa</td>\n",
       "    </tr>\n",
       "    <tr>\n",
       "      <th>27</th>\n",
       "      <td>01:30</td>\n",
       "      <td>19°C</td>\n",
       "      <td>Calm</td>\n",
       "      <td>Mist</td>\n",
       "      <td>88%</td>\n",
       "      <td>1015 hPa</td>\n",
       "    </tr>\n",
       "    <tr>\n",
       "      <th>28</th>\n",
       "      <td>01:00</td>\n",
       "      <td>20°C</td>\n",
       "      <td>Calm</td>\n",
       "      <td>Mist</td>\n",
       "      <td>83%</td>\n",
       "      <td>1015 hPa</td>\n",
       "    </tr>\n",
       "    <tr>\n",
       "      <th>29</th>\n",
       "      <td>00:30</td>\n",
       "      <td>20°C</td>\n",
       "      <td>Calm</td>\n",
       "      <td>Mist</td>\n",
       "      <td>83%</td>\n",
       "      <td>1015 hPa</td>\n",
       "    </tr>\n",
       "    <tr>\n",
       "      <th>30</th>\n",
       "      <td>00:00</td>\n",
       "      <td>20°C</td>\n",
       "      <td>Calm</td>\n",
       "      <td>Mist</td>\n",
       "      <td>83%</td>\n",
       "      <td>1015 hPa</td>\n",
       "    </tr>\n",
       "    <tr>\n",
       "      <th>31</th>\n",
       "      <td>23:30</td>\n",
       "      <td>21°C</td>\n",
       "      <td>Calm</td>\n",
       "      <td>Mist</td>\n",
       "      <td>73%</td>\n",
       "      <td>1015 hPa</td>\n",
       "    </tr>\n",
       "    <tr>\n",
       "      <th>32</th>\n",
       "      <td>23:00</td>\n",
       "      <td>21°C</td>\n",
       "      <td>Calm</td>\n",
       "      <td>Mist</td>\n",
       "      <td>73%</td>\n",
       "      <td>1015 hPa</td>\n",
       "    </tr>\n",
       "    <tr>\n",
       "      <th>33</th>\n",
       "      <td>22:30</td>\n",
       "      <td>21°C</td>\n",
       "      <td>Calm</td>\n",
       "      <td>Mist</td>\n",
       "      <td>73%</td>\n",
       "      <td>1015 hPa</td>\n",
       "    </tr>\n",
       "    <tr>\n",
       "      <th>34</th>\n",
       "      <td>22:00</td>\n",
       "      <td>21°C</td>\n",
       "      <td>Calm</td>\n",
       "      <td>Mist</td>\n",
       "      <td>73%</td>\n",
       "      <td>1015 hPa</td>\n",
       "    </tr>\n",
       "    <tr>\n",
       "      <th>35</th>\n",
       "      <td>21:30</td>\n",
       "      <td>22°C</td>\n",
       "      <td>Calm</td>\n",
       "      <td>Mist</td>\n",
       "      <td>64%</td>\n",
       "      <td>1015 hPa</td>\n",
       "    </tr>\n",
       "    <tr>\n",
       "      <th>36</th>\n",
       "      <td>21:00</td>\n",
       "      <td>22°C</td>\n",
       "      <td>Calm</td>\n",
       "      <td>Mist</td>\n",
       "      <td>64%</td>\n",
       "      <td>1015 hPa</td>\n",
       "    </tr>\n",
       "    <tr>\n",
       "      <th>37</th>\n",
       "      <td>20:30</td>\n",
       "      <td>22°C</td>\n",
       "      <td>Calm</td>\n",
       "      <td>Mist</td>\n",
       "      <td>64%</td>\n",
       "      <td>1015 hPa</td>\n",
       "    </tr>\n",
       "    <tr>\n",
       "      <th>38</th>\n",
       "      <td>20:00</td>\n",
       "      <td>23°C</td>\n",
       "      <td>Calm</td>\n",
       "      <td>Mist</td>\n",
       "      <td>61%</td>\n",
       "      <td>1015 hPa</td>\n",
       "    </tr>\n",
       "    <tr>\n",
       "      <th>39</th>\n",
       "      <td>19:30</td>\n",
       "      <td>24°C</td>\n",
       "      <td>6 km/h</td>\n",
       "      <td>Mist</td>\n",
       "      <td>54%</td>\n",
       "      <td>1014 hPa</td>\n",
       "    </tr>\n",
       "    <tr>\n",
       "      <th>40</th>\n",
       "      <td>19:00</td>\n",
       "      <td>25°C</td>\n",
       "      <td>6 km/h</td>\n",
       "      <td>Mist</td>\n",
       "      <td>47%</td>\n",
       "      <td>1014 hPa</td>\n",
       "    </tr>\n",
       "    <tr>\n",
       "      <th>41</th>\n",
       "      <td>18:30</td>\n",
       "      <td>25°C</td>\n",
       "      <td>6 km/h</td>\n",
       "      <td>Mist</td>\n",
       "      <td>47%</td>\n",
       "      <td>1014 hPa</td>\n",
       "    </tr>\n",
       "    <tr>\n",
       "      <th>42</th>\n",
       "      <td>18:00</td>\n",
       "      <td>25°C</td>\n",
       "      <td>6 km/h</td>\n",
       "      <td>Mist</td>\n",
       "      <td>47%</td>\n",
       "      <td>1013 hPa</td>\n",
       "    </tr>\n",
       "    <tr>\n",
       "      <th>43</th>\n",
       "      <td>17:30</td>\n",
       "      <td>25°C</td>\n",
       "      <td>6 km/h</td>\n",
       "      <td>Mist</td>\n",
       "      <td>44%</td>\n",
       "      <td>1013 hPa</td>\n",
       "    </tr>\n",
       "    <tr>\n",
       "      <th>44</th>\n",
       "      <td>17:00</td>\n",
       "      <td>26°C</td>\n",
       "      <td>9 km/h</td>\n",
       "      <td>Mist</td>\n",
       "      <td>42%</td>\n",
       "      <td>1013 hPa</td>\n",
       "    </tr>\n",
       "    <tr>\n",
       "      <th>45</th>\n",
       "      <td>16:30</td>\n",
       "      <td>26°C</td>\n",
       "      <td>11 km/h</td>\n",
       "      <td>Mist</td>\n",
       "      <td>42%</td>\n",
       "      <td>1013 hPa</td>\n",
       "    </tr>\n",
       "    <tr>\n",
       "      <th>46</th>\n",
       "      <td>16:00</td>\n",
       "      <td>26°C</td>\n",
       "      <td>11 km/h</td>\n",
       "      <td>Mist</td>\n",
       "      <td>42%</td>\n",
       "      <td>1013 hPa</td>\n",
       "    </tr>\n",
       "    <tr>\n",
       "      <th>47</th>\n",
       "      <td>15:30</td>\n",
       "      <td>27°C</td>\n",
       "      <td>13 km/h</td>\n",
       "      <td>Mist</td>\n",
       "      <td>39%</td>\n",
       "      <td>1013 hPa</td>\n",
       "    </tr>\n",
       "    <tr>\n",
       "      <th>48</th>\n",
       "      <td>15:00</td>\n",
       "      <td>27°C</td>\n",
       "      <td>13 km/h</td>\n",
       "      <td>Mist</td>\n",
       "      <td>42%</td>\n",
       "      <td>1013 hPa</td>\n",
       "    </tr>\n",
       "  </tbody>\n",
       "</table>\n",
       "</div>"
      ],
      "text/plain": [
       "     Hour Temperature     Wind Weather Condition Humidity  Pressure\n",
       "0   15:30        28°C  11 km/h              Mist      42%  1014 hPa\n",
       "1   15:00        27°C  13 km/h              Mist      42%  1015 hPa\n",
       "2   14:00        27°C  17 km/h              Mist      48%  1015 hPa\n",
       "3   13:30        27°C  15 km/h              Mist      48%  1016 hPa\n",
       "4   13:00        27°C  15 km/h              Mist      51%  1016 hPa\n",
       "5   12:30        26°C  15 km/h              Mist      54%  1017 hPa\n",
       "6   12:00        26°C  11 km/h              Mist      54%  1017 hPa\n",
       "7   11:30        24°C  13 km/h              Mist      61%  1018 hPa\n",
       "8   11:00        23°C   9 km/h              Mist      69%  1018 hPa\n",
       "9   10:30        23°C   9 km/h              Mist      69%  1019 hPa\n",
       "10  10:00        22°C   7 km/h              Mist      78%  1019 hPa\n",
       "11  09:30        21°C   7 km/h              Mist      78%  1018 hPa\n",
       "12  09:00        20°C   7 km/h              Mist      83%  1018 hPa\n",
       "13  08:30        19°C   9 km/h              Mist      83%  1018 hPa\n",
       "14  08:00        18°C   9 km/h              Mist      88%  1018 hPa\n",
       "15  07:30        18°C   6 km/h              Mist      88%  1017 hPa\n",
       "16  07:00        18°C     Calm              Mist      88%  1017 hPa\n",
       "17  06:30        17°C     Calm              Mist      94%  1016 hPa\n",
       "18  06:00        18°C     Calm              Mist      88%  1016 hPa\n",
       "19  05:30        18°C     Calm              Mist      88%  1016 hPa\n",
       "20  05:00        18°C     Calm              Mist      88%  1015 hPa\n",
       "21  04:30        18°C     Calm              Mist      88%  1015 hPa\n",
       "22  04:00        19°C     Calm              Mist      88%  1015 hPa\n",
       "23  03:30        19°C     Calm              Mist      88%  1015 hPa\n",
       "24  03:00        19°C     Calm              Mist      88%  1015 hPa\n",
       "25  02:30        19°C     Calm              Mist      88%  1015 hPa\n",
       "26  02:00        19°C     Calm              Mist      88%  1015 hPa\n",
       "27  01:30        19°C     Calm              Mist      88%  1015 hPa\n",
       "28  01:00        20°C     Calm              Mist      83%  1015 hPa\n",
       "29  00:30        20°C     Calm              Mist      83%  1015 hPa\n",
       "30  00:00        20°C     Calm              Mist      83%  1015 hPa\n",
       "31  23:30        21°C     Calm              Mist      73%  1015 hPa\n",
       "32  23:00        21°C     Calm              Mist      73%  1015 hPa\n",
       "33  22:30        21°C     Calm              Mist      73%  1015 hPa\n",
       "34  22:00        21°C     Calm              Mist      73%  1015 hPa\n",
       "35  21:30        22°C     Calm              Mist      64%  1015 hPa\n",
       "36  21:00        22°C     Calm              Mist      64%  1015 hPa\n",
       "37  20:30        22°C     Calm              Mist      64%  1015 hPa\n",
       "38  20:00        23°C     Calm              Mist      61%  1015 hPa\n",
       "39  19:30        24°C   6 km/h              Mist      54%  1014 hPa\n",
       "40  19:00        25°C   6 km/h              Mist      47%  1014 hPa\n",
       "41  18:30        25°C   6 km/h              Mist      47%  1014 hPa\n",
       "42  18:00        25°C   6 km/h              Mist      47%  1013 hPa\n",
       "43  17:30        25°C   6 km/h              Mist      44%  1013 hPa\n",
       "44  17:00        26°C   9 km/h              Mist      42%  1013 hPa\n",
       "45  16:30        26°C  11 km/h              Mist      42%  1013 hPa\n",
       "46  16:00        26°C  11 km/h              Mist      42%  1013 hPa\n",
       "47  15:30        27°C  13 km/h              Mist      39%  1013 hPa\n",
       "48  15:00        27°C  13 km/h              Mist      42%  1013 hPa"
      ]
     },
     "execution_count": 140,
     "metadata": {},
     "output_type": "execute_result"
    }
   ],
   "source": [
    "weather"
   ]
  },
  {
   "cell_type": "markdown",
   "id": "4e42885e",
   "metadata": {},
   "source": [
    "# Monuments"
   ]
  },
  {
   "cell_type": "code",
   "execution_count": 141,
   "id": "3787be2f",
   "metadata": {},
   "outputs": [],
   "source": [
    "monu=requests.get('https://www.puredestinations.co.uk/top-10-famous-monuments-to-visit-in-india/')"
   ]
  },
  {
   "cell_type": "code",
   "execution_count": 142,
   "id": "f4138e68",
   "metadata": {},
   "outputs": [
    {
     "data": {
      "text/plain": [
       "<Response [200]>"
      ]
     },
     "execution_count": 142,
     "metadata": {},
     "output_type": "execute_result"
    }
   ],
   "source": [
    "monu"
   ]
  },
  {
   "cell_type": "code",
   "execution_count": 143,
   "id": "aa1d534f",
   "metadata": {},
   "outputs": [],
   "source": [
    "taj=bs(monu.content)"
   ]
  },
  {
   "cell_type": "code",
   "execution_count": 144,
   "id": "f260defb",
   "metadata": {},
   "outputs": [
    {
     "data": {
      "text/plain": [
       "10"
      ]
     },
     "execution_count": 144,
     "metadata": {},
     "output_type": "execute_result"
    }
   ],
   "source": [
    "#monument names\n",
    "names=[]\n",
    "for mn in taj.find_all('strong'):\n",
    "    names.append(mn.text)\n",
    "names.pop(10)\n",
    "len(names)"
   ]
  },
  {
   "cell_type": "code",
   "execution_count": 145,
   "id": "1809a697",
   "metadata": {},
   "outputs": [
    {
     "data": {
      "text/plain": [
       "['Taj Mahal, Agra',\n",
       " 'Golden Temple (Harmandir Sahib), Amritsar ',\n",
       " 'Meenakshi Temple, Madurai',\n",
       " 'Mysore Palace, Mysore',\n",
       " 'Gateway of India, Mumbai',\n",
       " 'Red Fort, New Delhi',\n",
       " 'Hawa Mahal, Jaipur',\n",
       " 'Qutub Minar, New Delhi',\n",
       " 'Sanchi Stupa, Sanchi',\n",
       " 'Charminar, Hyderabad']"
      ]
     },
     "execution_count": 145,
     "metadata": {},
     "output_type": "execute_result"
    }
   ],
   "source": [
    "names"
   ]
  },
  {
   "cell_type": "code",
   "execution_count": 146,
   "id": "b259487d",
   "metadata": {},
   "outputs": [
    {
     "data": {
      "text/plain": [
       "['Enlisted in the Seven Wonders of the World The Taj Mahal is one of the most beautiful and famous buildings located in the city of Agra. This white marble monument was built by a Mughal Emperor called Shahajahan in memory of his beloved wife. Due to its amazing architecture and the history behind it this world heritage site has become very popular to visit by all travellers and romantics from all over the world.',\n",
       " 'The holiest shrine and pilgrimage place located in Amritsar is The Golden Temple known as the Harmandir Sahib. This is the most famous and sacred Sikh Gurdwara in Punjab India adorned with rich history and gold gilded exterior. If you are interested in culture and history be sure to visit this popular attraction in India.',\n",
       " 'Meenakshi Temple is situated on the Southern banks of Vaigai River in the temple city Madurai. This temple is dedicated to Parvati and her consort Shiva and is visited by most Hindu and Tamil devotees and architectural lovers throughout the world. It is believed that this shrine houses 33000 sculptures in its 14 gopurams. It’s no doubt one place to visit if you are impressed with art and cultural history.',\n",
       " 'The Mysore Palace is a famous historical monument in the city of Mysore in Karnataka. Commonly described as the City of Palaces this is the most famous tourist attraction in India after the Taj Mahal. It is a sight not be missed with its spacious halls lovely art paintings and Indo-Saracenic style architecture. Best time to visit is at night due to the astonishing illuminated lights covering the whole monument.',\n",
       " 'Even though Mumbai is famous for its Bollywood actors and movies the most famous attraction in Mumbai is The Gateway of India. It is a popular gathering spot for locals travellers street vendors and photographers and is known as the Taj Mahal of Mumbai. The majestic monument was built to commemorate the visit of King George V and Queen Mary to Bombay. With so much fun and excitement this place is not to be missed with family or on your tour of India.',\n",
       " 'Declared as the UNESCO’s World Heritage Site Red Fort is located in the centre of beautiful Delhi. If you love learning about history and culture then this famous historic monument is a must see place to visit. Built by the Mughal Emperor Shah Jahan in 1648 and housing a number of museums its walls are built of red sandstone. The best time to visit is on Independence Day where the Prime Minister of India hoists the national flag at the Red Fort. End the day by heading to an Indian restaurant and enjoy the varieties of wonderful cuisines.',\n",
       " 'Explore a blend of beauty and Rajasthan culture the Hawa Mahal also known as Palace of Winds is situated in the capital of Rajasthan Jaipur. Built from red and pink sandstones by the Maharaja Sawi Pratap Singh in 1799 this unique five storey structure is one of the most prominent tourist attractions in the Jaipur city.',\n",
       " 'Discover one of the tallest towers in the world and the second tallest Minar of India standing elegantly in the Capital city New Delhi. Standing at 72.5 metres and consisting of around 379 stairs this famous monument represents the rich architecture of India. As it is a UNESCO World Heritage Site made of red sandstone and decorated with Arabic and Brahmi inscriptions travellers from around the world come to view this most famous tower in India.',\n",
       " 'The beautiful and massive dome Sanchi Stupa also known as the Great Stupa is a world renowned Buddhist monument in Sanchi India. It was constructed by Emperor Ashoka and is one of the oldest stone structures in the heart of India. Experience the Indian culture by visiting these major attractions in Sanchi including a number of Buddhist Stupas monasteries and temples.',\n",
       " 'No visit to Hyderabad should be complete without visiting the most famous and majestic monument known as the Charminar. This magnificent and striking mosque constructed in 1591 has four minarets and is the most recognisable symbol in the city of Hyderabad.']"
      ]
     },
     "execution_count": 146,
     "metadata": {},
     "output_type": "execute_result"
    }
   ],
   "source": [
    "#monument description\n",
    "desc=[]\n",
    "\n",
    "for de in taj.find_all('p'):\n",
    "    desc.append(de.text.replace(',',''))\n",
    "description=desc[5:33:3]\n",
    "description"
   ]
  },
  {
   "cell_type": "code",
   "execution_count": 147,
   "id": "64b65b6c",
   "metadata": {},
   "outputs": [
    {
     "data": {
      "text/plain": [
       "['http://www.puredestinations.co.uk/wp-content/uploads/2016/11/TAJ-MAHAL-PD-BLOG.jpg',\n",
       " 'http://www.puredestinations.co.uk/wp-content/uploads/2016/11/Golden-Temple-PD-BLOG.jpg',\n",
       " 'http://www.puredestinations.co.uk/wp-content/uploads/2016/11/meenakshi-temple-PD-BLOG.jpg',\n",
       " 'http://www.puredestinations.co.uk/wp-content/uploads/2016/11/Mysore-palace-PD-BLOG.jpg',\n",
       " 'http://www.puredestinations.co.uk/wp-content/uploads/2016/11/gateway-to-india-PD-BLOG.jpg',\n",
       " 'http://www.puredestinations.co.uk/wp-content/uploads/2016/11/red-fort-PD-BLOG.jpg',\n",
       " 'http://www.puredestinations.co.uk/wp-content/uploads/2016/11/HAWA-MAHAL-PD-BLOG.jpg',\n",
       " 'http://www.puredestinations.co.uk/wp-content/uploads/2016/11/qutub-minar-PD-BLOG.jpg',\n",
       " 'http://www.puredestinations.co.uk/wp-content/uploads/2016/11/Sanchi-Stupi-PD-BLOG.jpg',\n",
       " 'http://www.puredestinations.co.uk/wp-content/uploads/2016/11/Charminar-PD-BLOG-1.jpg']"
      ]
     },
     "execution_count": 147,
     "metadata": {},
     "output_type": "execute_result"
    }
   ],
   "source": [
    "#image url\n",
    "img = []\n",
    "\n",
    "for i in taj.find_all('img'):\n",
    "    img.append(i['src'])\n",
    "images=img[6:-5:2]\n",
    "images"
   ]
  },
  {
   "cell_type": "code",
   "execution_count": 148,
   "id": "9e028503",
   "metadata": {},
   "outputs": [
    {
     "name": "stdout",
     "output_type": "stream",
     "text": [
      "10 10 10\n"
     ]
    }
   ],
   "source": [
    "print(len(names),len(description),len(images))"
   ]
  },
  {
   "cell_type": "code",
   "execution_count": 149,
   "id": "5cbb3e08",
   "metadata": {},
   "outputs": [],
   "source": [
    "#dataframe\n",
    "monument=pd.DataFrame({'Monument Name':names,'Monument Description':description,'Image Url':images})"
   ]
  },
  {
   "cell_type": "code",
   "execution_count": 150,
   "id": "35c968b8",
   "metadata": {},
   "outputs": [
    {
     "data": {
      "text/html": [
       "<div>\n",
       "<style scoped>\n",
       "    .dataframe tbody tr th:only-of-type {\n",
       "        vertical-align: middle;\n",
       "    }\n",
       "\n",
       "    .dataframe tbody tr th {\n",
       "        vertical-align: top;\n",
       "    }\n",
       "\n",
       "    .dataframe thead th {\n",
       "        text-align: right;\n",
       "    }\n",
       "</style>\n",
       "<table border=\"1\" class=\"dataframe\">\n",
       "  <thead>\n",
       "    <tr style=\"text-align: right;\">\n",
       "      <th></th>\n",
       "      <th>Monument Name</th>\n",
       "      <th>Monument Description</th>\n",
       "      <th>Image Url</th>\n",
       "    </tr>\n",
       "  </thead>\n",
       "  <tbody>\n",
       "    <tr>\n",
       "      <th>0</th>\n",
       "      <td>Taj Mahal, Agra</td>\n",
       "      <td>Enlisted in the Seven Wonders of the World The...</td>\n",
       "      <td>http://www.puredestinations.co.uk/wp-content/u...</td>\n",
       "    </tr>\n",
       "    <tr>\n",
       "      <th>1</th>\n",
       "      <td>Golden Temple (Harmandir Sahib), Amritsar</td>\n",
       "      <td>The holiest shrine and pilgrimage place locate...</td>\n",
       "      <td>http://www.puredestinations.co.uk/wp-content/u...</td>\n",
       "    </tr>\n",
       "    <tr>\n",
       "      <th>2</th>\n",
       "      <td>Meenakshi Temple, Madurai</td>\n",
       "      <td>Meenakshi Temple is situated on the Southern b...</td>\n",
       "      <td>http://www.puredestinations.co.uk/wp-content/u...</td>\n",
       "    </tr>\n",
       "    <tr>\n",
       "      <th>3</th>\n",
       "      <td>Mysore Palace, Mysore</td>\n",
       "      <td>The Mysore Palace is a famous historical monum...</td>\n",
       "      <td>http://www.puredestinations.co.uk/wp-content/u...</td>\n",
       "    </tr>\n",
       "    <tr>\n",
       "      <th>4</th>\n",
       "      <td>Gateway of India, Mumbai</td>\n",
       "      <td>Even though Mumbai is famous for its Bollywood...</td>\n",
       "      <td>http://www.puredestinations.co.uk/wp-content/u...</td>\n",
       "    </tr>\n",
       "    <tr>\n",
       "      <th>5</th>\n",
       "      <td>Red Fort, New Delhi</td>\n",
       "      <td>Declared as the UNESCO’s World Heritage Site R...</td>\n",
       "      <td>http://www.puredestinations.co.uk/wp-content/u...</td>\n",
       "    </tr>\n",
       "    <tr>\n",
       "      <th>6</th>\n",
       "      <td>Hawa Mahal, Jaipur</td>\n",
       "      <td>Explore a blend of beauty and Rajasthan cultur...</td>\n",
       "      <td>http://www.puredestinations.co.uk/wp-content/u...</td>\n",
       "    </tr>\n",
       "    <tr>\n",
       "      <th>7</th>\n",
       "      <td>Qutub Minar, New Delhi</td>\n",
       "      <td>Discover one of the tallest towers in the worl...</td>\n",
       "      <td>http://www.puredestinations.co.uk/wp-content/u...</td>\n",
       "    </tr>\n",
       "    <tr>\n",
       "      <th>8</th>\n",
       "      <td>Sanchi Stupa, Sanchi</td>\n",
       "      <td>The beautiful and massive dome Sanchi Stupa al...</td>\n",
       "      <td>http://www.puredestinations.co.uk/wp-content/u...</td>\n",
       "    </tr>\n",
       "    <tr>\n",
       "      <th>9</th>\n",
       "      <td>Charminar, Hyderabad</td>\n",
       "      <td>No visit to Hyderabad should be complete witho...</td>\n",
       "      <td>http://www.puredestinations.co.uk/wp-content/u...</td>\n",
       "    </tr>\n",
       "  </tbody>\n",
       "</table>\n",
       "</div>"
      ],
      "text/plain": [
       "                                Monument Name  \\\n",
       "0                             Taj Mahal, Agra   \n",
       "1  Golden Temple (Harmandir Sahib), Amritsar    \n",
       "2                   Meenakshi Temple, Madurai   \n",
       "3                       Mysore Palace, Mysore   \n",
       "4                    Gateway of India, Mumbai   \n",
       "5                         Red Fort, New Delhi   \n",
       "6                          Hawa Mahal, Jaipur   \n",
       "7                      Qutub Minar, New Delhi   \n",
       "8                        Sanchi Stupa, Sanchi   \n",
       "9                        Charminar, Hyderabad   \n",
       "\n",
       "                                Monument Description  \\\n",
       "0  Enlisted in the Seven Wonders of the World The...   \n",
       "1  The holiest shrine and pilgrimage place locate...   \n",
       "2  Meenakshi Temple is situated on the Southern b...   \n",
       "3  The Mysore Palace is a famous historical monum...   \n",
       "4  Even though Mumbai is famous for its Bollywood...   \n",
       "5  Declared as the UNESCO’s World Heritage Site R...   \n",
       "6  Explore a blend of beauty and Rajasthan cultur...   \n",
       "7  Discover one of the tallest towers in the worl...   \n",
       "8  The beautiful and massive dome Sanchi Stupa al...   \n",
       "9  No visit to Hyderabad should be complete witho...   \n",
       "\n",
       "                                           Image Url  \n",
       "0  http://www.puredestinations.co.uk/wp-content/u...  \n",
       "1  http://www.puredestinations.co.uk/wp-content/u...  \n",
       "2  http://www.puredestinations.co.uk/wp-content/u...  \n",
       "3  http://www.puredestinations.co.uk/wp-content/u...  \n",
       "4  http://www.puredestinations.co.uk/wp-content/u...  \n",
       "5  http://www.puredestinations.co.uk/wp-content/u...  \n",
       "6  http://www.puredestinations.co.uk/wp-content/u...  \n",
       "7  http://www.puredestinations.co.uk/wp-content/u...  \n",
       "8  http://www.puredestinations.co.uk/wp-content/u...  \n",
       "9  http://www.puredestinations.co.uk/wp-content/u...  "
      ]
     },
     "execution_count": 150,
     "metadata": {},
     "output_type": "execute_result"
    }
   ],
   "source": [
    "monument"
   ]
  }
 ],
 "metadata": {
  "kernelspec": {
   "display_name": "Python 3",
   "language": "python",
   "name": "python3"
  },
  "language_info": {
   "codemirror_mode": {
    "name": "ipython",
    "version": 3
   },
   "file_extension": ".py",
   "mimetype": "text/x-python",
   "name": "python",
   "nbconvert_exporter": "python",
   "pygments_lexer": "ipython3",
   "version": "3.8.8"
  }
 },
 "nbformat": 4,
 "nbformat_minor": 5
}
