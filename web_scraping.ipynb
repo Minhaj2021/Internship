{
 "cells": [
  {
   "cell_type": "markdown",
   "id": "f2953482",
   "metadata": {},
   "source": [
    "# Header tags"
   ]
  },
  {
   "cell_type": "code",
   "execution_count": 155,
   "id": "e5349571",
   "metadata": {},
   "outputs": [],
   "source": [
    "#importing modules\n",
    "from bs4 import BeautifulSoup as bs\n",
    "import requests\n",
    "import pandas as pd"
   ]
  },
  {
   "cell_type": "code",
   "execution_count": 156,
   "id": "8951343b",
   "metadata": {},
   "outputs": [],
   "source": [
    "\n",
    "tags = requests.get('https://en.wikipedia.org/wiki/Main_Page')"
   ]
  },
  {
   "cell_type": "code",
   "execution_count": 157,
   "id": "2c171cb2",
   "metadata": {},
   "outputs": [
    {
     "data": {
      "text/plain": [
       "<Response [200]>"
      ]
     },
     "execution_count": 157,
     "metadata": {},
     "output_type": "execute_result"
    }
   ],
   "source": [
    "tags"
   ]
  },
  {
   "cell_type": "code",
   "execution_count": 158,
   "id": "b1c551ce",
   "metadata": {},
   "outputs": [],
   "source": [
    "soup = bs(tags.content)"
   ]
  },
  {
   "cell_type": "code",
   "execution_count": 159,
   "id": "7b9d0315",
   "metadata": {},
   "outputs": [],
   "source": [
    "header=[]\n",
    "\n",
    "for i in soup.find_all('span',class_='mw-headline'):\n",
    "    header.append(i.text.replace('\\xa0...',' '))"
   ]
  },
  {
   "cell_type": "code",
   "execution_count": 160,
   "id": "016ad9f2",
   "metadata": {},
   "outputs": [
    {
     "data": {
      "text/plain": [
       "[\"From today's featured article\",\n",
       " 'Did you know ',\n",
       " 'In the news',\n",
       " 'On this day',\n",
       " \"Today's featured picture\",\n",
       " 'Other areas of Wikipedia',\n",
       " \"Wikipedia's sister projects\",\n",
       " 'Wikipedia languages']"
      ]
     },
     "execution_count": 160,
     "metadata": {},
     "output_type": "execute_result"
    }
   ],
   "source": [
    "header"
   ]
  },
  {
   "cell_type": "code",
   "execution_count": 161,
   "id": "0fe52d5c",
   "metadata": {},
   "outputs": [],
   "source": [
    "df=pd.DataFrame({'Headers':header})"
   ]
  },
  {
   "cell_type": "code",
   "execution_count": 162,
   "id": "d8837e4c",
   "metadata": {},
   "outputs": [
    {
     "data": {
      "text/html": [
       "<div>\n",
       "<style scoped>\n",
       "    .dataframe tbody tr th:only-of-type {\n",
       "        vertical-align: middle;\n",
       "    }\n",
       "\n",
       "    .dataframe tbody tr th {\n",
       "        vertical-align: top;\n",
       "    }\n",
       "\n",
       "    .dataframe thead th {\n",
       "        text-align: right;\n",
       "    }\n",
       "</style>\n",
       "<table border=\"1\" class=\"dataframe\">\n",
       "  <thead>\n",
       "    <tr style=\"text-align: right;\">\n",
       "      <th></th>\n",
       "      <th>Headers</th>\n",
       "    </tr>\n",
       "  </thead>\n",
       "  <tbody>\n",
       "    <tr>\n",
       "      <th>0</th>\n",
       "      <td>From today's featured article</td>\n",
       "    </tr>\n",
       "    <tr>\n",
       "      <th>1</th>\n",
       "      <td>Did you know</td>\n",
       "    </tr>\n",
       "    <tr>\n",
       "      <th>2</th>\n",
       "      <td>In the news</td>\n",
       "    </tr>\n",
       "    <tr>\n",
       "      <th>3</th>\n",
       "      <td>On this day</td>\n",
       "    </tr>\n",
       "    <tr>\n",
       "      <th>4</th>\n",
       "      <td>Today's featured picture</td>\n",
       "    </tr>\n",
       "    <tr>\n",
       "      <th>5</th>\n",
       "      <td>Other areas of Wikipedia</td>\n",
       "    </tr>\n",
       "    <tr>\n",
       "      <th>6</th>\n",
       "      <td>Wikipedia's sister projects</td>\n",
       "    </tr>\n",
       "    <tr>\n",
       "      <th>7</th>\n",
       "      <td>Wikipedia languages</td>\n",
       "    </tr>\n",
       "  </tbody>\n",
       "</table>\n",
       "</div>"
      ],
      "text/plain": [
       "                         Headers\n",
       "0  From today's featured article\n",
       "1                  Did you know \n",
       "2                    In the news\n",
       "3                    On this day\n",
       "4       Today's featured picture\n",
       "5       Other areas of Wikipedia\n",
       "6    Wikipedia's sister projects\n",
       "7            Wikipedia languages"
      ]
     },
     "execution_count": 162,
     "metadata": {},
     "output_type": "execute_result"
    }
   ],
   "source": [
    "df"
   ]
  },
  {
   "cell_type": "markdown",
   "id": "f007d649",
   "metadata": {},
   "source": [
    "# Imdb top rated movies"
   ]
  },
  {
   "cell_type": "code",
   "execution_count": 163,
   "id": "a3296974",
   "metadata": {},
   "outputs": [],
   "source": [
    "imdb=requests.get('https://www.imdb.com/chart/top/')"
   ]
  },
  {
   "cell_type": "code",
   "execution_count": 164,
   "id": "1ee83eb4",
   "metadata": {},
   "outputs": [
    {
     "data": {
      "text/plain": [
       "<Response [200]>"
      ]
     },
     "execution_count": 164,
     "metadata": {},
     "output_type": "execute_result"
    }
   ],
   "source": [
    "imdb"
   ]
  },
  {
   "cell_type": "code",
   "execution_count": 165,
   "id": "90693427",
   "metadata": {},
   "outputs": [],
   "source": [
    "be=bs(imdb.content)"
   ]
  },
  {
   "cell_type": "code",
   "execution_count": 166,
   "id": "20a5d479",
   "metadata": {},
   "outputs": [],
   "source": [
    "movies=[]\n",
    "\n",
    "for movie in be.find_all('td',class_='titleColumn'):\n",
    "    movie=movie.text.replace('\\n','')\n",
    "    movie=movie.split('|')[0]\n",
    "    movies.append(movie)"
   ]
  },
  {
   "cell_type": "code",
   "execution_count": 167,
   "id": "6d434eb9",
   "metadata": {},
   "outputs": [
    {
     "data": {
      "text/plain": [
       "250"
      ]
     },
     "execution_count": 167,
     "metadata": {},
     "output_type": "execute_result"
    }
   ],
   "source": [
    "len(movies)"
   ]
  },
  {
   "cell_type": "code",
   "execution_count": 168,
   "id": "2bfee55d",
   "metadata": {},
   "outputs": [],
   "source": [
    "t=movies[0:100]"
   ]
  },
  {
   "cell_type": "code",
   "execution_count": 169,
   "id": "e4f669cc",
   "metadata": {},
   "outputs": [],
   "source": [
    "rating=[]\n",
    "\n",
    "for rate in be.find_all('td',class_='ratingColumn imdbRating'):\n",
    "    rating.append(rate.text.replace('\\n',' '))"
   ]
  },
  {
   "cell_type": "code",
   "execution_count": 170,
   "id": "ef0bd9fd",
   "metadata": {},
   "outputs": [],
   "source": [
    "#100 movies\n",
    "s=rating[0:100]"
   ]
  },
  {
   "cell_type": "code",
   "execution_count": 171,
   "id": "1b6f240a",
   "metadata": {},
   "outputs": [],
   "source": [
    "da=pd.DataFrame({'Name and Year':t,'IMDB Rating':s})"
   ]
  },
  {
   "cell_type": "code",
   "execution_count": 172,
   "id": "99471d41",
   "metadata": {},
   "outputs": [
    {
     "data": {
      "text/html": [
       "<div>\n",
       "<style scoped>\n",
       "    .dataframe tbody tr th:only-of-type {\n",
       "        vertical-align: middle;\n",
       "    }\n",
       "\n",
       "    .dataframe tbody tr th {\n",
       "        vertical-align: top;\n",
       "    }\n",
       "\n",
       "    .dataframe thead th {\n",
       "        text-align: right;\n",
       "    }\n",
       "</style>\n",
       "<table border=\"1\" class=\"dataframe\">\n",
       "  <thead>\n",
       "    <tr style=\"text-align: right;\">\n",
       "      <th></th>\n",
       "      <th>Name and Year</th>\n",
       "      <th>IMDB Rating</th>\n",
       "    </tr>\n",
       "  </thead>\n",
       "  <tbody>\n",
       "    <tr>\n",
       "      <th>0</th>\n",
       "      <td>1.      The Shawshank Redemption(1994)</td>\n",
       "      <td>9.2</td>\n",
       "    </tr>\n",
       "    <tr>\n",
       "      <th>1</th>\n",
       "      <td>2.      The Godfather(1972)</td>\n",
       "      <td>9.1</td>\n",
       "    </tr>\n",
       "    <tr>\n",
       "      <th>2</th>\n",
       "      <td>3.      The Godfather: Part II(1974)</td>\n",
       "      <td>9.0</td>\n",
       "    </tr>\n",
       "    <tr>\n",
       "      <th>3</th>\n",
       "      <td>4.      The Dark Knight(2008)</td>\n",
       "      <td>9.0</td>\n",
       "    </tr>\n",
       "    <tr>\n",
       "      <th>4</th>\n",
       "      <td>5.      12 Angry Men(1957)</td>\n",
       "      <td>8.9</td>\n",
       "    </tr>\n",
       "    <tr>\n",
       "      <th>...</th>\n",
       "      <td>...</td>\n",
       "      <td>...</td>\n",
       "    </tr>\n",
       "    <tr>\n",
       "      <th>95</th>\n",
       "      <td>96.      Requiem for a Dream(2000)</td>\n",
       "      <td>8.3</td>\n",
       "    </tr>\n",
       "    <tr>\n",
       "      <th>96</th>\n",
       "      <td>97.      Singin' in the Rain(1952)</td>\n",
       "      <td>8.3</td>\n",
       "    </tr>\n",
       "    <tr>\n",
       "      <th>97</th>\n",
       "      <td>98.      North by Northwest(1959)</td>\n",
       "      <td>8.3</td>\n",
       "    </tr>\n",
       "    <tr>\n",
       "      <th>98</th>\n",
       "      <td>99.      Eternal Sunshine of the Spotles...</td>\n",
       "      <td>8.3</td>\n",
       "    </tr>\n",
       "    <tr>\n",
       "      <th>99</th>\n",
       "      <td>100.      Ladri di biciclette(1948)</td>\n",
       "      <td>8.3</td>\n",
       "    </tr>\n",
       "  </tbody>\n",
       "</table>\n",
       "<p>100 rows × 2 columns</p>\n",
       "</div>"
      ],
      "text/plain": [
       "                                        Name and Year IMDB Rating\n",
       "0              1.      The Shawshank Redemption(1994)        9.2 \n",
       "1                         2.      The Godfather(1972)        9.1 \n",
       "2                3.      The Godfather: Part II(1974)        9.0 \n",
       "3                       4.      The Dark Knight(2008)        9.0 \n",
       "4                          5.      12 Angry Men(1957)        8.9 \n",
       "..                                                ...         ...\n",
       "95                 96.      Requiem for a Dream(2000)        8.3 \n",
       "96                 97.      Singin' in the Rain(1952)        8.3 \n",
       "97                  98.      North by Northwest(1959)        8.3 \n",
       "98        99.      Eternal Sunshine of the Spotles...        8.3 \n",
       "99                100.      Ladri di biciclette(1948)        8.3 \n",
       "\n",
       "[100 rows x 2 columns]"
      ]
     },
     "execution_count": 172,
     "metadata": {},
     "output_type": "execute_result"
    }
   ],
   "source": [
    "da"
   ]
  },
  {
   "cell_type": "markdown",
   "id": "55dd3235",
   "metadata": {},
   "source": [
    "# Imdb Top rated Indian Movies"
   ]
  },
  {
   "cell_type": "code",
   "execution_count": 173,
   "id": "de1fa0b2",
   "metadata": {},
   "outputs": [],
   "source": [
    "top=requests.get('https://www.imdb.com/india/top-rated-indian-movies/')"
   ]
  },
  {
   "cell_type": "code",
   "execution_count": 174,
   "id": "b6fb66ea",
   "metadata": {},
   "outputs": [
    {
     "data": {
      "text/plain": [
       "<Response [200]>"
      ]
     },
     "execution_count": 174,
     "metadata": {},
     "output_type": "execute_result"
    }
   ],
   "source": [
    "top"
   ]
  },
  {
   "cell_type": "code",
   "execution_count": 175,
   "id": "dc685bf4",
   "metadata": {},
   "outputs": [],
   "source": [
    "bu=bs(top.content)"
   ]
  },
  {
   "cell_type": "code",
   "execution_count": 176,
   "id": "4ba0e081",
   "metadata": {},
   "outputs": [],
   "source": [
    "ind=[]\n",
    "\n",
    "for h in bu.find_all('td',class_='titleColumn'):\n",
    "    ind.append(h.text.replace('\\n',''))\n",
    "#listing 100 movies\n",
    "top_rated=ind[0:100]"
   ]
  },
  {
   "cell_type": "code",
   "execution_count": 177,
   "id": "0c00db95",
   "metadata": {},
   "outputs": [],
   "source": [
    "#rating\n",
    "star=[]\n",
    "\n",
    "for s in bu.find_all('td',class_='ratingColumn imdbRating'):\n",
    "    star.append(s.text.replace('\\n',''))\n",
    "x=star[0:100]"
   ]
  },
  {
   "cell_type": "code",
   "execution_count": 178,
   "id": "0dcbaef3",
   "metadata": {},
   "outputs": [],
   "source": [
    "#dataframe\n",
    "indian=pd.DataFrame({'Name&Year':top_rated,'Rating':x})"
   ]
  },
  {
   "cell_type": "code",
   "execution_count": 179,
   "id": "c1aacd9c",
   "metadata": {},
   "outputs": [
    {
     "data": {
      "text/html": [
       "<div>\n",
       "<style scoped>\n",
       "    .dataframe tbody tr th:only-of-type {\n",
       "        vertical-align: middle;\n",
       "    }\n",
       "\n",
       "    .dataframe tbody tr th {\n",
       "        vertical-align: top;\n",
       "    }\n",
       "\n",
       "    .dataframe thead th {\n",
       "        text-align: right;\n",
       "    }\n",
       "</style>\n",
       "<table border=\"1\" class=\"dataframe\">\n",
       "  <thead>\n",
       "    <tr style=\"text-align: right;\">\n",
       "      <th></th>\n",
       "      <th>Name&amp;Year</th>\n",
       "      <th>Rating</th>\n",
       "    </tr>\n",
       "  </thead>\n",
       "  <tbody>\n",
       "    <tr>\n",
       "      <th>0</th>\n",
       "      <td>1.      Sardar Udham(2021)</td>\n",
       "      <td>8.6</td>\n",
       "    </tr>\n",
       "    <tr>\n",
       "      <th>1</th>\n",
       "      <td>2.      Nayakan(1987)</td>\n",
       "      <td>8.5</td>\n",
       "    </tr>\n",
       "    <tr>\n",
       "      <th>2</th>\n",
       "      <td>3.      Anbe Sivam(2003)</td>\n",
       "      <td>8.5</td>\n",
       "    </tr>\n",
       "    <tr>\n",
       "      <th>3</th>\n",
       "      <td>4.      Pariyerum Perumal(2018)</td>\n",
       "      <td>8.5</td>\n",
       "    </tr>\n",
       "    <tr>\n",
       "      <th>4</th>\n",
       "      <td>5.      C/o Kancharapalem(2018)</td>\n",
       "      <td>8.5</td>\n",
       "    </tr>\n",
       "    <tr>\n",
       "      <th>...</th>\n",
       "      <td>...</td>\n",
       "      <td>...</td>\n",
       "    </tr>\n",
       "    <tr>\n",
       "      <th>95</th>\n",
       "      <td>96.      Roja(1992)</td>\n",
       "      <td>8.1</td>\n",
       "    </tr>\n",
       "    <tr>\n",
       "      <th>96</th>\n",
       "      <td>97.      Dil Chahta Hai(2001)</td>\n",
       "      <td>8.1</td>\n",
       "    </tr>\n",
       "    <tr>\n",
       "      <th>97</th>\n",
       "      <td>98.      Rang De Basanti(2006)</td>\n",
       "      <td>8.1</td>\n",
       "    </tr>\n",
       "    <tr>\n",
       "      <th>98</th>\n",
       "      <td>99.      OMG: Oh My God!(2012)</td>\n",
       "      <td>8.1</td>\n",
       "    </tr>\n",
       "    <tr>\n",
       "      <th>99</th>\n",
       "      <td>100.      Uri: The Surgical Strike(2019)</td>\n",
       "      <td>8.1</td>\n",
       "    </tr>\n",
       "  </tbody>\n",
       "</table>\n",
       "<p>100 rows × 2 columns</p>\n",
       "</div>"
      ],
      "text/plain": [
       "                                         Name&Year Rating\n",
       "0                       1.      Sardar Udham(2021)    8.6\n",
       "1                            2.      Nayakan(1987)    8.5\n",
       "2                         3.      Anbe Sivam(2003)    8.5\n",
       "3                  4.      Pariyerum Perumal(2018)    8.5\n",
       "4                  5.      C/o Kancharapalem(2018)    8.5\n",
       "..                                             ...    ...\n",
       "95                             96.      Roja(1992)    8.1\n",
       "96                   97.      Dil Chahta Hai(2001)    8.1\n",
       "97                  98.      Rang De Basanti(2006)    8.1\n",
       "98                  99.      OMG: Oh My God!(2012)    8.1\n",
       "99        100.      Uri: The Surgical Strike(2019)    8.1\n",
       "\n",
       "[100 rows x 2 columns]"
      ]
     },
     "execution_count": 179,
     "metadata": {},
     "output_type": "execute_result"
    }
   ],
   "source": [
    "indian"
   ]
  },
  {
   "cell_type": "markdown",
   "id": "0e72f372",
   "metadata": {},
   "source": [
    "# Cricket Rankings"
   ]
  },
  {
   "cell_type": "markdown",
   "id": "2b00b11d",
   "metadata": {},
   "source": [
    "Team Rankings"
   ]
  },
  {
   "cell_type": "code",
   "execution_count": 180,
   "id": "5ecfa457",
   "metadata": {},
   "outputs": [],
   "source": [
    "icc=requests.get('https://www.icc-cricket.com/rankings/mens/team-rankings/odi')"
   ]
  },
  {
   "cell_type": "code",
   "execution_count": 181,
   "id": "bbf91df1",
   "metadata": {},
   "outputs": [
    {
     "data": {
      "text/plain": [
       "<Response [200]>"
      ]
     },
     "execution_count": 181,
     "metadata": {},
     "output_type": "execute_result"
    }
   ],
   "source": [
    "icc"
   ]
  },
  {
   "cell_type": "code",
   "execution_count": 182,
   "id": "cafe73bd",
   "metadata": {},
   "outputs": [],
   "source": [
    "soup=bs(icc.content)"
   ]
  },
  {
   "cell_type": "code",
   "execution_count": 183,
   "id": "c6acefe4",
   "metadata": {},
   "outputs": [],
   "source": [
    "#teams names\n",
    "rankings=[]\n",
    "\n",
    "for t in soup.find_all('span',class_='u-hide-phablet'):\n",
    "    rankings.append(t.text.replace(',',' '))\n",
    "    \n",
    "team=rankings[0:10]"
   ]
  },
  {
   "cell_type": "code",
   "execution_count": 184,
   "id": "ce01c555",
   "metadata": {},
   "outputs": [
    {
     "data": {
      "text/plain": [
       "['New Zealand',\n",
       " 'England',\n",
       " 'Australia',\n",
       " 'India',\n",
       " 'South Africa',\n",
       " 'Pakistan',\n",
       " 'Bangladesh',\n",
       " 'West Indies',\n",
       " 'Sri Lanka',\n",
       " 'Afghanistan']"
      ]
     },
     "execution_count": 184,
     "metadata": {},
     "output_type": "execute_result"
    }
   ],
   "source": [
    "team"
   ]
  },
  {
   "cell_type": "code",
   "execution_count": 185,
   "id": "23695fa7",
   "metadata": {},
   "outputs": [
    {
     "data": {
      "text/plain": [
       "'17'"
      ]
     },
     "execution_count": 185,
     "metadata": {},
     "output_type": "execute_result"
    }
   ],
   "source": [
    "#printing first team's match\n",
    "first_match=soup.find('td',class_='rankings-block__banner--matches')\n",
    "first_match.text"
   ]
  },
  {
   "cell_type": "code",
   "execution_count": 186,
   "id": "dfe27263",
   "metadata": {},
   "outputs": [
    {
     "data": {
      "text/plain": [
       "'2,054'"
      ]
     },
     "execution_count": 186,
     "metadata": {},
     "output_type": "execute_result"
    }
   ],
   "source": [
    "#printing first team's point\n",
    "first_point=soup.find('td',class_='rankings-block__banner--points')\n",
    "first_point.text"
   ]
  },
  {
   "cell_type": "code",
   "execution_count": 187,
   "id": "cdf71af7",
   "metadata": {},
   "outputs": [],
   "source": [
    "rankings=[]\n",
    "\n",
    "for match in soup.find_all('td',class_='table-body__cell u-center-text'):\n",
    "    rankings.append(match.text)\n",
    "    \n",
    "#inserting first number of matches to the 0th index   \n",
    "rankings.insert(0,first_match.text.replace(',',' '))\n",
    "\n",
    "#inserting the first point to the 1st index\n",
    "rankings.insert(1,first_point.text)"
   ]
  },
  {
   "cell_type": "code",
   "execution_count": 188,
   "id": "3936519c",
   "metadata": {},
   "outputs": [
    {
     "data": {
      "text/plain": [
       "['17', '32', '28', '32', '25', '27', '30', '30', '32', '17']"
      ]
     },
     "execution_count": 188,
     "metadata": {},
     "output_type": "execute_result"
    }
   ],
   "source": [
    "matches=rankings[0:20:2]\n",
    "matches"
   ]
  },
  {
   "cell_type": "code",
   "execution_count": 189,
   "id": "697f363d",
   "metadata": {},
   "outputs": [
    {
     "data": {
      "text/plain": [
       "['2,054',\n",
       " '3,793',\n",
       " '3,244',\n",
       " '3,624',\n",
       " '2,459',\n",
       " '2,524',\n",
       " '2,740',\n",
       " '2,523',\n",
       " '2,657',\n",
       " '1,054']"
      ]
     },
     "execution_count": 189,
     "metadata": {},
     "output_type": "execute_result"
    }
   ],
   "source": [
    "points=rankings[1:20:2]\n",
    "points"
   ]
  },
  {
   "cell_type": "code",
   "execution_count": 190,
   "id": "61c9f075",
   "metadata": {},
   "outputs": [
    {
     "data": {
      "text/plain": [
       "'121'"
      ]
     },
     "execution_count": 190,
     "metadata": {},
     "output_type": "execute_result"
    }
   ],
   "source": [
    "first_rate=soup.find('td',class_='rankings-block__banner--rating u-text-right')\n",
    "r=first_rate.text.replace('\\n',' ')\n",
    "lt=r.lstrip()\n",
    "rt=lt.rstrip()\n",
    "rt"
   ]
  },
  {
   "cell_type": "code",
   "execution_count": 191,
   "id": "d5d065c0",
   "metadata": {},
   "outputs": [],
   "source": [
    "ratings=[]\n",
    "\n",
    "for rate in soup.find_all('td',class_='table-body__cell u-text-right rating'):\n",
    "    ratings.append(rate.text.replace('\\n',' '))\n",
    "    \n",
    " #inserting first rating to 0th index   \n",
    "ratings.insert(0,rt)"
   ]
  },
  {
   "cell_type": "code",
   "execution_count": 192,
   "id": "087f745a",
   "metadata": {},
   "outputs": [
    {
     "data": {
      "text/plain": [
       "['121', '119', '116', '113', '98', '93', '91', '84', '83', '62']"
      ]
     },
     "execution_count": 192,
     "metadata": {},
     "output_type": "execute_result"
    }
   ],
   "source": [
    "#printing upto 10\n",
    "m=ratings[0:10]\n",
    "m"
   ]
  },
  {
   "cell_type": "code",
   "execution_count": 193,
   "id": "99558e1c",
   "metadata": {},
   "outputs": [
    {
     "name": "stdout",
     "output_type": "stream",
     "text": [
      "10\n",
      "10\n",
      "10\n",
      "10\n"
     ]
    }
   ],
   "source": [
    "print(len(matches))\n",
    "print(len(points))\n",
    "print(len(m))\n",
    "print(len(team))"
   ]
  },
  {
   "cell_type": "code",
   "execution_count": 194,
   "id": "21fe97e2",
   "metadata": {},
   "outputs": [],
   "source": [
    "#printing in dataframe\n",
    "rank=pd.DataFrame({'Team':team,'Matches':matches,'Points':points,'Rating':m})"
   ]
  },
  {
   "cell_type": "code",
   "execution_count": 195,
   "id": "2f798180",
   "metadata": {},
   "outputs": [
    {
     "data": {
      "text/html": [
       "<div>\n",
       "<style scoped>\n",
       "    .dataframe tbody tr th:only-of-type {\n",
       "        vertical-align: middle;\n",
       "    }\n",
       "\n",
       "    .dataframe tbody tr th {\n",
       "        vertical-align: top;\n",
       "    }\n",
       "\n",
       "    .dataframe thead th {\n",
       "        text-align: right;\n",
       "    }\n",
       "</style>\n",
       "<table border=\"1\" class=\"dataframe\">\n",
       "  <thead>\n",
       "    <tr style=\"text-align: right;\">\n",
       "      <th></th>\n",
       "      <th>Team</th>\n",
       "      <th>Matches</th>\n",
       "      <th>Points</th>\n",
       "      <th>Rating</th>\n",
       "    </tr>\n",
       "  </thead>\n",
       "  <tbody>\n",
       "    <tr>\n",
       "      <th>0</th>\n",
       "      <td>New Zealand</td>\n",
       "      <td>17</td>\n",
       "      <td>2,054</td>\n",
       "      <td>121</td>\n",
       "    </tr>\n",
       "    <tr>\n",
       "      <th>1</th>\n",
       "      <td>England</td>\n",
       "      <td>32</td>\n",
       "      <td>3,793</td>\n",
       "      <td>119</td>\n",
       "    </tr>\n",
       "    <tr>\n",
       "      <th>2</th>\n",
       "      <td>Australia</td>\n",
       "      <td>28</td>\n",
       "      <td>3,244</td>\n",
       "      <td>116</td>\n",
       "    </tr>\n",
       "    <tr>\n",
       "      <th>3</th>\n",
       "      <td>India</td>\n",
       "      <td>32</td>\n",
       "      <td>3,624</td>\n",
       "      <td>113</td>\n",
       "    </tr>\n",
       "    <tr>\n",
       "      <th>4</th>\n",
       "      <td>South Africa</td>\n",
       "      <td>25</td>\n",
       "      <td>2,459</td>\n",
       "      <td>98</td>\n",
       "    </tr>\n",
       "    <tr>\n",
       "      <th>5</th>\n",
       "      <td>Pakistan</td>\n",
       "      <td>27</td>\n",
       "      <td>2,524</td>\n",
       "      <td>93</td>\n",
       "    </tr>\n",
       "    <tr>\n",
       "      <th>6</th>\n",
       "      <td>Bangladesh</td>\n",
       "      <td>30</td>\n",
       "      <td>2,740</td>\n",
       "      <td>91</td>\n",
       "    </tr>\n",
       "    <tr>\n",
       "      <th>7</th>\n",
       "      <td>West Indies</td>\n",
       "      <td>30</td>\n",
       "      <td>2,523</td>\n",
       "      <td>84</td>\n",
       "    </tr>\n",
       "    <tr>\n",
       "      <th>8</th>\n",
       "      <td>Sri Lanka</td>\n",
       "      <td>32</td>\n",
       "      <td>2,657</td>\n",
       "      <td>83</td>\n",
       "    </tr>\n",
       "    <tr>\n",
       "      <th>9</th>\n",
       "      <td>Afghanistan</td>\n",
       "      <td>17</td>\n",
       "      <td>1,054</td>\n",
       "      <td>62</td>\n",
       "    </tr>\n",
       "  </tbody>\n",
       "</table>\n",
       "</div>"
      ],
      "text/plain": [
       "           Team Matches Points Rating\n",
       "0   New Zealand      17  2,054    121\n",
       "1       England      32  3,793    119\n",
       "2     Australia      28  3,244    116\n",
       "3         India      32  3,624    113\n",
       "4  South Africa      25  2,459     98\n",
       "5      Pakistan      27  2,524     93\n",
       "6    Bangladesh      30  2,740     91\n",
       "7   West Indies      30  2,523     84\n",
       "8     Sri Lanka      32  2,657     83\n",
       "9   Afghanistan      17  1,054     62"
      ]
     },
     "execution_count": 195,
     "metadata": {},
     "output_type": "execute_result"
    }
   ],
   "source": [
    "rank"
   ]
  },
  {
   "cell_type": "markdown",
   "id": "b9e92df7",
   "metadata": {},
   "source": [
    "Batsman rankings"
   ]
  },
  {
   "cell_type": "code",
   "execution_count": 196,
   "id": "9c75aa30",
   "metadata": {},
   "outputs": [],
   "source": [
    "odi=requests.get('https://www.icc-cricket.com/rankings/mens/player-rankings/odi/batting')"
   ]
  },
  {
   "cell_type": "code",
   "execution_count": 197,
   "id": "90bd5760",
   "metadata": {},
   "outputs": [
    {
     "data": {
      "text/plain": [
       "<Response [200]>"
      ]
     },
     "execution_count": 197,
     "metadata": {},
     "output_type": "execute_result"
    }
   ],
   "source": [
    "odi"
   ]
  },
  {
   "cell_type": "code",
   "execution_count": 198,
   "id": "c5e6647e",
   "metadata": {},
   "outputs": [],
   "source": [
    "soup=bs(odi.content)"
   ]
  },
  {
   "cell_type": "code",
   "execution_count": 199,
   "id": "814d1cbf",
   "metadata": {},
   "outputs": [
    {
     "data": {
      "text/plain": [
       "'Babar Azam'"
      ]
     },
     "execution_count": 199,
     "metadata": {},
     "output_type": "execute_result"
    }
   ],
   "source": [
    "#first name\n",
    "name=soup.find('div',class_='rankings-block__banner--name-large')\n",
    "name.text"
   ]
  },
  {
   "cell_type": "code",
   "execution_count": 200,
   "id": "575224ef",
   "metadata": {},
   "outputs": [
    {
     "data": {
      "text/plain": [
       "'PAK                    '"
      ]
     },
     "execution_count": 200,
     "metadata": {},
     "output_type": "execute_result"
    }
   ],
   "source": [
    "#first team\n",
    "other=soup.find('div',class_='rankings-block__banner--nationality')\n",
    "ot=other.text.replace('\\n','')\n",
    "ot"
   ]
  },
  {
   "cell_type": "code",
   "execution_count": 201,
   "id": "3cd6b272",
   "metadata": {},
   "outputs": [
    {
     "data": {
      "text/plain": [
       "'873'"
      ]
     },
     "execution_count": 201,
     "metadata": {},
     "output_type": "execute_result"
    }
   ],
   "source": [
    "#first batsman's rate\n",
    "rate=soup.find('div',class_='rankings-block__banner--rating')\n",
    "ty=rate.text\n",
    "ty"
   ]
  },
  {
   "cell_type": "code",
   "execution_count": 202,
   "id": "adc68a0c",
   "metadata": {},
   "outputs": [
    {
     "data": {
      "text/plain": [
       "['Babar Azam',\n",
       " 'Virat Kohli',\n",
       " 'Rohit Sharma',\n",
       " 'Ross Taylor',\n",
       " 'Aaron Finch',\n",
       " 'Jonny Bairstow',\n",
       " 'David Warner',\n",
       " 'Shai Hope',\n",
       " 'Kane Williamson',\n",
       " 'Quinton de Kock']"
      ]
     },
     "execution_count": 202,
     "metadata": {},
     "output_type": "execute_result"
    }
   ],
   "source": [
    "men=[]\n",
    "\n",
    "for i in soup.find_all('td',class_='table-body__cell rankings-table__name name'):\n",
    "    men.append(i.text.replace('\\n',''))\n",
    "    \n",
    "n=men[0:9]\n",
    "#inserting first batsman name into 0th index\n",
    "n.insert(0,name.text)\n",
    "n"
   ]
  },
  {
   "cell_type": "code",
   "execution_count": 203,
   "id": "c0e990a1",
   "metadata": {},
   "outputs": [
    {
     "data": {
      "text/plain": [
       "['PAK                    ',\n",
       " 'IND',\n",
       " 'IND',\n",
       " 'NZ',\n",
       " 'AUS',\n",
       " 'ENG',\n",
       " 'AUS',\n",
       " 'WI',\n",
       " 'NZ',\n",
       " 'SA']"
      ]
     },
     "execution_count": 203,
     "metadata": {},
     "output_type": "execute_result"
    }
   ],
   "source": [
    "teams=[]\n",
    "\n",
    "for val in soup.find_all('span',class_='table-body__logo-text'):\n",
    "    teams.append(val.text.replace('\\n',''))\n",
    "y=teams[0:9]\n",
    "y.insert(0,ot)\n",
    "y"
   ]
  },
  {
   "cell_type": "code",
   "execution_count": 204,
   "id": "9e6454db",
   "metadata": {},
   "outputs": [
    {
     "data": {
      "text/plain": [
       "['873', '844', '813', '801', '779', '775', '762', '758', '754', '747']"
      ]
     },
     "execution_count": 204,
     "metadata": {},
     "output_type": "execute_result"
    }
   ],
   "source": [
    "four=[]\n",
    "\n",
    "for g in soup.find_all('td',class_='table-body__cell rating'):\n",
    "    four.append(g.text)\n",
    "#inserting first batsman's rate    \n",
    "four.insert(0,rate.text)\n",
    "\n",
    "batsman=four[0:10]\n",
    "batsman"
   ]
  },
  {
   "cell_type": "code",
   "execution_count": 205,
   "id": "01e09a21",
   "metadata": {},
   "outputs": [],
   "source": [
    "#dataframe\n",
    "bat=pd.DataFrame({'Batsman':n,'Team':y,'Rating':batsman})"
   ]
  },
  {
   "cell_type": "code",
   "execution_count": 206,
   "id": "999e291b",
   "metadata": {},
   "outputs": [
    {
     "data": {
      "text/html": [
       "<div>\n",
       "<style scoped>\n",
       "    .dataframe tbody tr th:only-of-type {\n",
       "        vertical-align: middle;\n",
       "    }\n",
       "\n",
       "    .dataframe tbody tr th {\n",
       "        vertical-align: top;\n",
       "    }\n",
       "\n",
       "    .dataframe thead th {\n",
       "        text-align: right;\n",
       "    }\n",
       "</style>\n",
       "<table border=\"1\" class=\"dataframe\">\n",
       "  <thead>\n",
       "    <tr style=\"text-align: right;\">\n",
       "      <th></th>\n",
       "      <th>Batsman</th>\n",
       "      <th>Team</th>\n",
       "      <th>Rating</th>\n",
       "    </tr>\n",
       "  </thead>\n",
       "  <tbody>\n",
       "    <tr>\n",
       "      <th>0</th>\n",
       "      <td>Babar Azam</td>\n",
       "      <td>PAK</td>\n",
       "      <td>873</td>\n",
       "    </tr>\n",
       "    <tr>\n",
       "      <th>1</th>\n",
       "      <td>Virat Kohli</td>\n",
       "      <td>IND</td>\n",
       "      <td>844</td>\n",
       "    </tr>\n",
       "    <tr>\n",
       "      <th>2</th>\n",
       "      <td>Rohit Sharma</td>\n",
       "      <td>IND</td>\n",
       "      <td>813</td>\n",
       "    </tr>\n",
       "    <tr>\n",
       "      <th>3</th>\n",
       "      <td>Ross Taylor</td>\n",
       "      <td>NZ</td>\n",
       "      <td>801</td>\n",
       "    </tr>\n",
       "    <tr>\n",
       "      <th>4</th>\n",
       "      <td>Aaron Finch</td>\n",
       "      <td>AUS</td>\n",
       "      <td>779</td>\n",
       "    </tr>\n",
       "    <tr>\n",
       "      <th>5</th>\n",
       "      <td>Jonny Bairstow</td>\n",
       "      <td>ENG</td>\n",
       "      <td>775</td>\n",
       "    </tr>\n",
       "    <tr>\n",
       "      <th>6</th>\n",
       "      <td>David Warner</td>\n",
       "      <td>AUS</td>\n",
       "      <td>762</td>\n",
       "    </tr>\n",
       "    <tr>\n",
       "      <th>7</th>\n",
       "      <td>Shai Hope</td>\n",
       "      <td>WI</td>\n",
       "      <td>758</td>\n",
       "    </tr>\n",
       "    <tr>\n",
       "      <th>8</th>\n",
       "      <td>Kane Williamson</td>\n",
       "      <td>NZ</td>\n",
       "      <td>754</td>\n",
       "    </tr>\n",
       "    <tr>\n",
       "      <th>9</th>\n",
       "      <td>Quinton de Kock</td>\n",
       "      <td>SA</td>\n",
       "      <td>747</td>\n",
       "    </tr>\n",
       "  </tbody>\n",
       "</table>\n",
       "</div>"
      ],
      "text/plain": [
       "           Batsman                     Team Rating\n",
       "0       Babar Azam  PAK                        873\n",
       "1      Virat Kohli                      IND    844\n",
       "2     Rohit Sharma                      IND    813\n",
       "3      Ross Taylor                       NZ    801\n",
       "4      Aaron Finch                      AUS    779\n",
       "5   Jonny Bairstow                      ENG    775\n",
       "6     David Warner                      AUS    762\n",
       "7        Shai Hope                       WI    758\n",
       "8  Kane Williamson                       NZ    754\n",
       "9  Quinton de Kock                       SA    747"
      ]
     },
     "execution_count": 206,
     "metadata": {},
     "output_type": "execute_result"
    }
   ],
   "source": [
    "bat"
   ]
  },
  {
   "cell_type": "markdown",
   "id": "1b035af7",
   "metadata": {},
   "source": [
    "Bowlers Rankings"
   ]
  },
  {
   "cell_type": "code",
   "execution_count": 207,
   "id": "094c1ade",
   "metadata": {},
   "outputs": [],
   "source": [
    "od=requests.get('https://www.icc-cricket.com/rankings/mens/player-rankings/odi/bowling')"
   ]
  },
  {
   "cell_type": "code",
   "execution_count": 208,
   "id": "f372c43e",
   "metadata": {},
   "outputs": [
    {
     "data": {
      "text/plain": [
       "<Response [200]>"
      ]
     },
     "execution_count": 208,
     "metadata": {},
     "output_type": "execute_result"
    }
   ],
   "source": [
    "od"
   ]
  },
  {
   "cell_type": "code",
   "execution_count": null,
   "id": "815c3c8e",
   "metadata": {},
   "outputs": [],
   "source": [
    "sp=bs(od.content)"
   ]
  },
  {
   "cell_type": "code",
   "execution_count": null,
   "id": "eb3c9731",
   "metadata": {},
   "outputs": [],
   "source": [
    "#name of first bowler\n",
    "nt=sp.find('div',class_='rankings-block__banner--name-large')\n",
    "nt.text"
   ]
  },
  {
   "cell_type": "code",
   "execution_count": null,
   "id": "5d3b50e4",
   "metadata": {},
   "outputs": [],
   "source": [
    "#name of the team\n",
    "tm=sp.find('div',class_='rankings-block__banner--nationality')\n",
    "nz=tm.text.replace('\\n','')\n",
    "nz"
   ]
  },
  {
   "cell_type": "code",
   "execution_count": null,
   "id": "4194a8c8",
   "metadata": {},
   "outputs": [],
   "source": [
    "#first rating\n",
    "tr=sp.find('div',class_='rankings-block__banner--rating')\n",
    "tr.text"
   ]
  },
  {
   "cell_type": "code",
   "execution_count": null,
   "id": "1f60e505",
   "metadata": {},
   "outputs": [],
   "source": [
    "name=[]\n",
    "\n",
    "for nm in sp.find_all('td',class_='table-body__cell rankings-table__name name'):\n",
    "    name.append(nm.text.replace('\\n',''))\n",
    "#inserting first bowler's name into 0th index\n",
    "name.insert(0,nt.text)\n",
    "nam=name[0:10]\n",
    "nam"
   ]
  },
  {
   "cell_type": "code",
   "execution_count": null,
   "id": "6cd0e4ec",
   "metadata": {},
   "outputs": [],
   "source": [
    "folks=[]\n",
    "\n",
    "for j in sp.find_all('span',class_='table-body__logo-text'):\n",
    "    folks.append(j.text)\n",
    "#adding first team name\n",
    "folks.insert(0,nz)\n",
    "team=folks[0:10]\n",
    "team"
   ]
  },
  {
   "cell_type": "code",
   "execution_count": null,
   "id": "0b1e56b6",
   "metadata": {},
   "outputs": [],
   "source": [
    "trend=[]\n",
    "for y in sp.find_all('td',class_='table-body__cell rating'):\n",
    "    trend.append(y.text)\n",
    "#inserting first rate\n",
    "trend.insert(0,tr.text)\n",
    "rat=trend[0:10]\n",
    "rat"
   ]
  },
  {
   "cell_type": "code",
   "execution_count": null,
   "id": "2450a690",
   "metadata": {},
   "outputs": [],
   "source": [
    "#dataframe\n",
    "bowler=pd.DataFrame({'Bowler':nam,'Team':team,'Rating':rat})"
   ]
  },
  {
   "cell_type": "code",
   "execution_count": null,
   "id": "5ed8dfa2",
   "metadata": {},
   "outputs": [],
   "source": [
    "bowler"
   ]
  },
  {
   "cell_type": "markdown",
   "id": "6fb45f78",
   "metadata": {},
   "source": [
    "# Women's Cricket Rankings"
   ]
  },
  {
   "cell_type": "markdown",
   "id": "bd52d9ba",
   "metadata": {},
   "source": [
    "Team rankings"
   ]
  },
  {
   "cell_type": "code",
   "execution_count": null,
   "id": "a0c6d1e3",
   "metadata": {},
   "outputs": [],
   "source": [
    "get_data=requests.get('https://www.icc-cricket.com/rankings/womens/team-rankings/odi')"
   ]
  },
  {
   "cell_type": "code",
   "execution_count": null,
   "id": "dd90accd",
   "metadata": {},
   "outputs": [],
   "source": [
    "get_data"
   ]
  },
  {
   "cell_type": "code",
   "execution_count": null,
   "id": "2094d4d2",
   "metadata": {},
   "outputs": [],
   "source": [
    "data=bs(get_data.content)"
   ]
  },
  {
   "cell_type": "code",
   "execution_count": null,
   "id": "1f6ed5af",
   "metadata": {},
   "outputs": [],
   "source": [
    "#first team name\n",
    "first_pos=data.find('span',class_='u-hide-phablet')\n",
    "t=first_pos.text\n",
    "t"
   ]
  },
  {
   "cell_type": "code",
   "execution_count": null,
   "id": "944b5b89",
   "metadata": {},
   "outputs": [],
   "source": [
    "#first team's matches\n",
    "first_mat=data.find('td',class_='rankings-block__banner--matches')\n",
    "x=first_mat.text\n",
    "x"
   ]
  },
  {
   "cell_type": "code",
   "execution_count": null,
   "id": "cf6fa9ab",
   "metadata": {},
   "outputs": [],
   "source": [
    "#first team's points\n",
    "first_poi=data.find('td',class_='rankings-block__banner--points')\n",
    "p=first_poi.text\n",
    "p"
   ]
  },
  {
   "cell_type": "code",
   "execution_count": null,
   "id": "77b6b6aa",
   "metadata": {},
   "outputs": [],
   "source": [
    "#first team's rating\n",
    "first_rate=data.find('td',class_='rankings-block__banner--rating u-text-right')\n",
    "f=first_rate.text.replace('\\n','')\n",
    "g=f.lstrip()\n",
    "g"
   ]
  },
  {
   "cell_type": "code",
   "execution_count": null,
   "id": "6ce2b0dc",
   "metadata": {},
   "outputs": [],
   "source": [
    "#teams names\n",
    "wom=[]\n",
    "\n",
    "for y in data.find_all('span',class_='u-hide-phablet'):\n",
    "    wom.append(y.text)\n",
    "tea=wom[0:10]\n",
    "tea"
   ]
  },
  {
   "cell_type": "code",
   "execution_count": null,
   "id": "c2c048dd",
   "metadata": {},
   "outputs": [],
   "source": [
    "#number of matches and points\n",
    "mat=[]\n",
    "\n",
    "for m in data.find_all('td',class_='table-body__cell u-center-text'):\n",
    "    mat.append(m.text)\n",
    "#inserting first team's match   \n",
    "mat.insert(0,x)\n",
    "mat.insert(1,p)\n",
    "mat"
   ]
  },
  {
   "cell_type": "code",
   "execution_count": null,
   "id": "36a75c5d",
   "metadata": {},
   "outputs": [],
   "source": [
    "#taking the team's number of matches\n",
    "matches=mat[0:20:2]\n",
    "matches"
   ]
  },
  {
   "cell_type": "code",
   "execution_count": null,
   "id": "e49c63c8",
   "metadata": {},
   "outputs": [],
   "source": [
    "#taking the points of the team\n",
    "point=mat[1:20:2]\n",
    "point"
   ]
  },
  {
   "cell_type": "code",
   "execution_count": null,
   "id": "c1584da6",
   "metadata": {},
   "outputs": [],
   "source": [
    "#team rating\n",
    "ex=[]\n",
    "\n",
    "for c in data.find_all('td',class_='table-body__cell u-text-right rating'):\n",
    "    ex.append(c.text)\n",
    "#inserting first team's rating    \n",
    "ex.insert(0,g)\n",
    "ex"
   ]
  },
  {
   "cell_type": "code",
   "execution_count": null,
   "id": "591180c2",
   "metadata": {},
   "outputs": [],
   "source": [
    "#dataframe\n",
    "trank=pd.DataFrame({'Team':tea,'Matches':matches,'Points':point,'Rating':ex})"
   ]
  },
  {
   "cell_type": "code",
   "execution_count": null,
   "id": "c6044934",
   "metadata": {},
   "outputs": [],
   "source": [
    "trank"
   ]
  },
  {
   "cell_type": "markdown",
   "id": "87ebdd63",
   "metadata": {},
   "source": [
    "Women Batting Rankings"
   ]
  },
  {
   "cell_type": "code",
   "execution_count": null,
   "id": "35a65b22",
   "metadata": {},
   "outputs": [],
   "source": [
    "post_data=requests.get('https://www.icc-cricket.com/rankings/womens/player-rankings/odi/batting')"
   ]
  },
  {
   "cell_type": "code",
   "execution_count": null,
   "id": "eb981a91",
   "metadata": {},
   "outputs": [],
   "source": [
    "post_data"
   ]
  },
  {
   "cell_type": "code",
   "execution_count": null,
   "id": "0cba7f32",
   "metadata": {},
   "outputs": [],
   "source": [
    "batt=bs(post_data.content)"
   ]
  },
  {
   "cell_type": "code",
   "execution_count": null,
   "id": "024e8d9d",
   "metadata": {},
   "outputs": [],
   "source": [
    "#name of first ranker\n",
    "vi=batt.find('div',class_='rankings-block__banner--name-large')\n",
    "fir=vi.text\n",
    "fir"
   ]
  },
  {
   "cell_type": "code",
   "execution_count": null,
   "id": "1a29f296",
   "metadata": {},
   "outputs": [],
   "source": [
    "#first ranker's team\n",
    "vi1=batt.find('div',class_='rankings-block__banner--nationality')\n",
    "one=vi1.text.replace('\\n','')\n",
    "one"
   ]
  },
  {
   "cell_type": "code",
   "execution_count": null,
   "id": "ca675ffd",
   "metadata": {},
   "outputs": [],
   "source": [
    "#first rating\n",
    "air=batt.find('div',class_='rankings-block__banner--rating')\n",
    "bus=air.text\n",
    "bus"
   ]
  },
  {
   "cell_type": "code",
   "execution_count": null,
   "id": "8e464e8d",
   "metadata": {},
   "outputs": [],
   "source": [
    "liz=[]\n",
    "\n",
    "for u in batt.find_all('td',class_='table-body__cell rankings-table__name name'):\n",
    "    liz.append(u.text.replace('\\n',''))\n",
    "#inserting name of first player\n",
    "liz.insert(0,fir)\n",
    "ran=liz[0:10]\n",
    "ran"
   ]
  },
  {
   "cell_type": "code",
   "execution_count": null,
   "id": "0382289b",
   "metadata": {},
   "outputs": [],
   "source": [
    "sa=[]\n",
    "\n",
    "for o in batt.find_all('span',class_='table-body__logo-text'):\n",
    "    sa.append(o.text)\n",
    "#inserting first team    \n",
    "sa.insert(0,one)\n",
    "te=sa[0:10]\n",
    "te"
   ]
  },
  {
   "cell_type": "code",
   "execution_count": null,
   "id": "827309cb",
   "metadata": {},
   "outputs": [],
   "source": [
    "ra=[]\n",
    "\n",
    "for n in batt.find_all('td',class_='table-body__cell rating'):\n",
    "    ra.append(n.text)\n",
    "#inserting first rating\n",
    "ra.insert(0,bus)\n",
    "ratings=ra[0:10]\n",
    "ratings"
   ]
  },
  {
   "cell_type": "code",
   "execution_count": null,
   "id": "eb6e7d95",
   "metadata": {},
   "outputs": [],
   "source": [
    "#dataframe\n",
    "batra=pd.DataFrame({'Player':ran,'Team':te,'Rating':ratings})"
   ]
  },
  {
   "cell_type": "code",
   "execution_count": null,
   "id": "e96f0938",
   "metadata": {},
   "outputs": [],
   "source": [
    "batra"
   ]
  },
  {
   "cell_type": "markdown",
   "id": "ebd68e83",
   "metadata": {},
   "source": [
    "Allrounder Rankings"
   ]
  },
  {
   "cell_type": "code",
   "execution_count": null,
   "id": "646d75b3",
   "metadata": {},
   "outputs": [],
   "source": [
    "pre=requests.get('https://www.icc-cricket.com/rankings/womens/player-rankings/odi/all-rounder')"
   ]
  },
  {
   "cell_type": "code",
   "execution_count": null,
   "id": "7a44794c",
   "metadata": {},
   "outputs": [],
   "source": [
    "pre"
   ]
  },
  {
   "cell_type": "code",
   "execution_count": null,
   "id": "5569ea11",
   "metadata": {},
   "outputs": [],
   "source": [
    "bun=bs(pre.content)"
   ]
  },
  {
   "cell_type": "code",
   "execution_count": null,
   "id": "f3ec25a3",
   "metadata": {},
   "outputs": [],
   "source": [
    "#first name\n",
    "onn=bun.find('div',class_='rankings-block__banner--name-large')\n",
    "i=onn.text\n",
    "i"
   ]
  },
  {
   "cell_type": "code",
   "execution_count": null,
   "id": "26de0011",
   "metadata": {},
   "outputs": [],
   "source": [
    "#first team\n",
    "ft=bun.find('div',class_='rankings-block__banner--nationality')\n",
    "ui=ft.text.replace('\\n','')\n",
    "ui"
   ]
  },
  {
   "cell_type": "code",
   "execution_count": null,
   "id": "4d457db4",
   "metadata": {},
   "outputs": [],
   "source": [
    "#first rating\n",
    "fr=bun.find('div',class_='rankings-block__banner--rating')\n",
    "er=fr.text\n",
    "er"
   ]
  },
  {
   "cell_type": "code",
   "execution_count": null,
   "id": "8a68383d",
   "metadata": {},
   "outputs": [],
   "source": [
    "naam=[]\n",
    "\n",
    "for z in bun.find_all('td',class_='table-body__cell rankings-table__name name'):\n",
    "    naam.append(z.text.replace('\\n',''))\n",
    "#inserting first name\n",
    "naam.insert(0,i)\n",
    "nm=naam[0:10]\n",
    "nm"
   ]
  },
  {
   "cell_type": "code",
   "execution_count": null,
   "id": "6d0da6b8",
   "metadata": {},
   "outputs": [],
   "source": [
    "fg=[]\n",
    "for p in bun.find_all('span',class_='table-body__logo-text'):\n",
    "    fg.append(p.text)\n",
    "#inserting first team\n",
    "fg.insert(0,ui)\n",
    "hi=fg[0:10]\n",
    "hi"
   ]
  },
  {
   "cell_type": "code",
   "execution_count": null,
   "id": "556435c4",
   "metadata": {},
   "outputs": [],
   "source": [
    "me=[]\n",
    "\n",
    "for uh in bun.find_all('td',class_='table-body__cell rating'):\n",
    "    me.append(uh.text)\n",
    "me.insert(0,er)\n",
    "me\n",
    "we=me[0:10]\n",
    "we"
   ]
  },
  {
   "cell_type": "code",
   "execution_count": null,
   "id": "759ab534",
   "metadata": {},
   "outputs": [],
   "source": [
    "#dataframe\n",
    "allround=pd.DataFrame({'Player':nm,'Team':hi,'Rating':we})"
   ]
  },
  {
   "cell_type": "code",
   "execution_count": null,
   "id": "493c219b",
   "metadata": {},
   "outputs": [],
   "source": [
    "allround"
   ]
  },
  {
   "cell_type": "markdown",
   "id": "9c4172a9",
   "metadata": {},
   "source": [
    "# Mobile Phones under 20000"
   ]
  },
  {
   "cell_type": "code",
   "execution_count": null,
   "id": "ea8ed6c6",
   "metadata": {},
   "outputs": [],
   "source": [
    "url=('https://www.amazon.in/s?k=mobile+phones+under+20000+rupees&crid=1C582EFIQSUFY&sprefix=mobile+phones+under+20000%2Caps%2C372&ref=nb_sb_ss_ts-doa-p_3_25')"
   ]
  },
  {
   "cell_type": "code",
   "execution_count": null,
   "id": "db638a8c",
   "metadata": {},
   "outputs": [],
   "source": [
    "amz=requests.get(url)"
   ]
  },
  {
   "cell_type": "code",
   "execution_count": null,
   "id": "0d8a8460",
   "metadata": {},
   "outputs": [],
   "source": [
    "amz"
   ]
  },
  {
   "cell_type": "markdown",
   "id": "76f94c10",
   "metadata": {},
   "source": [
    "As the response of server is 503 of the webpage. I can't scrape the details from this webpage.I kindly skip this question with your permission."
   ]
  },
  {
   "cell_type": "markdown",
   "id": "6d2cca9c",
   "metadata": {},
   "source": [
    "# House Details"
   ]
  },
  {
   "cell_type": "code",
   "execution_count": null,
   "id": "a25e7e29",
   "metadata": {},
   "outputs": [],
   "source": [
    "url='https://www.nobroker.in/property/sale/bangalore/Electronic%20City?type=BHK4&searchParam=W3sibGF0IjoxMi44N%20DUyMTQ1LCJsb24iOjc3LjY2MDE2OTUsInBsYWNlSWQiOiJDaElKdy1GUWQ0cHNyanNSSGZkYXpnXzhYRW8%20iLCJwbGFjZU5hbWUiOiJFbGVjdHJvbmljIENpdHkifV0=&propertyAge=0&radius=2.0'"
   ]
  },
  {
   "cell_type": "code",
   "execution_count": null,
   "id": "5b3114d8",
   "metadata": {},
   "outputs": [],
   "source": [
    "home=requests.get(url)"
   ]
  },
  {
   "cell_type": "code",
   "execution_count": null,
   "id": "5b2e04c9",
   "metadata": {},
   "outputs": [],
   "source": [
    "home"
   ]
  },
  {
   "cell_type": "code",
   "execution_count": null,
   "id": "d23dddfa",
   "metadata": {},
   "outputs": [],
   "source": [
    "soup=bs(home.content)"
   ]
  },
  {
   "cell_type": "code",
   "execution_count": null,
   "id": "5a526f3d",
   "metadata": {},
   "outputs": [],
   "source": [
    "#house title\n",
    "title=[]\n",
    "\n",
    "for t in soup.find_all('div',class_='nb__sDz3z'):\n",
    "    title.append(t.text.split('|')[0])\n",
    "title"
   ]
  },
  {
   "cell_type": "code",
   "execution_count": null,
   "id": "99921cae",
   "metadata": {},
   "outputs": [],
   "source": [
    "#location\n",
    "loca=[]\n",
    "\n",
    "for lo in soup.find_all('div',class_='nb__2CMjv'):\n",
    "    loca.append(lo.text)\n",
    "loca"
   ]
  },
  {
   "cell_type": "code",
   "execution_count": null,
   "id": "11a14905",
   "metadata": {},
   "outputs": [],
   "source": [
    "#area\n",
    "area=[]\n",
    "\n",
    "for ar in soup.find_all('div',class_='nb__3oNyC'):\n",
    "    area.append(ar.text)\n",
    "    \n",
    "area"
   ]
  },
  {
   "cell_type": "code",
   "execution_count": null,
   "id": "5547e5d4",
   "metadata": {},
   "outputs": [],
   "source": [
    "#emi\n",
    "e=[]\n",
    "\n",
    "for em in soup.find_all('div',class_='font-semi-bold heading-6'):\n",
    "    e.append(em.text)\n",
    "emi=e[1:29:3]\n",
    "emi"
   ]
  },
  {
   "cell_type": "code",
   "execution_count": null,
   "id": "dccd9197",
   "metadata": {},
   "outputs": [],
   "source": [
    "e"
   ]
  },
  {
   "cell_type": "code",
   "execution_count": null,
   "id": "8aacdfc0",
   "metadata": {},
   "outputs": [],
   "source": [
    "#price\n",
    "price=e[2:31:3]\n",
    "price"
   ]
  },
  {
   "cell_type": "code",
   "execution_count": null,
   "id": "1cdbd1ce",
   "metadata": {},
   "outputs": [],
   "source": [
    "print(len(title),len(loca),len(area),len(emi),len(price))"
   ]
  },
  {
   "cell_type": "code",
   "execution_count": null,
   "id": "5d0852f7",
   "metadata": {},
   "outputs": [],
   "source": [
    "#dataframe\n",
    "house_details=pd.DataFrame({'House title':title,'Location':loca,'Area':area,'Emi':emi,'Price':price})"
   ]
  },
  {
   "cell_type": "code",
   "execution_count": null,
   "id": "2c8e3cfd",
   "metadata": {},
   "outputs": [],
   "source": [
    "house_details"
   ]
  },
  {
   "cell_type": "markdown",
   "id": "af0d16c8",
   "metadata": {},
   "source": [
    "# Restaurant Details"
   ]
  },
  {
   "cell_type": "code",
   "execution_count": null,
   "id": "0aef3687",
   "metadata": {},
   "outputs": [],
   "source": [
    "rest=requests.get('https://www.dineout.co.in/delhi-restaurants/buffet-special')"
   ]
  },
  {
   "cell_type": "code",
   "execution_count": null,
   "id": "14a104b1",
   "metadata": {},
   "outputs": [],
   "source": [
    "rest"
   ]
  },
  {
   "cell_type": "code",
   "execution_count": null,
   "id": "94c98ac5",
   "metadata": {},
   "outputs": [],
   "source": [
    "dine=bs(rest.content)"
   ]
  },
  {
   "cell_type": "code",
   "execution_count": null,
   "id": "e1cc13b4",
   "metadata": {},
   "outputs": [],
   "source": [
    "#restaurant names\n",
    "hotel=[]\n",
    "\n",
    "for d in dine.find_all('div',class_='restnt-info cursor'):\n",
    "    hotel.append(d.text)\n",
    "hotel"
   ]
  },
  {
   "cell_type": "code",
   "execution_count": null,
   "id": "8f09fb88",
   "metadata": {},
   "outputs": [],
   "source": [
    "#cuisine\n",
    "cui=[]\n",
    "\n",
    "for c in dine.find_all('span',class_='double-line-ellipsis'):\n",
    "    cui.append(c.text.split('|')[1])\n",
    "cui"
   ]
  },
  {
   "cell_type": "code",
   "execution_count": null,
   "id": "5301cb45",
   "metadata": {},
   "outputs": [],
   "source": [
    "#location\n",
    "loc=[]\n",
    "\n",
    "for l in dine.find_all('div',class_='restnt-loc ellipsis'):\n",
    "    loc.append(l.text)\n",
    "loc\n"
   ]
  },
  {
   "cell_type": "code",
   "execution_count": null,
   "id": "f040bfa3",
   "metadata": {},
   "outputs": [],
   "source": [
    "#first rate\n",
    "fir_rate=dine.find('div',class_='restnt-rating rating-3')\n",
    "o=fir_rate.text\n",
    "o"
   ]
  },
  {
   "cell_type": "code",
   "execution_count": null,
   "id": "e9e9e639",
   "metadata": {},
   "outputs": [],
   "source": [
    "#ratings\n",
    "\n",
    "ratte=[]\n",
    "\n",
    "for u in dine.find_all('div',class_='restnt-rating rating-4'):\n",
    "    ratte.append(u.text)\n",
    "#inserting first rate\n",
    "ratte.insert(0,o)\n",
    "ratte"
   ]
  },
  {
   "cell_type": "code",
   "execution_count": null,
   "id": "654845c0",
   "metadata": {},
   "outputs": [],
   "source": [
    "#image url\n",
    "img=[]\n",
    "\n",
    "for im in dine.find_all('img',class_='no-img'):\n",
    "    img.append(im['data-src'])\n",
    "img\n",
    "    "
   ]
  },
  {
   "cell_type": "code",
   "execution_count": null,
   "id": "1445b185",
   "metadata": {},
   "outputs": [],
   "source": [
    "print(len(hotel),len(cui),len(loc),len(ratte),len(img))"
   ]
  },
  {
   "cell_type": "code",
   "execution_count": null,
   "id": "89b56dc7",
   "metadata": {},
   "outputs": [],
   "source": [
    "#dataframe\n",
    "details=pd.DataFrame({'Restaurant name':hotel,'Cuisine':cui,'Location':loc,'Ratings':ratte,'Image url':img})"
   ]
  },
  {
   "cell_type": "code",
   "execution_count": null,
   "id": "2cd010e7",
   "metadata": {},
   "outputs": [],
   "source": [
    "details"
   ]
  },
  {
   "cell_type": "markdown",
   "id": "4c3c9663",
   "metadata": {},
   "source": [
    "# Weather Details"
   ]
  },
  {
   "cell_type": "code",
   "execution_count": null,
   "id": "9cf15f12",
   "metadata": {},
   "outputs": [],
   "source": [
    "wea=requests.get('https://en.tutiempo.net/delhi.html?data=last-24-hours')"
   ]
  },
  {
   "cell_type": "code",
   "execution_count": null,
   "id": "90d1778f",
   "metadata": {},
   "outputs": [],
   "source": [
    "wea"
   ]
  },
  {
   "cell_type": "code",
   "execution_count": null,
   "id": "831ddf13",
   "metadata": {},
   "outputs": [],
   "source": [
    "time=bs(wea.content)"
   ]
  },
  {
   "cell_type": "code",
   "execution_count": null,
   "id": "e294a85e",
   "metadata": {},
   "outputs": [],
   "source": [
    "#hour\n",
    "h=[]\n",
    "\n",
    "for ho in time.find_all('td'):\n",
    "    h.append(ho.text)\n",
    "hour=h[18:313:6]\n",
    "hour"
   ]
  },
  {
   "cell_type": "code",
   "execution_count": null,
   "id": "0cc5f7cc",
   "metadata": {},
   "outputs": [],
   "source": [
    "len(hour)"
   ]
  },
  {
   "cell_type": "code",
   "execution_count": null,
   "id": "d6da446f",
   "metadata": {},
   "outputs": [],
   "source": [
    "#temperature\n",
    "\n",
    "temp=[]\n",
    "for t in time.find_all('td',class_='t Temp'):\n",
    "    temp.append(t.text)\n",
    "temp"
   ]
  },
  {
   "cell_type": "code",
   "execution_count": null,
   "id": "67a1558d",
   "metadata": {},
   "outputs": [],
   "source": [
    "#wind\n",
    "wind=[]\n",
    "\n",
    "for wi in time.find_all('td',class_='wind'):\n",
    "    wind.append(wi.text)\n",
    "wind"
   ]
  },
  {
   "cell_type": "code",
   "execution_count": null,
   "id": "f87759bb",
   "metadata": {},
   "outputs": [],
   "source": [
    "#weather condition\n",
    "wc=[]\n",
    "\n",
    "for w in time.find_all ('td',class_='t Temp'):\n",
    "\n",
    "    if w.previous_sibling is not None:\n",
    "\n",
    "        wc.append(w.previous_sibling.text)\n",
    "\n",
    "    else:\n",
    "\n",
    "        wc.append(' ')\n",
    "\n",
    "wc"
   ]
  },
  {
   "cell_type": "code",
   "execution_count": null,
   "id": "af0ebebd",
   "metadata": {},
   "outputs": [],
   "source": [
    "#humidity\n",
    "hum=[]\n",
    "\n",
    "for hm in time.find_all('td',class_='hr'):\n",
    "    hum.append(hm.text)\n",
    "hum"
   ]
  },
  {
   "cell_type": "code",
   "execution_count": null,
   "id": "483a3a31",
   "metadata": {},
   "outputs": [],
   "source": [
    "#pressure\n",
    "press=[]\n",
    "\n",
    "for pr in time.find_all('td',class_='prob'):\n",
    "    press.append(pr.text)\n",
    "press"
   ]
  },
  {
   "cell_type": "code",
   "execution_count": null,
   "id": "725e753c",
   "metadata": {},
   "outputs": [],
   "source": [
    "print(len(hour),len(wind),len(temp),len(hum),len(press),len(wc))"
   ]
  },
  {
   "cell_type": "code",
   "execution_count": null,
   "id": "6d94577f",
   "metadata": {},
   "outputs": [],
   "source": [
    "#dataframe\n",
    "weather=pd.DataFrame({'Hour':hour,'Temperature':temp,'Wind':wind,'Weather Condition':wc,'Humidity':hum,'Pressure':press})"
   ]
  },
  {
   "cell_type": "code",
   "execution_count": null,
   "id": "892195f5",
   "metadata": {},
   "outputs": [],
   "source": [
    "weather"
   ]
  },
  {
   "cell_type": "markdown",
   "id": "4e42885e",
   "metadata": {},
   "source": [
    "# Monuments"
   ]
  },
  {
   "cell_type": "code",
   "execution_count": null,
   "id": "3787be2f",
   "metadata": {},
   "outputs": [],
   "source": [
    "monu=requests.get('https://www.puredestinations.co.uk/top-10-famous-monuments-to-visit-in-india/')"
   ]
  },
  {
   "cell_type": "code",
   "execution_count": null,
   "id": "f4138e68",
   "metadata": {},
   "outputs": [],
   "source": [
    "monu"
   ]
  },
  {
   "cell_type": "code",
   "execution_count": null,
   "id": "aa1d534f",
   "metadata": {},
   "outputs": [],
   "source": [
    "taj=bs(monu.content)"
   ]
  },
  {
   "cell_type": "code",
   "execution_count": null,
   "id": "f260defb",
   "metadata": {},
   "outputs": [],
   "source": [
    "#monument names\n",
    "names=[]\n",
    "for mn in taj.find_all('strong'):\n",
    "    names.append(mn.text)\n",
    "names.pop(10)\n",
    "len(names)"
   ]
  },
  {
   "cell_type": "code",
   "execution_count": null,
   "id": "1809a697",
   "metadata": {},
   "outputs": [],
   "source": [
    "names"
   ]
  },
  {
   "cell_type": "code",
   "execution_count": null,
   "id": "b259487d",
   "metadata": {},
   "outputs": [],
   "source": [
    "#monument description\n",
    "desc=[]\n",
    "\n",
    "for de in taj.find_all('p'):\n",
    "    desc.append(de.text.replace(',',''))\n",
    "description=desc[5:33:3]\n",
    "description"
   ]
  },
  {
   "cell_type": "code",
   "execution_count": null,
   "id": "64b65b6c",
   "metadata": {},
   "outputs": [],
   "source": [
    "#image url\n",
    "img = []\n",
    "\n",
    "for i in taj.find_all('img'):\n",
    "    img.append(i['src'])\n",
    "images=img[6:-5:2]\n",
    "images"
   ]
  },
  {
   "cell_type": "code",
   "execution_count": null,
   "id": "9e028503",
   "metadata": {},
   "outputs": [],
   "source": [
    "print(len(names),len(description),len(images))"
   ]
  },
  {
   "cell_type": "code",
   "execution_count": null,
   "id": "5cbb3e08",
   "metadata": {},
   "outputs": [],
   "source": [
    "#dataframe\n",
    "monument=pd.DataFrame({'Monument Name':names,'Monument Description':description,'Image Url':images})"
   ]
  },
  {
   "cell_type": "code",
   "execution_count": null,
   "id": "35c968b8",
   "metadata": {},
   "outputs": [],
   "source": [
    "monument"
   ]
  }
 ],
 "metadata": {
  "kernelspec": {
   "display_name": "Python 3",
   "language": "python",
   "name": "python3"
  },
  "language_info": {
   "codemirror_mode": {
    "name": "ipython",
    "version": 3
   },
   "file_extension": ".py",
   "mimetype": "text/x-python",
   "name": "python",
   "nbconvert_exporter": "python",
   "pygments_lexer": "ipython3",
   "version": "3.8.8"
  }
 },
 "nbformat": 4,
 "nbformat_minor": 5
}
