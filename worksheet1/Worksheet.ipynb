{
 "cells": [
  {
   "cell_type": "markdown",
   "id": "dc89cd6d",
   "metadata": {},
   "source": [
    "# To find factorial of a number"
   ]
  },
  {
   "cell_type": "code",
   "execution_count": 1,
   "id": "a59c7375",
   "metadata": {},
   "outputs": [],
   "source": [
    "from math import factorial"
   ]
  },
  {
   "cell_type": "code",
   "execution_count": 2,
   "id": "f7ff19f1",
   "metadata": {},
   "outputs": [
    {
     "name": "stdout",
     "output_type": "stream",
     "text": [
      "Enter any number \t6\n",
      "Factorial of number is: 720\n"
     ]
    }
   ],
   "source": [
    "num=int(input(\"Enter any number \\t\"))\n",
    "print(\"Factorial of number is:\",factorial(num))"
   ]
  },
  {
   "cell_type": "markdown",
   "id": "58fc46dd",
   "metadata": {},
   "source": [
    "# To find whether the number Prime,Composite Numbers"
   ]
  },
  {
   "cell_type": "code",
   "execution_count": 3,
   "id": "4141676a",
   "metadata": {},
   "outputs": [
    {
     "name": "stdout",
     "output_type": "stream",
     "text": [
      "Enter a number5\n"
     ]
    }
   ],
   "source": [
    "num=int(input(\"Enter a number\"))"
   ]
  },
  {
   "cell_type": "code",
   "execution_count": 4,
   "id": "55f286c6",
   "metadata": {},
   "outputs": [
    {
     "name": "stdout",
     "output_type": "stream",
     "text": [
      "5 is prime number\n"
     ]
    }
   ],
   "source": [
    "if num>1:\n",
    "    for i in range(2,num):\n",
    "        if(num%i) == 0:\n",
    "            print(num,\"is composite number\")\n",
    "            break\n",
    "            \n",
    "    else:\n",
    "        print(num,\"is prime number\")\n",
    "            "
   ]
  },
  {
   "cell_type": "markdown",
   "id": "c4fa77b5",
   "metadata": {},
   "source": [
    "# Palindrome of string"
   ]
  },
  {
   "cell_type": "code",
   "execution_count": 5,
   "id": "883a16c6",
   "metadata": {},
   "outputs": [
    {
     "name": "stdout",
     "output_type": "stream",
     "text": [
      "Enter a string \tdad\n"
     ]
    }
   ],
   "source": [
    "string=input(\"Enter a string \\t\")"
   ]
  },
  {
   "cell_type": "code",
   "execution_count": 6,
   "id": "7036a4b2",
   "metadata": {},
   "outputs": [
    {
     "name": "stdout",
     "output_type": "stream",
     "text": [
      "String is palindrome\n"
     ]
    }
   ],
   "source": [
    "if(string==string[::-1]):\n",
    "    print('String is palindrome')\n",
    "else:\n",
    "    print(\"String is not palindrome\")"
   ]
  },
  {
   "cell_type": "markdown",
   "id": "12176be6",
   "metadata": {},
   "source": [
    "# To find Third side of right-angled triangle"
   ]
  },
  {
   "cell_type": "code",
   "execution_count": 7,
   "id": "4b2f7456",
   "metadata": {},
   "outputs": [],
   "source": [
    "from math import sqrt"
   ]
  },
  {
   "cell_type": "code",
   "execution_count": 8,
   "id": "f80f29cd",
   "metadata": {},
   "outputs": [
    {
     "name": "stdout",
     "output_type": "stream",
     "text": [
      "a:6\n",
      "b:7\n",
      "The length of Third side is: 9.219544457292887\n"
     ]
    }
   ],
   "source": [
    "a=float(input(\"a:\"))\n",
    "b=float(input(\"b:\"))\n",
    "c=sqrt(a**2+b**2)\n",
    "print(\"The length of Third side is:\",c)   #applying pythagorous theorem"
   ]
  },
  {
   "cell_type": "markdown",
   "id": "24663908",
   "metadata": {},
   "source": [
    "# To find frequency of each word of a string"
   ]
  },
  {
   "cell_type": "code",
   "execution_count": 9,
   "id": "b3e4e08d",
   "metadata": {},
   "outputs": [
    {
     "name": "stdout",
     "output_type": "stream",
     "text": [
      "Enter the string \tminhaj\n"
     ]
    }
   ],
   "source": [
    "string=input(\"Enter the string \\t\")"
   ]
  },
  {
   "cell_type": "code",
   "execution_count": 10,
   "id": "4e158589",
   "metadata": {},
   "outputs": [],
   "source": [
    "frequency={}\n",
    "\n",
    "for i in string:\n",
    "    if i in frequency:\n",
    "        frequency[i]=frequency[i]+1\n",
    "    else:\n",
    "        frequency[i] = 1"
   ]
  },
  {
   "cell_type": "code",
   "execution_count": 11,
   "id": "799014ba",
   "metadata": {},
   "outputs": [
    {
     "name": "stdout",
     "output_type": "stream",
     "text": [
      "Frequency of each word of string is {'m': 1, 'i': 1, 'n': 1, 'h': 1, 'a': 1, 'j': 1}\n"
     ]
    }
   ],
   "source": [
    "print(\"Frequency of each word of string is\",frequency)"
   ]
  }
 ],
 "metadata": {
  "kernelspec": {
   "display_name": "Python 3",
   "language": "python",
   "name": "python3"
  },
  "language_info": {
   "codemirror_mode": {
    "name": "ipython",
    "version": 3
   },
   "file_extension": ".py",
   "mimetype": "text/x-python",
   "name": "python",
   "nbconvert_exporter": "python",
   "pygments_lexer": "ipython3",
   "version": "3.8.8"
  }
 },
 "nbformat": 4,
 "nbformat_minor": 5
}
